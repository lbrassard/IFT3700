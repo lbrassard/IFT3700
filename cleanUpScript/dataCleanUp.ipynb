{
 "cells": [
  {
   "cell_type": "code",
   "execution_count": 130,
   "id": "initial_id",
   "metadata": {
    "collapsed": true,
    "ExecuteTime": {
     "end_time": "2023-12-02T18:29:12.846908407Z",
     "start_time": "2023-12-02T18:29:12.766683753Z"
    }
   },
   "outputs": [],
   "source": [
    "import pandas as pd\n",
    "import numpy as np\n",
    "import os"
   ]
  },
  {
   "cell_type": "code",
   "execution_count": 131,
   "outputs": [],
   "source": [
    "fileName='1 - List of countries by GDP (nominal) per capita.csv'\n",
    "df=pd.read_csv('../rawData/'+fileName)"
   ],
   "metadata": {
    "collapsed": false,
    "ExecuteTime": {
     "end_time": "2023-12-02T18:29:12.851642830Z",
     "start_time": "2023-12-02T18:29:12.813379955Z"
    }
   },
   "id": "36642c0ef36a730c"
  },
  {
   "cell_type": "code",
   "execution_count": 132,
   "outputs": [
    {
     "data": {
      "text/plain": "   Country/Territory  UN Region IMF[4][5] IMF[4][5].1 World Bank[6]  \\\n0  Country/Territory  UN Region  Estimate        Year      Estimate   \n1                NaN        NaN       NaN         NaN           NaN   \n2             Monaco     Europe         —           —        234317   \n3      Liechtenstein     Europe         —           —        184083   \n4         Luxembourg     Europe    135605        2023        126426   \n\n  World Bank[6].1 United Nations[7] United Nations[7].1  \n0            Year          Estimate                Year  \n1             NaN               NaN                 NaN  \n2            2021            234317                2021  \n3            2021            169260                2021  \n4            2022            133745                2021  ",
      "text/html": "<div>\n<style scoped>\n    .dataframe tbody tr th:only-of-type {\n        vertical-align: middle;\n    }\n\n    .dataframe tbody tr th {\n        vertical-align: top;\n    }\n\n    .dataframe thead th {\n        text-align: right;\n    }\n</style>\n<table border=\"1\" class=\"dataframe\">\n  <thead>\n    <tr style=\"text-align: right;\">\n      <th></th>\n      <th>Country/Territory</th>\n      <th>UN Region</th>\n      <th>IMF[4][5]</th>\n      <th>IMF[4][5].1</th>\n      <th>World Bank[6]</th>\n      <th>World Bank[6].1</th>\n      <th>United Nations[7]</th>\n      <th>United Nations[7].1</th>\n    </tr>\n  </thead>\n  <tbody>\n    <tr>\n      <th>0</th>\n      <td>Country/Territory</td>\n      <td>UN Region</td>\n      <td>Estimate</td>\n      <td>Year</td>\n      <td>Estimate</td>\n      <td>Year</td>\n      <td>Estimate</td>\n      <td>Year</td>\n    </tr>\n    <tr>\n      <th>1</th>\n      <td>NaN</td>\n      <td>NaN</td>\n      <td>NaN</td>\n      <td>NaN</td>\n      <td>NaN</td>\n      <td>NaN</td>\n      <td>NaN</td>\n      <td>NaN</td>\n    </tr>\n    <tr>\n      <th>2</th>\n      <td>Monaco</td>\n      <td>Europe</td>\n      <td>—</td>\n      <td>—</td>\n      <td>234317</td>\n      <td>2021</td>\n      <td>234317</td>\n      <td>2021</td>\n    </tr>\n    <tr>\n      <th>3</th>\n      <td>Liechtenstein</td>\n      <td>Europe</td>\n      <td>—</td>\n      <td>—</td>\n      <td>184083</td>\n      <td>2021</td>\n      <td>169260</td>\n      <td>2021</td>\n    </tr>\n    <tr>\n      <th>4</th>\n      <td>Luxembourg</td>\n      <td>Europe</td>\n      <td>135605</td>\n      <td>2023</td>\n      <td>126426</td>\n      <td>2022</td>\n      <td>133745</td>\n      <td>2021</td>\n    </tr>\n  </tbody>\n</table>\n</div>"
     },
     "execution_count": 132,
     "metadata": {},
     "output_type": "execute_result"
    }
   ],
   "source": [
    "df.head()"
   ],
   "metadata": {
    "collapsed": false,
    "ExecuteTime": {
     "end_time": "2023-12-02T18:29:12.852270239Z",
     "start_time": "2023-12-02T18:29:12.813564278Z"
    }
   },
   "id": "a1d99e35236796b8"
  },
  {
   "cell_type": "code",
   "execution_count": 133,
   "outputs": [],
   "source": [
    "data=df.copy()"
   ],
   "metadata": {
    "collapsed": false,
    "ExecuteTime": {
     "end_time": "2023-12-02T18:29:12.852408144Z",
     "start_time": "2023-12-02T18:29:12.813748606Z"
    }
   },
   "id": "6605fe064bc63162"
  },
  {
   "cell_type": "code",
   "execution_count": 134,
   "outputs": [],
   "source": [
    "data=data.drop(df.index[0:2])\n",
    "data=data.iloc[:,[0,2,4,6]]\n",
    "data=data.rename(columns={\"IMF[4][5]\":\"IMF\",\"World Bank[6]\":\"WB\",\"United Nations[7]\":\"UN\"})\n",
    "data[[\"IMF\",\"WB\",\"UN\"]]=data[[\"IMF\",\"WB\",\"UN\"]].apply(pd.to_numeric,errors='coerce')"
   ],
   "metadata": {
    "collapsed": false,
    "ExecuteTime": {
     "end_time": "2023-12-02T18:29:12.852517943Z",
     "start_time": "2023-12-02T18:29:12.813874674Z"
    }
   },
   "id": "6db6ebdf7ecb29cb"
  },
  {
   "cell_type": "code",
   "execution_count": 135,
   "outputs": [
    {
     "data": {
      "text/plain": "  Country/Territory       IMF        WB        UN\n2            Monaco       NaN  234317.0  234317.0\n3     Liechtenstein       NaN  184083.0  169260.0\n4        Luxembourg  135605.0  126426.0  133745.0\n5           Bermuda       NaN  118846.0  112653.0\n6           Ireland  112248.0  104039.0  101109.0",
      "text/html": "<div>\n<style scoped>\n    .dataframe tbody tr th:only-of-type {\n        vertical-align: middle;\n    }\n\n    .dataframe tbody tr th {\n        vertical-align: top;\n    }\n\n    .dataframe thead th {\n        text-align: right;\n    }\n</style>\n<table border=\"1\" class=\"dataframe\">\n  <thead>\n    <tr style=\"text-align: right;\">\n      <th></th>\n      <th>Country/Territory</th>\n      <th>IMF</th>\n      <th>WB</th>\n      <th>UN</th>\n    </tr>\n  </thead>\n  <tbody>\n    <tr>\n      <th>2</th>\n      <td>Monaco</td>\n      <td>NaN</td>\n      <td>234317.0</td>\n      <td>234317.0</td>\n    </tr>\n    <tr>\n      <th>3</th>\n      <td>Liechtenstein</td>\n      <td>NaN</td>\n      <td>184083.0</td>\n      <td>169260.0</td>\n    </tr>\n    <tr>\n      <th>4</th>\n      <td>Luxembourg</td>\n      <td>135605.0</td>\n      <td>126426.0</td>\n      <td>133745.0</td>\n    </tr>\n    <tr>\n      <th>5</th>\n      <td>Bermuda</td>\n      <td>NaN</td>\n      <td>118846.0</td>\n      <td>112653.0</td>\n    </tr>\n    <tr>\n      <th>6</th>\n      <td>Ireland</td>\n      <td>112248.0</td>\n      <td>104039.0</td>\n      <td>101109.0</td>\n    </tr>\n  </tbody>\n</table>\n</div>"
     },
     "execution_count": 135,
     "metadata": {},
     "output_type": "execute_result"
    }
   ],
   "source": [
    "data.head()"
   ],
   "metadata": {
    "collapsed": false,
    "ExecuteTime": {
     "end_time": "2023-12-02T18:29:12.852832348Z",
     "start_time": "2023-12-02T18:29:12.813968448Z"
    }
   },
   "id": "51edd7b5cd853f69"
  },
  {
   "cell_type": "code",
   "execution_count": 136,
   "outputs": [
    {
     "name": "stderr",
     "output_type": "stream",
     "text": [
      "/tmp/ipykernel_37607/4123962084.py:1: FutureWarning: Dropping of nuisance columns in DataFrame reductions (with 'numeric_only=None') is deprecated; in a future version this will raise TypeError.  Select only valid columns before calling the reduction.\n",
      "  data['mean']=data.mean(axis=1)\n"
     ]
    },
    {
     "data": {
      "text/plain": "  Country/Territory       IMF        WB        UN           mean\n2            Monaco       NaN  234317.0  234317.0  234317.000000\n3     Liechtenstein       NaN  184083.0  169260.0  176671.500000\n4        Luxembourg  135605.0  126426.0  133745.0  131925.333333\n5           Bermuda       NaN  118846.0  112653.0  115749.500000\n6           Ireland  112248.0  104039.0  101109.0  105798.666667",
      "text/html": "<div>\n<style scoped>\n    .dataframe tbody tr th:only-of-type {\n        vertical-align: middle;\n    }\n\n    .dataframe tbody tr th {\n        vertical-align: top;\n    }\n\n    .dataframe thead th {\n        text-align: right;\n    }\n</style>\n<table border=\"1\" class=\"dataframe\">\n  <thead>\n    <tr style=\"text-align: right;\">\n      <th></th>\n      <th>Country/Territory</th>\n      <th>IMF</th>\n      <th>WB</th>\n      <th>UN</th>\n      <th>mean</th>\n    </tr>\n  </thead>\n  <tbody>\n    <tr>\n      <th>2</th>\n      <td>Monaco</td>\n      <td>NaN</td>\n      <td>234317.0</td>\n      <td>234317.0</td>\n      <td>234317.000000</td>\n    </tr>\n    <tr>\n      <th>3</th>\n      <td>Liechtenstein</td>\n      <td>NaN</td>\n      <td>184083.0</td>\n      <td>169260.0</td>\n      <td>176671.500000</td>\n    </tr>\n    <tr>\n      <th>4</th>\n      <td>Luxembourg</td>\n      <td>135605.0</td>\n      <td>126426.0</td>\n      <td>133745.0</td>\n      <td>131925.333333</td>\n    </tr>\n    <tr>\n      <th>5</th>\n      <td>Bermuda</td>\n      <td>NaN</td>\n      <td>118846.0</td>\n      <td>112653.0</td>\n      <td>115749.500000</td>\n    </tr>\n    <tr>\n      <th>6</th>\n      <td>Ireland</td>\n      <td>112248.0</td>\n      <td>104039.0</td>\n      <td>101109.0</td>\n      <td>105798.666667</td>\n    </tr>\n  </tbody>\n</table>\n</div>"
     },
     "execution_count": 136,
     "metadata": {},
     "output_type": "execute_result"
    }
   ],
   "source": [
    "data['mean']=data.mean(axis=1)\n",
    "data.head()"
   ],
   "metadata": {
    "collapsed": false,
    "ExecuteTime": {
     "end_time": "2023-12-02T18:29:12.853249545Z",
     "start_time": "2023-12-02T18:29:12.814130816Z"
    }
   },
   "id": "95b395fc73fdab19"
  },
  {
   "cell_type": "code",
   "execution_count": 137,
   "outputs": [],
   "source": [
    "data=data.iloc[:,[0,4]]"
   ],
   "metadata": {
    "collapsed": false,
    "ExecuteTime": {
     "end_time": "2023-12-02T18:29:12.853369022Z",
     "start_time": "2023-12-02T18:29:12.828644989Z"
    }
   },
   "id": "5e2919292915d40b"
  },
  {
   "cell_type": "code",
   "execution_count": 138,
   "outputs": [
    {
     "data": {
      "text/plain": "  Country/Territory           mean\n2            Monaco  234317.000000\n3     Liechtenstein  176671.500000\n4        Luxembourg  131925.333333\n5           Bermuda  115749.500000\n6           Ireland  105798.666667",
      "text/html": "<div>\n<style scoped>\n    .dataframe tbody tr th:only-of-type {\n        vertical-align: middle;\n    }\n\n    .dataframe tbody tr th {\n        vertical-align: top;\n    }\n\n    .dataframe thead th {\n        text-align: right;\n    }\n</style>\n<table border=\"1\" class=\"dataframe\">\n  <thead>\n    <tr style=\"text-align: right;\">\n      <th></th>\n      <th>Country/Territory</th>\n      <th>mean</th>\n    </tr>\n  </thead>\n  <tbody>\n    <tr>\n      <th>2</th>\n      <td>Monaco</td>\n      <td>234317.000000</td>\n    </tr>\n    <tr>\n      <th>3</th>\n      <td>Liechtenstein</td>\n      <td>176671.500000</td>\n    </tr>\n    <tr>\n      <th>4</th>\n      <td>Luxembourg</td>\n      <td>131925.333333</td>\n    </tr>\n    <tr>\n      <th>5</th>\n      <td>Bermuda</td>\n      <td>115749.500000</td>\n    </tr>\n    <tr>\n      <th>6</th>\n      <td>Ireland</td>\n      <td>105798.666667</td>\n    </tr>\n  </tbody>\n</table>\n</div>"
     },
     "execution_count": 138,
     "metadata": {},
     "output_type": "execute_result"
    }
   ],
   "source": [
    "data.head()"
   ],
   "metadata": {
    "collapsed": false,
    "ExecuteTime": {
     "end_time": "2023-12-02T18:29:12.853932795Z",
     "start_time": "2023-12-02T18:29:12.835368872Z"
    }
   },
   "id": "9f0cf788c94f9578"
  },
  {
   "cell_type": "code",
   "execution_count": 139,
   "outputs": [],
   "source": [
    "data.to_csv(\"../cleanedData/\"+'1-GDP-per-capita.csv', sep=',', index=False)"
   ],
   "metadata": {
    "collapsed": false,
    "ExecuteTime": {
     "end_time": "2023-12-02T18:29:12.900217031Z",
     "start_time": "2023-12-02T18:29:12.840659982Z"
    }
   },
   "id": "7044298a6410a5e8"
  },
  {
   "cell_type": "code",
   "execution_count": 139,
   "outputs": [],
   "source": [],
   "metadata": {
    "collapsed": false,
    "ExecuteTime": {
     "end_time": "2023-12-02T18:29:12.900422830Z",
     "start_time": "2023-12-02T18:29:12.881246354Z"
    }
   },
   "id": "478788af18106462"
  },
  {
   "cell_type": "code",
   "execution_count": 139,
   "outputs": [],
   "source": [],
   "metadata": {
    "collapsed": false,
    "ExecuteTime": {
     "end_time": "2023-12-02T18:29:12.900546011Z",
     "start_time": "2023-12-02T18:29:12.881407607Z"
    }
   },
   "id": "21b3a06b9fdbaf45"
  }
 ],
 "metadata": {
  "kernelspec": {
   "display_name": "Python 3",
   "language": "python",
   "name": "python3"
  },
  "language_info": {
   "codemirror_mode": {
    "name": "ipython",
    "version": 2
   },
   "file_extension": ".py",
   "mimetype": "text/x-python",
   "name": "python",
   "nbconvert_exporter": "python",
   "pygments_lexer": "ipython2",
   "version": "2.7.6"
  }
 },
 "nbformat": 4,
 "nbformat_minor": 5
}
