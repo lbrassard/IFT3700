{
 "cells": [
  {
   "cell_type": "code",
   "execution_count": 326,
   "id": "initial_id",
   "metadata": {
    "collapsed": true,
    "ExecuteTime": {
     "end_time": "2023-12-11T03:46:45.740638473Z",
     "start_time": "2023-12-11T03:46:45.482874448Z"
    }
   },
   "outputs": [],
   "source": [
    "import pandas as pd\n",
    "import numpy as np\n",
    "import os"
   ]
  },
  {
   "cell_type": "code",
   "execution_count": 327,
   "id": "59d0dc054afc152b",
   "metadata": {
    "collapsed": false,
    "ExecuteTime": {
     "end_time": "2023-12-11T03:46:45.773214252Z",
     "start_time": "2023-12-11T03:46:45.729518566Z"
    }
   },
   "outputs": [],
   "source": [
    "fileName='1 - List of countries by GDP (nominal) per capita.csv' \n",
    "df=pd.read_csv('../rawData/'+fileName)\n",
    "data=df.copy()\n",
    "data=data.drop(df.index[0:2]) #1\n",
    "data=data.iloc[:,[0,6]] #1\n",
    "data=data.rename(columns={\"United Nations[7]\":\"UN\"}) #1\n",
    "data[\"Country/Territory\"] = data[\"Country/Territory\"].str.replace(' \\(.*\\)', '', regex=True)\n",
    "data[\"Country/Territory\"] = data[\"Country/Territory\"].drop_duplicates()\n",
    "data[[\"UN\"]]=data[[\"UN\"]].apply(pd.to_numeric,errors='coerce') #1\n",
    "data.to_csv(\"../cleanedData/\"+'1-GDP-per-capita.csv', sep=',', index=False) "
   ]
  },
  {
   "cell_type": "code",
   "execution_count": 328,
   "id": "c3c9968e1533d27f",
   "metadata": {
    "collapsed": false,
    "ExecuteTime": {
     "end_time": "2023-12-11T03:46:45.810182128Z",
     "start_time": "2023-12-11T03:46:45.753508120Z"
    }
   },
   "outputs": [],
   "source": [
    "fileName='2 - List of sovereign states by Internet connection speeds.csv' \n",
    "df=pd.read_csv('../rawData/'+fileName)\n",
    "data=df.copy()\n",
    "data=data.iloc[:,[1,2]]\n",
    "data=data.rename(columns={\"Mediandownloadspeed(Mbit/s)(Ookla)[1]\":\"Ookla\",}) #Assumed median download speed ookla is what avarage speed is refering too as there is no average speed for Ookla\n",
    "data[[\"Ookla\"]]=data[[\"Ookla\"]].apply(pd.to_numeric,errors='coerce') \n",
    "data.to_csv(\"../cleanedData/\"+'2-Internet-speed.csv', sep=',', index=False) "
   ]
  },
  {
   "cell_type": "code",
   "execution_count": 329,
   "id": "ed0c53971c1ebac3",
   "metadata": {
    "collapsed": false,
    "ExecuteTime": {
     "end_time": "2023-12-11T03:46:45.834460754Z",
     "start_time": "2023-12-11T03:46:45.810430091Z"
    }
   },
   "outputs": [],
   "source": [
    "fileName='3 - List of countries by alcohol consumption per capita.csv' \n",
    "df=pd.read_csv('../rawData/'+fileName)\n",
    "data=df.copy()\n",
    "data=data.iloc[:,[0,2]]\n",
    "data=data.rename(columns={\"2016[8]\":\"2016\"}) \n",
    "data['Country'] = data['Country'].str.replace(r'(\\[.*\\])+', '', regex=True) \n",
    "data[[\"2016\"]]=data[[\"2016\"]].apply(pd.to_numeric,errors='coerce')\n",
    "# # Corriger des fautes de frappes\n",
    "data.at[56,'Country'] =\"Estonia\"\n",
    "data.at[57,'Country'] = \"Eswatini\"\n",
    "data.at[100,'Country'] = \"North Macedonia\"\n",
    "data.to_csv(\"../cleanedData/\"+'3-Alcool-Consumption-per-capita.csv', sep=',', index=False) "
   ]
  },
  {
   "cell_type": "code",
   "execution_count": 330,
   "id": "e4b5fd86d4c3ff68",
   "metadata": {
    "collapsed": false,
    "ExecuteTime": {
     "end_time": "2023-12-11T03:46:45.887124625Z",
     "start_time": "2023-12-11T03:46:45.833365661Z"
    }
   },
   "outputs": [],
   "source": [
    "fileName='4 - List of countries by intentional homicide rate.csv' \n",
    "df=pd.read_csv('../rawData/'+fileName)\n",
    "data=df.copy()\n",
    "data[[\"Rate\"]]=data[[\"Rate\"]].apply(pd.to_numeric,errors='coerce') \n",
    "data['Location'] = data['Location'].str.replace('*', '', regex=True) \n",
    "data['Location']= data['Location'].str.strip()\n",
    "data=data.rename(columns={\"Count\":\"Victims-per-100000-habitants\"})\n",
    "data=data.iloc[:,[0,5]]\n",
    "data[\"Location\"] = data[\"Location\"].str.replace(' \\(.*\\)', '', regex=True)\n",
    "data[\"Location\"] = data[\"Location\"].drop_duplicates()\n",
    "data.at[2,'Location']= \"US Virgin Islands\"\n",
    "data.to_csv(\"../cleanedData/\"+'4-Intentional-homicide-rate.csv', sep=',', index=False) "
   ]
  },
  {
   "cell_type": "code",
   "execution_count": 331,
   "id": "65aab336ef1f5751",
   "metadata": {
    "collapsed": false,
    "ExecuteTime": {
     "end_time": "2023-12-11T03:46:45.914062588Z",
     "start_time": "2023-12-11T03:46:45.877093521Z"
    }
   },
   "outputs": [],
   "source": [
    "fileName='5 - List of countries with highest military expenditures.csv' \n",
    "df=pd.read_csv('../rawData/'+fileName)\n",
    "data=df.copy()\n",
    "data=data.drop(data.index[0:1]) # Dropped the world statistic as it's not necessary nor a country\n",
    "data=data.rename(columns={\"% of GDP\":\"percentage-GDP\"}) \n",
    "data[[\"percentage-GDP\"]]=data[[\"percentage-GDP\"]].apply(pd.to_numeric,errors='coerce') \n",
    "data['Country'] = data['Country'].str.replace(r'(\\[.*\\])+', '', regex=True)\n",
    "data=data.iloc[:,[1,3]] \n",
    "data.to_csv(\"../cleanedData/\"+'5-Military-spending.csv', sep=',', index=False)"
   ]
  },
  {
   "cell_type": "code",
   "execution_count": 332,
   "id": "9ade1501d71fc438",
   "metadata": {
    "collapsed": false,
    "ExecuteTime": {
     "end_time": "2023-12-11T03:46:45.984037775Z",
     "start_time": "2023-12-11T03:46:45.891441521Z"
    }
   },
   "outputs": [],
   "source": [
    "fileName='6 - List of countries by Human Development Index.csv' #6\n",
    "df=pd.read_csv('../rawData/'+fileName)\n",
    "df.head()\n",
    "data=df.copy()\n",
    "data=data.drop(data.index[0:1])\n",
    "data=data.iloc[:,[2,3]]  # Assumed 2019 in the instructions is a mistake, took 2021 columns\n",
    "data[[\"HDI\"]]=data[[\"HDI\"]].apply(pd.to_numeric,errors='coerce') #6\n",
    "data.to_csv(\"../cleanedData/\"+'6-Human-development-index.csv', sep=',', index=False) #6"
   ]
  },
  {
   "cell_type": "code",
   "execution_count": 333,
   "id": "553deccb4381aeda",
   "metadata": {
    "collapsed": false,
    "ExecuteTime": {
     "end_time": "2023-12-11T03:46:45.987730711Z",
     "start_time": "2023-12-11T03:46:45.969064212Z"
    }
   },
   "outputs": [],
   "source": [
    "fileName='7 - The Economist Democracy Index.csv' #7\n",
    "df=pd.read_csv('../rawData/'+fileName)\n",
    "data=df.copy()\n",
    "data=data.iloc[:,[2,6]]\n",
    "data[\"2020\"]=data[\"2020\"].apply(pd.to_numeric,errors='coerce')\n",
    "data.to_csv(\"../cleanedData/\"+'7-Democracy-Index.csv', sep=',', index=False) "
   ]
  },
  {
   "cell_type": "code",
   "execution_count": 334,
   "id": "71608b513428df68",
   "metadata": {
    "collapsed": false,
    "ExecuteTime": {
     "end_time": "2023-12-11T03:46:46.051795760Z",
     "start_time": "2023-12-11T03:46:45.989119688Z"
    }
   },
   "outputs": [],
   "source": [
    "fileName='8 - List of countries by tertiary education attainment.csv' #8\n",
    "df=pd.read_csv('../rawData/'+fileName)\n",
    "data=df.copy()\n",
    "data=data.iloc[:,[0,1]]\n",
    "data=data.drop(data.index[0:1])\n",
    "data=data.rename(columns={\"Ages 25–34:\\xa0% equivalent to a degree course lasting at least:\":\"percentage-of-population-with-education-of-2-year-tertiary-degree-or-equivalent\"})\n",
    "data.head()\n",
    "data.to_csv(\"../cleanedData/\"+'8-Tertiary-education.csv', sep=',', index=False)"
   ]
  },
  {
   "cell_type": "code",
   "execution_count": 335,
   "id": "ba6e25c167cea116",
   "metadata": {
    "collapsed": false,
    "ExecuteTime": {
     "end_time": "2023-12-11T03:46:46.095494959Z",
     "start_time": "2023-12-11T03:46:46.052028791Z"
    }
   },
   "outputs": [],
   "source": [
    "fileName='9 - Importance of religion by country.csv' #9\n",
    "df=pd.read_csv('../rawData/'+fileName)\n",
    "data=df.copy()\n",
    "data=data.iloc[:,[0,1]]\n",
    "data=data.rename(columns={\"Yes, important[1]\":\"Yes/Important(%)\"}) \n",
    "data[\"Yes/Important(%)\"] = data[\"Yes/Important(%)\"].str.replace('%', '') \n",
    "data.to_csv(\"../cleanedData/\"+'9-Religion-Importance.csv', sep=',', index=False) "
   ]
  },
  {
   "cell_type": "code",
   "execution_count": 336,
   "id": "ca8643b103d3a612",
   "metadata": {
    "collapsed": false,
    "ExecuteTime": {
     "end_time": "2023-12-11T03:46:46.170833179Z",
     "start_time": "2023-12-11T03:46:46.082814349Z"
    }
   },
   "outputs": [],
   "source": [
    "fileName='10 - Christianity by country.csv' #10\n",
    "df=pd.read_csv('../rawData/'+fileName)\n",
    "data=df.copy()\n",
    "data=data.iloc[:,[0,2]]\n",
    "data=data.rename(columns={\"Country or entity\":\"Country/entity\",\"% Christian\":\"temp\"})\n",
    "data[[\"temp\"]]=data[[\"temp\"]].astype(str)\n",
    "data[\"Country/entity\"] = data[\"Country/entity\"].str.replace(' \\(details\\)', '', regex=True)\n",
    "data[\"temp\"] = data[\"temp\"].str.replace('\\[.*\\]', '', regex=True)\n",
    "data[\"temp\"] = data[\"temp\"].str.replace('\\(.*\\)', '', regex=True)\n",
    "data[\"temp\"] = data[\"temp\"].str.replace('%', '', regex=True)\n",
    "data['Christian(%)'] = [ ((float(x.split('-')[0]) + float(x.split('-')[1]))/2)  if '-' in x else x for x in data['temp']]\n",
    "data[[\"Christian(%)\"]]=data[[\"Christian(%)\"]].apply(pd.to_numeric,errors='coerce') #6\n",
    "data=data.iloc[:,[0,2]]\n",
    "data.at[41,\"Country/entity\"] = \"China\"\n",
    "data.at[99,\"Country/entity\"] = \"North Korea\"\n",
    "data.at[100,\"Country/entity\"] = \"South Korea\"\n",
    "data.to_csv(\"../cleanedData/\"+'10-Christianity-by-country.csv', sep=',', index=False)"
   ]
  },
  {
   "cell_type": "code",
   "execution_count": 337,
   "id": "6c4df1d30b9dafa1",
   "metadata": {
    "collapsed": false,
    "ExecuteTime": {
     "end_time": "2023-12-11T03:46:46.172342Z",
     "start_time": "2023-12-11T03:46:46.153131847Z"
    }
   },
   "outputs": [],
   "source": [
    "fileName=\"11 - Islam by country.csv\"\n",
    "df=pd.read_csv(\"../rawData/\"+fileName)\n",
    "data=df.copy()\n",
    "data=data.iloc[:,[0,3]]\n",
    "data[\"Muslim percentage of total population\"] = data[\"Muslim percentage of total population\"].str.replace('<', '') \n",
    "data.to_csv(\"../cleanedData/\" + \"11 - Islam by country.csv\", sep=\",\",index=False)"
   ]
  },
  {
   "cell_type": "code",
   "execution_count": 338,
   "metadata": {
    "ExecuteTime": {
     "end_time": "2023-12-11T03:46:46.175239596Z",
     "start_time": "2023-12-11T03:46:46.153272215Z"
    }
   },
   "outputs": [],
   "source": [
    "fileName=\"12 - Buddhism by country.csv\"\n",
    "df=pd.read_csv(\"../rawData/\"+fileName, skiprows=1)\n",
    "data = df.copy()\n",
    "data=data.iloc[:,[0,6]]\n",
    "data = data.rename(columns={\"% Buddhist.1\":\"Buddhist (%)\"})\n",
    "data[\"Buddhist (%)\"] = data[\"Buddhist (%)\"].str.replace(\"<\", \"\").str.replace(\"%\",\"\")\n",
    "data[\"Country/Territory\"] = data[\"Country/Territory\"].str.replace(' \\(.*\\)', '', regex=True)\n",
    "data[\"Country/Territory\"] = data[\"Country/Territory\"].drop_duplicates()\n",
    "data.to_csv(\"../cleanedData/\" + \"12 - Buddhism by country.csv\", sep=\",\", index=False)\n"
   ],
   "id": "1e5fb64f650f5ced"
  },
  {
   "cell_type": "code",
   "execution_count": 339,
   "metadata": {
    "ExecuteTime": {
     "end_time": "2023-12-11T03:46:46.214878341Z",
     "start_time": "2023-12-11T03:46:46.159235552Z"
    }
   },
   "outputs": [],
   "source": [
    "df=pd.read_csv(\"../rawData/13 - Jewish population by country.csv\", skiprows=1)\n",
    "data=df.copy()\n",
    "data=data.iloc[1:,[0,2]]\n",
    "data=data.rename(columns={\"pct\": \"Jewish (%)\"})\n",
    "data[\"Countries\"]=data[\"Countries\"].str.replace(\"\\[[a-zA-Z]+\\]\",\"\",regex=True)\n",
    "data.to_csv(\"../cleanedData/\" + \"13 - Jewish population by country.csv\",sep=\",\",index=False)"
   ],
   "id": "4a8ab87ff595900d"
  },
  {
   "cell_type": "code",
   "execution_count": 340,
   "metadata": {
    "ExecuteTime": {
     "end_time": "2023-12-11T03:46:46.248057894Z",
     "start_time": "2023-12-11T03:46:46.215232911Z"
    }
   },
   "outputs": [
    {
     "name": "stderr",
     "output_type": "stream",
     "text": [
      "/tmp/ipykernel_69394/1716987820.py:3: FutureWarning: The default value of regex will change from True to False in a future version. In addition, single character regular expressions will *not* be treated as literal strings when regex=True.\n",
      "  data[\"Location\"]=data[\"Location\"].str.replace(\" \",\"\").str.replace(\"*\",\"\")\n"
     ]
    }
   ],
   "source": [
    "df=pd.read_csv(\"../rawData/14 - List of countries by infant and under-five mortality rates.csv\")\n",
    "data=df.copy()\n",
    "data[\"Location\"]=data[\"Location\"].str.replace(\" \",\"\").str.replace(\"*\",\"\")\n",
    "data[\"Location\"] = data[\"Location\"].str.replace(' \\(.*\\)', '', regex=True)\n",
    "data[\"Location\"] = data[\"Location\"].drop_duplicates()\n",
    "data.to_csv(\"../cleanedData/\" + \"14 - List of countries by infant and under-five mortality rates.csv\",sep=\",\",index=False)"
   ],
   "id": "1819e71fe7183a0f"
  },
  {
   "cell_type": "code",
   "execution_count": 341,
   "metadata": {
    "ExecuteTime": {
     "end_time": "2023-12-11T03:46:46.286219962Z",
     "start_time": "2023-12-11T03:46:46.246188290Z"
    }
   },
   "outputs": [],
   "source": [
    "df=pd.read_csv(\"../rawData/15 - Age of criminal responsibility.csv\")\n",
    "data=df.copy()\n",
    "data=data.iloc[:,[0,1]]\n",
    "data = data.rename(columns={\"Age (reduced)[a]\":\"Age of criminal responsibility\"})\n",
    "\n"
   ],
   "id": "70d4a980042de7e"
  },
  {
   "cell_type": "markdown",
   "metadata": {},
   "source": [
    "Quand il y a plusieurs ages je prend le plancher du milieu."
   ],
   "id": "b26f2c59cd51ec1f"
  },
  {
   "cell_type": "code",
   "execution_count": 342,
   "metadata": {
    "ExecuteTime": {
     "end_time": "2023-12-11T03:46:46.324349805Z",
     "start_time": "2023-12-11T03:46:46.284903655Z"
    }
   },
   "outputs": [],
   "source": [
    "data[\"Age of criminal responsibility\"] = data[\"Age of criminal responsibility\"].replace([\"10/14\", \"13/14-15\",\"9 (girls), 15 (boys)\", \"12/16-21\", \"14/15\", \"12/14\", \"10/12\"],[\"12\", \"14\", \"12\", \"16\", \"14\", \"13\", \"11\"])\n",
    "data.to_csv(\"../cleanedData/\" + \"15 - Age of criminal responsibility.csv\",sep=\",\",index=False)"
   ],
   "id": "8572c3c88a482faf"
  },
  {
   "cell_type": "code",
   "execution_count": 343,
   "metadata": {
    "ExecuteTime": {
     "end_time": "2023-12-11T03:46:46.374014299Z",
     "start_time": "2023-12-11T03:46:46.322987870Z"
    }
   },
   "outputs": [],
   "source": [
    "df=pd.read_csv(\"../rawData/16 - List of countries by minimum wage.csv\", skiprows=1)\n",
    "data=df.copy()\n",
    "data=data.iloc[1:,[0,2]]\n",
    "data=data.rename(columns={\"Nominal (US$)[6]\":\"Annual minimum wage (US$)\"})\n",
    "data.to_csv(\"../cleanedData/\" + \"16 - List of countries by minimum wage.csv\",sep=\",\",index=False)"
   ],
   "id": "6e2b9d60c3bfe5c4"
  },
  {
   "cell_type": "code",
   "execution_count": 344,
   "metadata": {
    "ExecuteTime": {
     "end_time": "2023-12-11T03:46:46.394791986Z",
     "start_time": "2023-12-11T03:46:46.356995825Z"
    }
   },
   "outputs": [],
   "source": [
    "df=pd.read_csv(\"../rawData/17 - List of countries by external debt.csv\")\n",
    "data=df.copy()\n",
    "data=data.iloc[:,[0,3]]\n",
    "data=data.rename(columns={\"% of GDP\":\"External debt (% of GDP)\"})\n",
    "data.at[95,\"Country/Region\"] = \"Trinidad and Tobago\"\n",
    "data.to_csv(\"../cleanedData/\" + \"17 - List of countries by external debt.csv\",sep=\",\",index=False)"
   ],
   "id": "f0cc250accd9feea"
  },
  {
   "cell_type": "code",
   "execution_count": 345,
   "metadata": {
    "ExecuteTime": {
     "end_time": "2023-12-11T03:46:46.431516089Z",
     "start_time": "2023-12-11T03:46:46.393513201Z"
    }
   },
   "outputs": [],
   "source": [
    "df=pd.read_csv(\"../rawData/18 - List of countries by income equality.csv\", skiprows=1)\n",
    "data=df.copy()\n",
    "data=data.iloc[1:,[0,7]]\n",
    "data=data.rename(columns={\"%\":\"Gini Ratio\"})\n",
    "data.to_csv(\"../cleanedData/\" + \"18 - List of countries by income equality.csv\",sep=\",\",index=False)"
   ],
   "id": "f281b967c6a59797"
  },
  {
   "cell_type": "code",
   "execution_count": 346,
   "metadata": {
    "ExecuteTime": {
     "end_time": "2023-12-11T03:46:46.471106234Z",
     "start_time": "2023-12-11T03:46:46.429897827Z"
    }
   },
   "outputs": [
    {
     "name": "stderr",
     "output_type": "stream",
     "text": [
      "/tmp/ipykernel_69394/3638521583.py:4: FutureWarning: The default value of regex will change from True to False in a future version. In addition, single character regular expressions will *not* be treated as literal strings when regex=True.\n",
      "  data[\"Location\"]=data[\"Location\"].str.replace(\" \",\"\").str.replace(\"*\",\"\")\n"
     ]
    }
   ],
   "source": [
    "df=pd.read_csv(\"../rawData/19 - List of countries by total health expenditure per capita.csv\")\n",
    "data=df.copy()\n",
    "data=data.iloc[:,[0,1]]\n",
    "data[\"Location\"]=data[\"Location\"].str.replace(\" \",\"\").str.replace(\"*\",\"\")\n",
    "data=data.rename(columns={\"2018\":\"Health spending per capita (International dollars)\"})\n",
    "data.to_csv(\"../cleanedData/\" + \"19 - List of countries by total health expenditure per capita.csv\",sep=\",\",index=False)"
   ],
   "id": "4b8ed85f7ccd973a"
  },
  {
   "cell_type": "code",
   "execution_count": 347,
   "metadata": {
    "ExecuteTime": {
     "end_time": "2023-12-11T03:46:46.509151655Z",
     "start_time": "2023-12-11T03:46:46.457349970Z"
    }
   },
   "outputs": [
    {
     "name": "stderr",
     "output_type": "stream",
     "text": [
      "/tmp/ipykernel_69394/2986094012.py:6: FutureWarning: The default value of regex will change from True to False in a future version. In addition, single character regular expressions will *not* be treated as literal strings when regex=True.\n",
      "  data[\"Country\"]=data[\"Country\"].str.replace(\" \",\"\").str.replace(\"*\",\"\")\n"
     ]
    }
   ],
   "source": [
    "df=pd.read_csv(\"../rawData/20 - List of countries by suicide rate.csv\")\n",
    "data=df.copy()\n",
    "data=data.iloc[:,[0,1]]\n",
    "# on ne veux pas les continents\n",
    "data=data.drop(labels=range(181,188),axis=0)\n",
    "data[\"Country\"]=data[\"Country\"].str.replace(\" \",\"\").str.replace(\"*\",\"\")\n",
    "#si le pays se répète on met la moyenne.\n",
    "data=data.groupby(data[\"Country\"]).aggregate({\"All\": \"mean\"})\n",
    "data=data.rename(columns={\"All\":\"Suicide Rate\"})\n",
    "data.to_csv(\"../cleanedData/\" + \"20 - List of countries by suicide rate.csv\",sep=\",\")"
   ],
   "id": "2a59551c13d45f6d"
  },
  {
   "cell_type": "code",
   "execution_count": 348,
   "id": "7ededee4",
   "metadata": {
    "ExecuteTime": {
     "end_time": "2023-12-11T03:46:46.530119864Z",
     "start_time": "2023-12-11T03:46:46.493770104Z"
    }
   },
   "outputs": [],
   "source": [
    "df=pd.read_csv(\"../rawData/21 - List of countries by total fertility rate.csv\")\n",
    "data=df.copy()\n",
    "# Apres la ligne 212 ce n'est plus des pays\n",
    "data=data.iloc[0:211,[1,2]]\n",
    "data[\"Country\"] = data[\"Country\"].str.replace(' \\(.*\\)', '', regex=True)\n",
    "data[\"Country\"][179] = \"Channel Islands\"\n",
    "data.to_csv(\"../cleanedData/\" + \"21 - List of countries by total fertility rate.csv\",sep=\",\",index=False)"
   ]
  },
  {
   "cell_type": "code",
   "execution_count": 349,
   "id": "c94bf6b0",
   "metadata": {
    "ExecuteTime": {
     "end_time": "2023-12-11T03:46:46.593578567Z",
     "start_time": "2023-12-11T03:46:46.528790820Z"
    }
   },
   "outputs": [
    {
     "name": "stderr",
     "output_type": "stream",
     "text": [
      "/tmp/ipykernel_69394/846617537.py:5: FutureWarning: The default value of regex will change from True to False in a future version. In addition, single character regular expressions will *not* be treated as literal strings when regex=True.\n",
      "  data[\"Country\"]=data[\"Country\"].str.replace(\" \",\"\").str.replace(\"*\",\"\")\n"
     ]
    }
   ],
   "source": [
    "df=pd.read_csv(\"../rawData/22 - Tobacco consumption by country.csv\")\n",
    "data=df.copy()\n",
    "data=data.iloc[:,[0,1]]\n",
    "# On voit qu'il y a une * après chaque nom de pays\n",
    "data[\"Country\"]=data[\"Country\"].str.replace(\" \",\"\").str.replace(\"*\",\"\")\n",
    "data.to_csv(\"../cleanedData/\" + \"22 - Tobacco consumption by country.csv\",sep=\",\",index=False)"
   ]
  },
  {
   "cell_type": "code",
   "execution_count": 350,
   "id": "c037df97",
   "metadata": {
    "ExecuteTime": {
     "end_time": "2023-12-11T03:46:46.598244913Z",
     "start_time": "2023-12-11T03:46:46.569092778Z"
    }
   },
   "outputs": [],
   "source": [
    "df=pd.read_csv(\"../rawData/23 - List of countries by obesity rate.csv\")\n",
    "data=df.copy()\n",
    "data.to_csv(\"../cleanedData/\" + \"23 - List of countries by obesity rate.csv\",sep=\",\",index=False)"
   ]
  },
  {
   "cell_type": "code",
   "execution_count": 351,
   "id": "83bc6c5b",
   "metadata": {
    "ExecuteTime": {
     "end_time": "2023-12-11T03:46:46.665304977Z",
     "start_time": "2023-12-11T03:46:46.585192070Z"
    }
   },
   "outputs": [],
   "source": [
    "df=pd.read_csv(\"../rawData/24 - List of countries by number of Internet users.csv\")\n",
    "data=df.copy()\n",
    "data=data.iloc[:,[0,3]]\n",
    "data[\"Country or area\"] = data[\"Country or area\"].str.replace(' \\(.*\\)', '', regex=True)\n",
    "data[\"Country or area\"] = data[\"Country or area\"].drop_duplicates()\n",
    "data.at[70,\"Country or area\"] =\"Hong Kong\"\n",
    "data.at[150,\"Country or area\"] =\"Macau\"\n",
    "data.to_csv(\"../cleanedData/\" + \"24 - List of countries by number of Internet users.csv\",sep=\",\",index=False)"
   ]
  },
  {
   "cell_type": "code",
   "execution_count": 352,
   "id": "16314eb7",
   "metadata": {
    "ExecuteTime": {
     "end_time": "2023-12-11T03:46:46.669408031Z",
     "start_time": "2023-12-11T03:46:46.657150313Z"
    }
   },
   "outputs": [],
   "source": [
    "df=pd.read_csv(\"../rawData/25 - List of countries by median age.csv\")\n",
    "data=df.copy()\n",
    "# Prendre l'année 2020\n",
    "data=data.iloc[2:,[0,3]]\n",
    "data[\"Country/Territory\"] = data[\"Country/Territory\"].str.replace(' \\(.*\\)', '', regex=True)\n",
    "data[\"Country/Territory\"] = data[\"Country/Territory\"].drop_duplicates()\n",
    "data[\"Country/Territory\"][53] = \"Curaçao\"\n",
    "data.to_csv(\"../cleanedData/\" + \"25 - List of countries by median age.csv\",sep=\",\",index=False)"
   ]
  },
  {
   "cell_type": "code",
   "execution_count": 353,
   "id": "cb757734",
   "metadata": {
    "ExecuteTime": {
     "end_time": "2023-12-11T03:46:46.725944728Z",
     "start_time": "2023-12-11T03:46:46.670434203Z"
    }
   },
   "outputs": [],
   "source": [
    "df=pd.read_csv(\"../rawData/26 - List of sovereign states by economic freedom.csv\")\n",
    "data=df.copy()\n",
    "data=data.iloc[:,[1,2]]\n",
    "data[\"Country\"][78] = \"Kyrgyzstan\"\n",
    "data.to_csv(\"../cleanedData/\" + \"26 - List of sovereign states by economic freedom.csv\",sep=\",\",index=False)"
   ]
  },
  {
   "cell_type": "code",
   "execution_count": 354,
   "id": "432a6bcb",
   "metadata": {
    "ExecuteTime": {
     "end_time": "2023-12-11T03:46:46.747589435Z",
     "start_time": "2023-12-11T03:46:46.726384769Z"
    }
   },
   "outputs": [
    {
     "name": "stderr",
     "output_type": "stream",
     "text": [
      "/tmp/ipykernel_69394/2038846672.py:6: FutureWarning: The default value of regex will change from True to False in a future version.\n",
      "  data[\"Country\"]=data[\"Country\"].str.replace(\" \",\"\").str.replace(\" \\(OPEC\\)\",\"\")\n"
     ]
    }
   ],
   "source": [
    "df=pd.read_csv(\"../rawData/27 - List of countries by oil production.csv\")\n",
    "data=df.copy()\n",
    "# Dernière ligne est \"world\"\n",
    "data=data.iloc[:-1,[0,1]]\n",
    "# Remove \"(OPEC)\"\n",
    "data[\"Country\"]=data[\"Country\"].str.replace(\" \",\"\").str.replace(\" \\(OPEC\\)\",\"\")\n",
    "data.to_csv(\"../cleanedData/\" + \"27 - List of countries by oil production.csv\",sep=\",\",index=False)"
   ]
  },
  {
   "cell_type": "code",
   "execution_count": 355,
   "id": "c02d4c6a",
   "metadata": {
    "ExecuteTime": {
     "end_time": "2023-12-11T03:46:46.780606199Z",
     "start_time": "2023-12-11T03:46:46.746291334Z"
    }
   },
   "outputs": [
    {
     "name": "stderr",
     "output_type": "stream",
     "text": [
      "/tmp/ipykernel_69394/3833738828.py:7: FutureWarning: The default value of regex will change from True to False in a future version. In addition, single character regular expressions will *not* be treated as literal strings when regex=True.\n",
      "  data[\"Country (or territory)\"]=data[\"Country (or territory)\"].str.replace(\" \",\"\").str.replace(\"*\",\"\")\n"
     ]
    }
   ],
   "source": [
    "df=pd.read_csv(\"../rawData/28 - List of countries by population growth rate.csv\")\n",
    "data=df.copy()\n",
    "# Les données commencent à la ligne 3 et on ignore les deux premières lignes\n",
    "data=data.iloc[4:,[0,1]]\n",
    "data[\"Country (or territory)\"] = data[\"Country (or territory)\"].str.replace(' \\(.*\\)', '', regex=True)\n",
    "# Remove *\n",
    "data[\"Country (or territory)\"]=data[\"Country (or territory)\"].str.replace(\" \",\"\").str.replace(\"*\",\"\")\n",
    "data.to_csv(\"../cleanedData/\" + \"28 - List of countries by population growth rate.csv\",sep=\",\",index=False)"
   ]
  },
  {
   "cell_type": "code",
   "execution_count": 356,
   "id": "58124d19",
   "metadata": {
    "ExecuteTime": {
     "end_time": "2023-12-11T03:46:46.814580559Z",
     "start_time": "2023-12-11T03:46:46.779305667Z"
    }
   },
   "outputs": [],
   "source": [
    "df=pd.read_csv(\"../rawData/29 - List of countries by life expectancy.csv\")\n",
    "data=df.copy()\n",
    "# Les données commencent à la ligne 4\n",
    "data=data.iloc[2:,[0,1]]\n",
    "data[\"Countries\"][93]=\"Vietnam\"\n",
    "data.to_csv(\"../cleanedData/\" + \"29 - List of countries by life expectancy.csv\",sep=\",\",index=False)"
   ]
  },
  {
   "cell_type": "code",
   "execution_count": 357,
   "id": "8d6d8640",
   "metadata": {
    "ExecuteTime": {
     "end_time": "2023-12-11T03:46:46.863929065Z",
     "start_time": "2023-12-11T03:46:46.813315864Z"
    }
   },
   "outputs": [],
   "source": [
    "df=pd.read_csv(\"../rawData/30 - List of countries by meat consumption.csv\")\n",
    "data=df.copy()\n",
    "# Prendre l'an 2020\n",
    "data=data.iloc[:,[0,-1]]\n",
    "data.to_csv(\"../cleanedData/\" + \"30 - List of countries by meat consumption.csv\",sep=\",\",index=False)"
   ]
  },
  {
   "cell_type": "code",
   "execution_count": 358,
   "id": "0f0aa1ad",
   "metadata": {
    "ExecuteTime": {
     "end_time": "2023-12-11T03:46:46.915229683Z",
     "start_time": "2023-12-11T03:46:46.849359688Z"
    }
   },
   "outputs": [
    {
     "name": "stderr",
     "output_type": "stream",
     "text": [
      "/tmp/ipykernel_69394/2581429531.py:6: FutureWarning: The default value of regex will change from True to False in a future version. In addition, single character regular expressions will *not* be treated as literal strings when regex=True.\n",
      "  data[\"Location\"]=data[\"Location\"].str.replace(\" \",\"\").str.replace(\"*\",\"\")\n"
     ]
    }
   ],
   "source": [
    "df=pd.read_csv(\"../rawData/31 - List of countries by incarceration rate.csv\")\n",
    "data=df.copy()\n",
    "data=data.iloc[:,[0,-2]]\n",
    "data[\"Location\"] = data[\"Location\"].str.replace(' \\(.*\\)', '', regex=True)\n",
    "data[\"Location\"] = data[\"Location\"].str.replace(' \\[.*\\]', '', regex=True)\n",
    "data[\"Location\"]=data[\"Location\"].str.replace(\" \",\"\").str.replace(\"*\",\"\")\n",
    "data[\"Location\"][222] = \"British Virgin Islands\"\n",
    "data[\"Location\"][223] = \"US Virgin Islands\"\n",
    "data.to_csv(\"../cleanedData/\" + \"31 - List of countries by incarceration rate.csv\",sep=\",\",index=False)"
   ]
  },
  {
   "cell_type": "code",
   "execution_count": 359,
   "metadata": {
    "ExecuteTime": {
     "end_time": "2023-12-11T03:46:46.960068275Z",
     "start_time": "2023-12-11T03:46:46.899210473Z"
    }
   },
   "outputs": [],
   "source": [
    "df=pd.read_csv(\"../cleanedData/32 - List of countries by literacy rate.csv\")\n",
    "data=df.copy()\n",
    "data[\"Country\"] = data[\"Country\"].str.replace(' \\(.*\\)', '', regex=True)\n",
    "data[\"Country\"] = data[\"Country\"].drop_duplicates()"
   ],
   "id": "b732161358458139"
  },
  {
   "cell_type": "code",
   "execution_count": 360,
   "metadata": {
    "ExecuteTime": {
     "end_time": "2023-12-11T03:46:47.001983893Z",
     "start_time": "2023-12-11T03:46:46.919218756Z"
    }
   },
   "outputs": [],
   "source": [
    "df=pd.read_csv(\"../cleanedData/35 - List of sovereign states by homeless population.csv\")\n",
    "data=df.copy()\n",
    "data[\"Country\"] = data[\"Country\"].str.replace(' \\(.*\\)', '', regex=True)\n",
    "data[\"Country\"] = data[\"Country\"].drop_duplicates()"
   ],
   "id": "b9fe8fe7fcc27065"
  },
  {
   "cell_type": "code",
   "execution_count": 361,
   "metadata": {
    "ExecuteTime": {
     "end_time": "2023-12-11T03:46:47.082368876Z",
     "start_time": "2023-12-11T03:46:46.968178406Z"
    }
   },
   "outputs": [],
   "source": [
    "df=pd.read_csv(\"../cleanedData/37 - List of countries by number of scientific and technical journal articles.csv\")\n",
    "data=df.copy()\n",
    "data[\"Country\"] = data[\"Country\"].str.replace(' \\(.*\\)', '', regex=True)\n",
    "data[\"Country\"] = data[\"Country\"].drop_duplicates()"
   ],
   "id": "f6443cbc8703d3e9"
  },
  {
   "cell_type": "code",
   "execution_count": 362,
   "metadata": {
    "ExecuteTime": {
     "end_time": "2023-12-11T03:46:47.101397035Z",
     "start_time": "2023-12-11T03:46:47.032672047Z"
    }
   },
   "outputs": [],
   "source": [
    "df=pd.read_csv(\"../cleanedData/38 - Books published per country per year.csv\")\n",
    "data=df.copy()\n",
    "data[\"Country\"] = data[\"Country\"].str.replace(' \\(.*\\)', '', regex=True)\n",
    "data[\"Country\"] = data[\"Country\"].drop_duplicates()"
   ],
   "id": "42f9d85b8cf22a0e"
  },
  {
   "cell_type": "code",
   "execution_count": 363,
   "metadata": {
    "ExecuteTime": {
     "end_time": "2023-12-11T03:46:47.262472856Z",
     "start_time": "2023-12-11T03:46:47.080360734Z"
    }
   },
   "outputs": [],
   "source": [
    "filePaths = [\n",
    "    \"../cleanedData/1-GDP-per-capita.csv\",\n",
    "    \"../cleanedData/2-Internet-speed.csv\",\n",
    "    \"../cleanedData/3-Alcool-Consumption-per-capita.csv\",\n",
    "    \"../cleanedData/4-Intentional-homicide-rate.csv\",\n",
    "    \"../cleanedData/5-Military-spending.csv\",\n",
    "    \"../cleanedData/6-Human-development-index.csv\",\n",
    "    \"../cleanedData/7-Democracy-Index.csv\",\n",
    "    \"../cleanedData/8-Tertiary-education.csv\",\n",
    "    \"../cleanedData/9-Religion-Importance.csv\",\n",
    "    \"../cleanedData/10-Christianity-by-country.csv\",\n",
    "    \"../cleanedData/11 - Islam by country.csv\",\n",
    "    \"../cleanedData/12 - Buddhism by country.csv\",\n",
    "    \"../cleanedData/13 - Jewish population by country.csv\",\n",
    "    \"../cleanedData/14 - List of countries by infant and under-five mortality rates.csv\",\n",
    "    \"../cleanedData/15 - Age of criminal responsibility.csv\",\n",
    "    \"../cleanedData/16 - List of countries by minimum wage.csv\",\n",
    "    \"../cleanedData/17 - List of countries by external debt.csv\",\n",
    "    \"../cleanedData/18 - List of countries by income equality.csv\",\n",
    "    \"../cleanedData/19 - List of countries by total health expenditure per capita.csv\",\n",
    "    \"../cleanedData/20 - List of countries by suicide rate.csv\",\n",
    "    \"../cleanedData/21 - List of countries by total fertility rate.csv\",\n",
    "    \"../cleanedData/22 - Tobacco consumption by country.csv\",\n",
    "    \"../cleanedData/23 - List of countries by obesity rate.csv\",\n",
    "    \"../cleanedData/24 - List of countries by number of Internet users.csv\",\n",
    "    \"../cleanedData/25 - List of countries by median age.csv\",\n",
    "    \"../cleanedData/26 - List of sovereign states by economic freedom.csv\",\n",
    "    \"../cleanedData/27 - List of countries by oil production.csv\",\n",
    "    \"../cleanedData/28 - List of countries by population growth rate.csv\",\n",
    "    \"../cleanedData/29 - List of countries by life expectancy.csv\",\n",
    "    \"../cleanedData/30 - List of countries by meat consumption.csv\",\n",
    "    \"../cleanedData/31 - List of countries by incarceration rate.csv\",\n",
    "    \"../cleanedData/32 - List of countries by literacy rate.csv\",\n",
    "    \"../cleanedData/33 - List of countries by age at first marriage.csv\",\n",
    "    \"../cleanedData/34 - List of countries by spending on education as percentage of GDP.csv\",\n",
    "    \"../cleanedData/35 - List of sovereign states by homeless population.csv\",\n",
    "    \"../cleanedData/36 - List of countries by milk consumption per capita.csv\",\n",
    "    \"../cleanedData/37 - List of countries by number of scientific and technical journal articles.csv\",\n",
    "    \"../cleanedData/38 - Books published per country per year.csv\",\n",
    "    \"../cleanedData/39 - List of countries by food energy intake.csv\",\n",
    "    \"../cleanedData/40 - List of countries by average yearly temperature.csv\"\n",
    "]\n",
    "\n",
    "dfs = []\n",
    "for filePath in filePaths:\n",
    "    dfs.append(pd.read_csv(filePath))\n",
    "\n",
    "for i in range(len(dfs)):\n",
    "    if (dfs[i].columns[0] != \"Country\"):\n",
    "        dfs[i] = dfs[i].rename(columns={dfs[i].columns[0]:\"Country\"})\n",
    "        dfs[i].to_csv(filePaths[i], sep=\",\",index=False)\n",
    "    dfs[i][\"Country\"] = dfs[i][\"Country\"].str.replace(' \\(.*\\)|\\[.*\\]|\\**', '', regex=True)\n",
    "    dfs[i][\"Country\"] = dfs[i][\"Country\"].drop_duplicates()\n",
    "    \n",
    "    \n",
    "        \n",
    "data = pd.concat([dfs[0].set_index('Country'), dfs[1].set_index('Country')], axis=1, join='outer').reset_index()\n",
    "for i in range(2,len(dfs)):\n",
    "    data = pd.concat([data.set_index('Country'), dfs[i].set_index('Country')], axis=1, join='outer').reset_index()\n",
    "\n",
    "data.to_csv(\"../cleanedData/FinalData.csv\", sep=\",\",index=False)\n",
    "data = data.set_index(\"Country\")"
   ],
   "id": "e960762ac43e0d2e"
  },
  {
   "cell_type": "markdown",
   "id": "f79e5a43",
   "metadata": {},
   "source": [
    "Rettirer les lignes suivantes, car elles ne contiennent pas assez d'information ou ne sont pas des pays."
   ]
  },
  {
   "cell_type": "code",
   "execution_count": 364,
   "id": "8afe76d8",
   "metadata": {
    "ExecuteTime": {
     "end_time": "2023-12-11T03:46:47.282878710Z",
     "start_time": "2023-12-11T03:46:47.273044681Z"
    }
   },
   "outputs": [],
   "source": [
    "list = [\"Netherlands Antilles\",\n",
    "\"Niue\",\n",
    "\"French Guiana\",\n",
    "\"Gibraltar\",\n",
    "\"Guadeloupe\",\n",
    "\"Holy See\",\n",
    "\"Iraq. Central Iraq\",\n",
    "\"Martinique\",\n",
    "\"Mayotte\",\n",
    "\"Northern Ireland\",\n",
    "\"Réunion\",\n",
    "\"Saint Helena\",\n",
    "\"Saint Pierre and Miquelon\",\n",
    "\"Scotland\",\n",
    "\"Sao Tome and Principe\",\n",
    "\"Falkland Islands\",\n",
    "\"Pitcairn Islands\",\n",
    "\"Europe\",\n",
    "\"Latin America and the Caribbean\",\n",
    "\"Africa\",\n",
    "\"Asia\",\n",
    "\"North America\",\n",
    "\"Oceania\",\n",
    "\"Middle East-North Africa\",\n",
    "\"Total\",\n",
    "\"Cocos Islands\",\n",
    "\"Tokelau\",\n",
    "\"Vatican City\",\n",
    "\"Wallis and Futuna\",\n",
    "\"Western Sahara\",\n",
    "\"Swaziland\",\n",
    "\"West Bank\",\n",
    "\"Guernsey\",\n",
    "\"Jersey\",\n",
    "\"Northern Cyprus\",\n",
    "\"Population replacement\",\n",
    "\"Saint Helena, Ascension and Tristan da Cunha\",\n",
    "\"Saint Barthelemy\",\n",
    "\"Saint Helena, Ascension, and Tristan da Cunha\",\n",
    "\"Virgin Islands\",\n",
    "\"Caribbean Netherlands\",\n",
    "\"Christmas Island\",\n",
    "\"Norfolk Island\",\n",
    "\"Svalbard\",\n",
    "\"Gaza Strip\",\n",
    "\"Reunion\",\n",
    "\"Republika Srpska\",\n",
    "\"England and Wales\",\n",
    "\"Bonaire, Sint Eustatius and Saba\",\n",
    "\"Lao People\\'s Democratic Republic\",\n",
    "\"Pitcairn\",\n",
    "\"Svalbard and Jan Mayen\",\n",
    "\"British Indian Ocean Territory\",\n",
    "\"European Union\",\n",
    "\"Channel Islands\",\n",
    "\"Curaçao\",\n",
    "\"Faroe Islands\",\n",
    "\"Anguilla\",\n",
    "\"Aruba\",\n",
    "\"Cook Islands\",\n",
    "\"French Polynesia\",\n",
    "\"Greenland\",\n",
    "\"Guam\",\n",
    "\"Isle of Man\",\n",
    "\"Montserrat\",\n",
    "\"Northern Mariana Islands\",\n",
    "\"Saint Martin\",\n",
    "\"Sint Maarten\",\n",
    "\"U.S. Virgin Islands\",\n",
    "\"US Virgin Islands\",\n",
    "\"Virgin Islands, British\", \n",
    "\"Virgin Islands, U.S.\",\n",
    "\"World\",\n",
    "\"Zanzibar\",\n",
    "\"British Virgin Islands\"]\n",
    "data = data.drop(list)\n"
   ]
  },
  {
   "cell_type": "markdown",
   "id": "51207fdb",
   "metadata": {},
   "source": [
    "Certains pays apparraissent sous différents noms, alors combinons les"
   ]
  },
  {
   "cell_type": "code",
   "execution_count": 365,
   "id": "979813c6",
   "metadata": {
    "ExecuteTime": {
     "end_time": "2023-12-11T03:46:47.298741720Z",
     "start_time": "2023-12-11T03:46:47.273225405Z"
    }
   },
   "outputs": [
    {
     "data": {
      "text/plain": "                     UN   Ookla  2016  Victims-per-100000-habitants  \\\nCountry                                                               \nMonaco         234317.0  220.35   NaN                           0.0   \nLiechtenstein  169260.0  193.79   NaN                           2.0   \nLuxembourg     133745.0  154.26  13.0                           4.0   \nBermuda        112653.0     NaN   NaN                           7.0   \nIreland        101109.0  112.81  13.0                          22.0   \n...                 ...     ...   ...                           ...   \nIran                NaN     NaN   NaN                           NaN   \nPalestine           NaN     NaN   NaN                           NaN   \nRussia              NaN     NaN   NaN                           NaN   \nSyria               NaN     NaN   NaN                           NaN   \nSomalia             NaN     NaN   NaN                           NaN   \n\n               percentage-GDP    HDI  2020  \\\nCountry                                      \nMonaco                    NaN    NaN   NaN   \nLiechtenstein             NaN  0.935   NaN   \nLuxembourg                NaN  0.930  8.68   \nBermuda                   NaN    NaN   NaN   \nIreland                   NaN  0.945  9.05   \n...                       ...    ...   ...   \nIran                      NaN    NaN   NaN   \nPalestine                 NaN    NaN   NaN   \nRussia                    NaN    NaN   NaN   \nSyria                     NaN    NaN   NaN   \nSomalia                   NaN    NaN   NaN   \n\n               percentage-of-population-with-education-of-2-year-tertiary-degree-or-equivalent  \\\nCountry                                                                                          \nMonaco                                                       NaN                                 \nLiechtenstein                                                NaN                                 \nLuxembourg                                                  50.0                                 \nBermuda                                                      NaN                                 \nIreland                                                     52.0                                 \n...                                                          ...                                 \nIran                                                         NaN                                 \nPalestine                                                    NaN                                 \nRussia                                                       NaN                                 \nSyria                                                        NaN                                 \nSomalia                                                      NaN                                 \n\n               Yes/Important(%)  Christian(%)  ...  \\\nCountry                                        ...   \nMonaco                      NaN          82.6  ...   \nLiechtenstein               NaN          84.4  ...   \nLuxembourg                 39.0          72.4  ...   \nBermuda                     NaN          64.7  ...   \nIreland                    54.0          83.8  ...   \n...                         ...           ...  ...   \nIran                        NaN           NaN  ...   \nPalestine                   NaN           NaN  ...   \nRussia                      NaN           NaN  ...   \nSyria                       NaN           NaN  ...   \nSomalia                     NaN           NaN  ...   \n\n              Gender disparity, elderly (65+), rate  \\\nCountry                                               \nMonaco                                          NaN   \nLiechtenstein                                   NaN   \nLuxembourg                                      NaN   \nBermuda                                         NaN   \nIreland                                         NaN   \n...                                             ...   \nIran                                           36.8   \nPalestine                                      63.9   \nRussia                                         99.2   \nSyria                                            39   \nSomalia                                         NaN   \n\n               Age at first marriage (Women)  \\\nCountry                                        \nMonaco                                  30.4   \nLiechtenstein                           31.2   \nLuxembourg                              31.8   \nBermuda                                  NaN   \nIreland                                 34.8   \n...                                      ...   \nIran                                    23.8   \nPalestine                               20.1   \nRussia                                  25.5   \nSyria                                   26.3   \nSomalia                                  NaN   \n\n              Expenditure on education (% of GDP)  Homeless per 10k  \\\nCountry                                                               \nMonaco                                        1.5               NaN   \nLiechtenstein                                 2.1               0.0   \nLuxembourg                                    4.0              37.5   \nBermuda                                       NaN               NaN   \nIreland                                       3.7              16.0   \n...                                           ...               ...   \nIran                                          4.0               1.9   \nPalestine                                     5.3               NaN   \nRussia                                        3.7               4.0   \nSyria                                         5.1            3753.0   \nSomalia                                       9.6               NaN   \n\n              Calculated  Milk consumption 2013 (kg/capita/yr)  \\\nCountry                                                          \nMonaco               NaN                                   NaN   \nLiechtenstein        NaN                                   NaN   \nLuxembourg           NaN                                255.30   \nBermuda              NaN                                 95.56   \nIreland              NaN                                291.86   \n...                  ...                                   ...   \nIran                 NaN                                 46.69   \nPalestine            NaN                                   NaN   \nRussia               NaN                                163.57   \nSyria                NaN                                111.43   \nSomalia              NaN                                   NaN   \n\n               Scientific publications per capita (per million)    Titles  \\\nCountry                                                                     \nMonaco                                                   6050.0      41.0   \nLiechtenstein                                            3193.0       NaN   \nLuxembourg                                               3554.0    2000.0   \nBermuda                                                  1218.0       NaN   \nIreland                                                  3309.0    1773.0   \n...                                                         ...       ...   \nIran                                                      863.0  102691.0   \nPalestine                                                 230.0     114.0   \nRussia                                                    819.0  115171.0   \nSyria                                                      40.0    1138.0   \nSomalia                                                     NaN       NaN   \n\n               Average daily food energy intake per capita (kilocalories)  \\\nCountry                                                                     \nMonaco                                                       NaN            \nLiechtenstein                                                NaN            \nLuxembourg                                                3465.0            \nBermuda                                                      NaN            \nIreland                                                   3885.0            \n...                                                          ...            \nIran                                                      3087.0            \nPalestine                                                    NaN            \nRussia                                                    3345.0            \nSyria                                                        NaN            \nSomalia                                                      NaN            \n\n               Average yearly temperature (Celsius)  \nCountry                                              \nMonaco                                        13.55  \nLiechtenstein                                   5.8  \nLuxembourg                                     8.65  \nBermuda                                         NaN  \nIreland                                         9.3  \n...                                             ...  \nIran                                          17.25  \nPalestine                                       NaN  \nRussia                                        −5.35  \nSyria                                         17.75  \nSomalia                                         NaN  \n\n[234 rows x 41 columns]",
      "text/html": "<div>\n<style scoped>\n    .dataframe tbody tr th:only-of-type {\n        vertical-align: middle;\n    }\n\n    .dataframe tbody tr th {\n        vertical-align: top;\n    }\n\n    .dataframe thead th {\n        text-align: right;\n    }\n</style>\n<table border=\"1\" class=\"dataframe\">\n  <thead>\n    <tr style=\"text-align: right;\">\n      <th></th>\n      <th>UN</th>\n      <th>Ookla</th>\n      <th>2016</th>\n      <th>Victims-per-100000-habitants</th>\n      <th>percentage-GDP</th>\n      <th>HDI</th>\n      <th>2020</th>\n      <th>percentage-of-population-with-education-of-2-year-tertiary-degree-or-equivalent</th>\n      <th>Yes/Important(%)</th>\n      <th>Christian(%)</th>\n      <th>...</th>\n      <th>Gender disparity, elderly (65+), rate</th>\n      <th>Age at first marriage (Women)</th>\n      <th>Expenditure on education (% of GDP)</th>\n      <th>Homeless per 10k</th>\n      <th>Calculated</th>\n      <th>Milk consumption 2013 (kg/capita/yr)</th>\n      <th>Scientific publications per capita (per million)</th>\n      <th>Titles</th>\n      <th>Average daily food energy intake per capita (kilocalories)</th>\n      <th>Average yearly temperature (Celsius)</th>\n    </tr>\n    <tr>\n      <th>Country</th>\n      <th></th>\n      <th></th>\n      <th></th>\n      <th></th>\n      <th></th>\n      <th></th>\n      <th></th>\n      <th></th>\n      <th></th>\n      <th></th>\n      <th></th>\n      <th></th>\n      <th></th>\n      <th></th>\n      <th></th>\n      <th></th>\n      <th></th>\n      <th></th>\n      <th></th>\n      <th></th>\n      <th></th>\n    </tr>\n  </thead>\n  <tbody>\n    <tr>\n      <th>Monaco</th>\n      <td>234317.0</td>\n      <td>220.35</td>\n      <td>NaN</td>\n      <td>0.0</td>\n      <td>NaN</td>\n      <td>NaN</td>\n      <td>NaN</td>\n      <td>NaN</td>\n      <td>NaN</td>\n      <td>82.6</td>\n      <td>...</td>\n      <td>NaN</td>\n      <td>30.4</td>\n      <td>1.5</td>\n      <td>NaN</td>\n      <td>NaN</td>\n      <td>NaN</td>\n      <td>6050.0</td>\n      <td>41.0</td>\n      <td>NaN</td>\n      <td>13.55</td>\n    </tr>\n    <tr>\n      <th>Liechtenstein</th>\n      <td>169260.0</td>\n      <td>193.79</td>\n      <td>NaN</td>\n      <td>2.0</td>\n      <td>NaN</td>\n      <td>0.935</td>\n      <td>NaN</td>\n      <td>NaN</td>\n      <td>NaN</td>\n      <td>84.4</td>\n      <td>...</td>\n      <td>NaN</td>\n      <td>31.2</td>\n      <td>2.1</td>\n      <td>0.0</td>\n      <td>NaN</td>\n      <td>NaN</td>\n      <td>3193.0</td>\n      <td>NaN</td>\n      <td>NaN</td>\n      <td>5.8</td>\n    </tr>\n    <tr>\n      <th>Luxembourg</th>\n      <td>133745.0</td>\n      <td>154.26</td>\n      <td>13.0</td>\n      <td>4.0</td>\n      <td>NaN</td>\n      <td>0.930</td>\n      <td>8.68</td>\n      <td>50.0</td>\n      <td>39.0</td>\n      <td>72.4</td>\n      <td>...</td>\n      <td>NaN</td>\n      <td>31.8</td>\n      <td>4.0</td>\n      <td>37.5</td>\n      <td>NaN</td>\n      <td>255.30</td>\n      <td>3554.0</td>\n      <td>2000.0</td>\n      <td>3465.0</td>\n      <td>8.65</td>\n    </tr>\n    <tr>\n      <th>Bermuda</th>\n      <td>112653.0</td>\n      <td>NaN</td>\n      <td>NaN</td>\n      <td>7.0</td>\n      <td>NaN</td>\n      <td>NaN</td>\n      <td>NaN</td>\n      <td>NaN</td>\n      <td>NaN</td>\n      <td>64.7</td>\n      <td>...</td>\n      <td>NaN</td>\n      <td>NaN</td>\n      <td>NaN</td>\n      <td>NaN</td>\n      <td>NaN</td>\n      <td>95.56</td>\n      <td>1218.0</td>\n      <td>NaN</td>\n      <td>NaN</td>\n      <td>NaN</td>\n    </tr>\n    <tr>\n      <th>Ireland</th>\n      <td>101109.0</td>\n      <td>112.81</td>\n      <td>13.0</td>\n      <td>22.0</td>\n      <td>NaN</td>\n      <td>0.945</td>\n      <td>9.05</td>\n      <td>52.0</td>\n      <td>54.0</td>\n      <td>83.8</td>\n      <td>...</td>\n      <td>NaN</td>\n      <td>34.8</td>\n      <td>3.7</td>\n      <td>16.0</td>\n      <td>NaN</td>\n      <td>291.86</td>\n      <td>3309.0</td>\n      <td>1773.0</td>\n      <td>3885.0</td>\n      <td>9.3</td>\n    </tr>\n    <tr>\n      <th>...</th>\n      <td>...</td>\n      <td>...</td>\n      <td>...</td>\n      <td>...</td>\n      <td>...</td>\n      <td>...</td>\n      <td>...</td>\n      <td>...</td>\n      <td>...</td>\n      <td>...</td>\n      <td>...</td>\n      <td>...</td>\n      <td>...</td>\n      <td>...</td>\n      <td>...</td>\n      <td>...</td>\n      <td>...</td>\n      <td>...</td>\n      <td>...</td>\n      <td>...</td>\n      <td>...</td>\n    </tr>\n    <tr>\n      <th>Iran</th>\n      <td>NaN</td>\n      <td>NaN</td>\n      <td>NaN</td>\n      <td>NaN</td>\n      <td>NaN</td>\n      <td>NaN</td>\n      <td>NaN</td>\n      <td>NaN</td>\n      <td>NaN</td>\n      <td>NaN</td>\n      <td>...</td>\n      <td>36.8</td>\n      <td>23.8</td>\n      <td>4.0</td>\n      <td>1.9</td>\n      <td>NaN</td>\n      <td>46.69</td>\n      <td>863.0</td>\n      <td>102691.0</td>\n      <td>3087.0</td>\n      <td>17.25</td>\n    </tr>\n    <tr>\n      <th>Palestine</th>\n      <td>NaN</td>\n      <td>NaN</td>\n      <td>NaN</td>\n      <td>NaN</td>\n      <td>NaN</td>\n      <td>NaN</td>\n      <td>NaN</td>\n      <td>NaN</td>\n      <td>NaN</td>\n      <td>NaN</td>\n      <td>...</td>\n      <td>63.9</td>\n      <td>20.1</td>\n      <td>5.3</td>\n      <td>NaN</td>\n      <td>NaN</td>\n      <td>NaN</td>\n      <td>230.0</td>\n      <td>114.0</td>\n      <td>NaN</td>\n      <td>NaN</td>\n    </tr>\n    <tr>\n      <th>Russia</th>\n      <td>NaN</td>\n      <td>NaN</td>\n      <td>NaN</td>\n      <td>NaN</td>\n      <td>NaN</td>\n      <td>NaN</td>\n      <td>NaN</td>\n      <td>NaN</td>\n      <td>NaN</td>\n      <td>NaN</td>\n      <td>...</td>\n      <td>99.2</td>\n      <td>25.5</td>\n      <td>3.7</td>\n      <td>4.0</td>\n      <td>NaN</td>\n      <td>163.57</td>\n      <td>819.0</td>\n      <td>115171.0</td>\n      <td>3345.0</td>\n      <td>−5.35</td>\n    </tr>\n    <tr>\n      <th>Syria</th>\n      <td>NaN</td>\n      <td>NaN</td>\n      <td>NaN</td>\n      <td>NaN</td>\n      <td>NaN</td>\n      <td>NaN</td>\n      <td>NaN</td>\n      <td>NaN</td>\n      <td>NaN</td>\n      <td>NaN</td>\n      <td>...</td>\n      <td>39</td>\n      <td>26.3</td>\n      <td>5.1</td>\n      <td>3753.0</td>\n      <td>NaN</td>\n      <td>111.43</td>\n      <td>40.0</td>\n      <td>1138.0</td>\n      <td>NaN</td>\n      <td>17.75</td>\n    </tr>\n    <tr>\n      <th>Somalia</th>\n      <td>NaN</td>\n      <td>NaN</td>\n      <td>NaN</td>\n      <td>NaN</td>\n      <td>NaN</td>\n      <td>NaN</td>\n      <td>NaN</td>\n      <td>NaN</td>\n      <td>NaN</td>\n      <td>NaN</td>\n      <td>...</td>\n      <td>NaN</td>\n      <td>NaN</td>\n      <td>9.6</td>\n      <td>NaN</td>\n      <td>NaN</td>\n      <td>NaN</td>\n      <td>NaN</td>\n      <td>NaN</td>\n      <td>NaN</td>\n      <td>NaN</td>\n    </tr>\n  </tbody>\n</table>\n<p>234 rows × 41 columns</p>\n</div>"
     },
     "execution_count": 365,
     "metadata": {},
     "output_type": "execute_result"
    }
   ],
   "source": [
    "data = data.rename(index={\"DR Congo\":\"DRC\",\n",
    "                          \"Republic of the Congo\":\"Congo\",\n",
    "                          \"Democratic Republic of the Congo\":\"DRC\",\n",
    "                          \"Congo, Republic of \":\"Congo\",\n",
    "                          \"Congo, Democratic Republic of\":\"DRC\",\n",
    "                          \"Democratic Republic of Congo\":\"DRC\",\n",
    "                          \"Republic of Congo\":\"Congo\",\n",
    "                          \"Congo, Republic of\":\"Congo\",\n",
    "                          \"Congo, The Democratic Republic of the\":\"DRC\",\n",
    "                          \"East Timor\":\"Timor-Leste\",\n",
    "                          \"Côte d'Ivoire\":\"Cote d'Ivoire\",\n",
    "                          \"Ivory Coast\":\"Cote d'Ivoire\",\n",
    "                          \"Micronesia, Federated States of\":\"Micronesia\",\n",
    "                          \"Federated States of Micronesia\":\"Micronesia\",\n",
    "                          \"Guinea-Bissau\":\"Guinea Bissau\",\n",
    "                          \"The Bahamas\":\"Bahamas\",\n",
    "                          \"The Gambia\":\"Gambia\",\n",
    "                          \"Cabo Verde\":\"Cape Verde\",\n",
    "                          \"Brunei Darussalam\":\"Brunei\",\n",
    "                          \"United States of America\":\"United States\",\n",
    "                          \"Macao\":\"Macau\",\n",
    "                          \"Federation of Bosnia and Herzegovina\":\"Bosnia and Herzegovina\",\n",
    "                          \"Czechia\":\"Czech Republic\",\n",
    "                          \"Iran, Islamic Republic of\":\"Iran\",\n",
    "                          \"Palestine, State of\":\"Palestine\",\n",
    "                          \"State of Palestine\":\"Palestine\",\n",
    "                          \"Russian Federation\":\"Russia\",\n",
    "                          \"Syrian Arab Republic\":\"Syria\",\n",
    "                          \"Somaliland\":\"Somalia\",\n",
    "                          \"American Samoa\":\"Samoa\",\n",
    "                          \"United Kingdom . England and Wales\":\"United Kingdom\",\n",
    "                          \"United Kingdom . Great Britain and Northern Ireland\":\"United Kingdom\"})\n",
    "data"
   ]
  },
  {
   "cell_type": "markdown",
   "id": "11b33529",
   "metadata": {},
   "source": [
    "Utiliser le max, car des fois on avait de l'information en double pour le même pays"
   ]
  },
  {
   "cell_type": "code",
   "execution_count": 366,
   "id": "540c4a07",
   "metadata": {
    "ExecuteTime": {
     "end_time": "2023-12-11T03:46:47.345546429Z",
     "start_time": "2023-12-11T03:46:47.273537237Z"
    }
   },
   "outputs": [
    {
     "name": "stderr",
     "output_type": "stream",
     "text": [
      "/tmp/ipykernel_69394/561210590.py:1: FutureWarning: Dropping invalid columns in DataFrameGroupBy.max is deprecated. In a future version, a TypeError will be raised. Before calling .max, select only columns which should be valid for the function.\n",
      "  data = data.groupby(\"Country\").max().reset_index()\n"
     ]
    },
    {
     "data": {
      "text/plain": "         Country       UN   Ookla  2016  Victims-per-100000-habitants  \\\n0    Afghanistan    373.0     NaN   0.2                        1613.0   \n1        Albania   6396.0   45.25   7.5                          66.0   \n2        Algeria   3700.0     NaN   0.9                           NaN   \n3        Andorra  42066.0  191.23  11.3                           2.0   \n4         Angola   2258.0     NaN   6.4                        1196.0   \n..           ...      ...     ...   ...                           ...   \n198    Venezuela   3965.0     NaN   5.6                        5444.0   \n199      Vietnam   3756.0   66.38   8.3                        1358.0   \n200        Yemen    302.0     NaN   0.1                        1703.0   \n201       Zambia   1095.0     NaN   4.8                         853.0   \n202     Zimbabwe   1508.0     NaN   4.8                         982.0   \n\n     percentage-GDP    HDI  2020  \\\n0               NaN  0.478  2.85   \n1               NaN  0.796  6.08   \n2               4.8  0.745  3.77   \n3               NaN  0.858   NaN   \n4               NaN  0.586  3.66   \n..              ...    ...   ...   \n198             NaN  0.691  2.76   \n199             NaN  0.703  2.94   \n200             NaN  0.455  1.95   \n201             NaN  0.565  4.86   \n202             NaN  0.593  3.16   \n\n     percentage-of-population-with-education-of-2-year-tertiary-degree-or-equivalent  \\\n0                                                  NaN                                 \n1                                                  NaN                                 \n2                                                  NaN                                 \n3                                                  NaN                                 \n4                                                  NaN                                 \n..                                                 ...                                 \n198                                                NaN                                 \n199                                                NaN                                 \n200                                                NaN                                 \n201                                                NaN                                 \n202                                                NaN                                 \n\n     Yes/Important(%)  ...  Life expectancy at birth  kg/person (2020)[12]  \\\n0                97.0  ...                      63.2                   NaN   \n1                39.0  ...                      78.0                 47.51   \n2                95.0  ...                      77.1                 18.06   \n3                 NaN  ...                       NaN                   NaN   \n4                 NaN  ...                      63.1                 23.49   \n..                ...  ...                       ...                   ...   \n198              79.0  ...                      73.9                 40.94   \n199              30.0  ...                      73.7                 63.34   \n200              99.0  ...                      66.6                 16.86   \n201              95.0  ...                      62.5                 13.12   \n202              88.0  ...                      60.7                 17.67   \n\n     Age at first marriage (Women)  Expenditure on education (% of GDP)  \\\n0                             15.5                                  4.1   \n1                             27.8                                  4.0   \n2                             28.2                                  4.3   \n3                              NaN                                  3.2   \n4                             21.4                                  3.5   \n..                             ...                                  ...   \n198                           22.7                                  3.6   \n199                           22.8                                  4.3   \n200                           23.0                                  5.2   \n201                           18.7                                  1.3   \n202                           19.9                                  6.1   \n\n     Homeless per 10k  Calculated  Milk consumption 2013 (kg/capita/yr)  \\\n0              1180.0         NaN                                 62.23   \n1               121.8         1.0                                303.72   \n2                 NaN         NaN                                141.53   \n3                 NaN         NaN                                   NaN   \n4                 NaN         NaN                                 12.30   \n..                ...         ...                                   ...   \n198               NaN         NaN                                117.79   \n199              16.6         NaN                                 16.36   \n200            1294.0         NaN                                 43.97   \n201               NaN         NaN                                  9.71   \n202             848.0         NaN                                 31.90   \n\n     Scientific publications per capita (per million)   Titles  \\\n0                                                 9.0   2795.0   \n1                                               216.0    390.0   \n2                                               176.0   3955.0   \n3                                               453.0     57.0   \n4                                                 5.0     22.0   \n..                                                ...      ...   \n198                                              49.0   2275.0   \n199                                             177.0  24589.0   \n200                                              35.0      NaN   \n201                                              44.0      NaN   \n202                                              71.0    232.0   \n\n     Average daily food energy intake per capita (kilocalories)  \n0                                               2040.0           \n1                                               3360.0           \n2                                               3322.0           \n3                                                  NaN           \n4                                               2385.0           \n..                                                 ...           \n198                                             2120.0           \n199                                             3025.0           \n200                                             2154.0           \n201                                             2002.0           \n202                                             1908.0           \n\n[203 rows x 36 columns]",
      "text/html": "<div>\n<style scoped>\n    .dataframe tbody tr th:only-of-type {\n        vertical-align: middle;\n    }\n\n    .dataframe tbody tr th {\n        vertical-align: top;\n    }\n\n    .dataframe thead th {\n        text-align: right;\n    }\n</style>\n<table border=\"1\" class=\"dataframe\">\n  <thead>\n    <tr style=\"text-align: right;\">\n      <th></th>\n      <th>Country</th>\n      <th>UN</th>\n      <th>Ookla</th>\n      <th>2016</th>\n      <th>Victims-per-100000-habitants</th>\n      <th>percentage-GDP</th>\n      <th>HDI</th>\n      <th>2020</th>\n      <th>percentage-of-population-with-education-of-2-year-tertiary-degree-or-equivalent</th>\n      <th>Yes/Important(%)</th>\n      <th>...</th>\n      <th>Life expectancy at birth</th>\n      <th>kg/person (2020)[12]</th>\n      <th>Age at first marriage (Women)</th>\n      <th>Expenditure on education (% of GDP)</th>\n      <th>Homeless per 10k</th>\n      <th>Calculated</th>\n      <th>Milk consumption 2013 (kg/capita/yr)</th>\n      <th>Scientific publications per capita (per million)</th>\n      <th>Titles</th>\n      <th>Average daily food energy intake per capita (kilocalories)</th>\n    </tr>\n  </thead>\n  <tbody>\n    <tr>\n      <th>0</th>\n      <td>Afghanistan</td>\n      <td>373.0</td>\n      <td>NaN</td>\n      <td>0.2</td>\n      <td>1613.0</td>\n      <td>NaN</td>\n      <td>0.478</td>\n      <td>2.85</td>\n      <td>NaN</td>\n      <td>97.0</td>\n      <td>...</td>\n      <td>63.2</td>\n      <td>NaN</td>\n      <td>15.5</td>\n      <td>4.1</td>\n      <td>1180.0</td>\n      <td>NaN</td>\n      <td>62.23</td>\n      <td>9.0</td>\n      <td>2795.0</td>\n      <td>2040.0</td>\n    </tr>\n    <tr>\n      <th>1</th>\n      <td>Albania</td>\n      <td>6396.0</td>\n      <td>45.25</td>\n      <td>7.5</td>\n      <td>66.0</td>\n      <td>NaN</td>\n      <td>0.796</td>\n      <td>6.08</td>\n      <td>NaN</td>\n      <td>39.0</td>\n      <td>...</td>\n      <td>78.0</td>\n      <td>47.51</td>\n      <td>27.8</td>\n      <td>4.0</td>\n      <td>121.8</td>\n      <td>1.0</td>\n      <td>303.72</td>\n      <td>216.0</td>\n      <td>390.0</td>\n      <td>3360.0</td>\n    </tr>\n    <tr>\n      <th>2</th>\n      <td>Algeria</td>\n      <td>3700.0</td>\n      <td>NaN</td>\n      <td>0.9</td>\n      <td>NaN</td>\n      <td>4.8</td>\n      <td>0.745</td>\n      <td>3.77</td>\n      <td>NaN</td>\n      <td>95.0</td>\n      <td>...</td>\n      <td>77.1</td>\n      <td>18.06</td>\n      <td>28.2</td>\n      <td>4.3</td>\n      <td>NaN</td>\n      <td>NaN</td>\n      <td>141.53</td>\n      <td>176.0</td>\n      <td>3955.0</td>\n      <td>3322.0</td>\n    </tr>\n    <tr>\n      <th>3</th>\n      <td>Andorra</td>\n      <td>42066.0</td>\n      <td>191.23</td>\n      <td>11.3</td>\n      <td>2.0</td>\n      <td>NaN</td>\n      <td>0.858</td>\n      <td>NaN</td>\n      <td>NaN</td>\n      <td>NaN</td>\n      <td>...</td>\n      <td>NaN</td>\n      <td>NaN</td>\n      <td>NaN</td>\n      <td>3.2</td>\n      <td>NaN</td>\n      <td>NaN</td>\n      <td>NaN</td>\n      <td>453.0</td>\n      <td>57.0</td>\n      <td>NaN</td>\n    </tr>\n    <tr>\n      <th>4</th>\n      <td>Angola</td>\n      <td>2258.0</td>\n      <td>NaN</td>\n      <td>6.4</td>\n      <td>1196.0</td>\n      <td>NaN</td>\n      <td>0.586</td>\n      <td>3.66</td>\n      <td>NaN</td>\n      <td>NaN</td>\n      <td>...</td>\n      <td>63.1</td>\n      <td>23.49</td>\n      <td>21.4</td>\n      <td>3.5</td>\n      <td>NaN</td>\n      <td>NaN</td>\n      <td>12.30</td>\n      <td>5.0</td>\n      <td>22.0</td>\n      <td>2385.0</td>\n    </tr>\n    <tr>\n      <th>...</th>\n      <td>...</td>\n      <td>...</td>\n      <td>...</td>\n      <td>...</td>\n      <td>...</td>\n      <td>...</td>\n      <td>...</td>\n      <td>...</td>\n      <td>...</td>\n      <td>...</td>\n      <td>...</td>\n      <td>...</td>\n      <td>...</td>\n      <td>...</td>\n      <td>...</td>\n      <td>...</td>\n      <td>...</td>\n      <td>...</td>\n      <td>...</td>\n      <td>...</td>\n      <td>...</td>\n    </tr>\n    <tr>\n      <th>198</th>\n      <td>Venezuela</td>\n      <td>3965.0</td>\n      <td>NaN</td>\n      <td>5.6</td>\n      <td>5444.0</td>\n      <td>NaN</td>\n      <td>0.691</td>\n      <td>2.76</td>\n      <td>NaN</td>\n      <td>79.0</td>\n      <td>...</td>\n      <td>73.9</td>\n      <td>40.94</td>\n      <td>22.7</td>\n      <td>3.6</td>\n      <td>NaN</td>\n      <td>NaN</td>\n      <td>117.79</td>\n      <td>49.0</td>\n      <td>2275.0</td>\n      <td>2120.0</td>\n    </tr>\n    <tr>\n      <th>199</th>\n      <td>Vietnam</td>\n      <td>3756.0</td>\n      <td>66.38</td>\n      <td>8.3</td>\n      <td>1358.0</td>\n      <td>NaN</td>\n      <td>0.703</td>\n      <td>2.94</td>\n      <td>NaN</td>\n      <td>30.0</td>\n      <td>...</td>\n      <td>73.7</td>\n      <td>63.34</td>\n      <td>22.8</td>\n      <td>4.3</td>\n      <td>16.6</td>\n      <td>NaN</td>\n      <td>16.36</td>\n      <td>177.0</td>\n      <td>24589.0</td>\n      <td>3025.0</td>\n    </tr>\n    <tr>\n      <th>200</th>\n      <td>Yemen</td>\n      <td>302.0</td>\n      <td>NaN</td>\n      <td>0.1</td>\n      <td>1703.0</td>\n      <td>NaN</td>\n      <td>0.455</td>\n      <td>1.95</td>\n      <td>NaN</td>\n      <td>99.0</td>\n      <td>...</td>\n      <td>66.6</td>\n      <td>16.86</td>\n      <td>23.0</td>\n      <td>5.2</td>\n      <td>1294.0</td>\n      <td>NaN</td>\n      <td>43.97</td>\n      <td>35.0</td>\n      <td>NaN</td>\n      <td>2154.0</td>\n    </tr>\n    <tr>\n      <th>201</th>\n      <td>Zambia</td>\n      <td>1095.0</td>\n      <td>NaN</td>\n      <td>4.8</td>\n      <td>853.0</td>\n      <td>NaN</td>\n      <td>0.565</td>\n      <td>4.86</td>\n      <td>NaN</td>\n      <td>95.0</td>\n      <td>...</td>\n      <td>62.5</td>\n      <td>13.12</td>\n      <td>18.7</td>\n      <td>1.3</td>\n      <td>NaN</td>\n      <td>NaN</td>\n      <td>9.71</td>\n      <td>44.0</td>\n      <td>NaN</td>\n      <td>2002.0</td>\n    </tr>\n    <tr>\n      <th>202</th>\n      <td>Zimbabwe</td>\n      <td>1508.0</td>\n      <td>NaN</td>\n      <td>4.8</td>\n      <td>982.0</td>\n      <td>NaN</td>\n      <td>0.593</td>\n      <td>3.16</td>\n      <td>NaN</td>\n      <td>88.0</td>\n      <td>...</td>\n      <td>60.7</td>\n      <td>17.67</td>\n      <td>19.9</td>\n      <td>6.1</td>\n      <td>848.0</td>\n      <td>NaN</td>\n      <td>31.90</td>\n      <td>71.0</td>\n      <td>232.0</td>\n      <td>1908.0</td>\n    </tr>\n  </tbody>\n</table>\n<p>203 rows × 36 columns</p>\n</div>"
     },
     "execution_count": 366,
     "metadata": {},
     "output_type": "execute_result"
    }
   ],
   "source": [
    "data = data.groupby(\"Country\").max().reset_index()\n",
    "data.to_csv(\"../cleanedData/FinalData2.csv\", sep=\",\",index=True)\n",
    "\n",
    "data"
   ]
  },
  {
   "cell_type": "code",
   "execution_count": 366,
   "outputs": [],
   "source": [],
   "metadata": {
    "collapsed": false,
    "ExecuteTime": {
     "end_time": "2023-12-11T03:46:47.347260673Z",
     "start_time": "2023-12-11T03:46:47.317273887Z"
    }
   },
   "id": "2748bcbf8e2b252e"
  }
 ],
 "metadata": {
  "kernelspec": {
   "display_name": "Python 3",
   "language": "python",
   "name": "python3"
  },
  "language_info": {
   "codemirror_mode": {
    "name": "ipython",
    "version": 3
   },
   "file_extension": ".py",
   "mimetype": "text/x-python",
   "name": "python",
   "nbconvert_exporter": "python",
   "pygments_lexer": "ipython3",
   "version": "3.9.13"
  }
 },
 "nbformat": 4,
 "nbformat_minor": 5
}
