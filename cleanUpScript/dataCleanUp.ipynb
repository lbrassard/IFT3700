{
 "cells": [
  {
   "cell_type": "code",
   "execution_count": 2,
   "id": "initial_id",
   "metadata": {
    "collapsed": true,
    "ExecuteTime": {
     "end_time": "2023-12-03T17:47:18.196703071Z",
     "start_time": "2023-12-03T17:47:17.647510380Z"
    }
   },
   "outputs": [],
   "source": [
    "import pandas as pd\n",
    "import numpy as np\n",
    "import os"
   ]
  },
  {
   "cell_type": "code",
   "execution_count": 9,
   "outputs": [],
   "source": [
    "fileName='1 - List of countries by GDP (nominal) per capita.csv' #1\n",
    "df=pd.read_csv('../rawData/'+fileName)\n",
    "data=df.copy()\n",
    "data=data.drop(df.index[0:2]) #1\n",
    "data=data.iloc[:,[0,6]] #1\n",
    "data=data.rename(columns={\"United Nations[7]\":\"UN\"}) #1\n",
    "data[[\"UN\"]]=data[[\"UN\"]].apply(pd.to_numeric,errors='coerce') #1\n",
    "data.to_csv(\"../cleanedData/\"+'1-GDP-per-capita.csv', sep=',', index=False) #1"
   ],
   "metadata": {
    "collapsed": false,
    "ExecuteTime": {
     "end_time": "2023-12-03T17:58:05.747798554Z",
     "start_time": "2023-12-03T17:58:05.697164343Z"
    }
   },
   "id": "59d0dc054afc152b"
  },
  {
   "cell_type": "code",
   "execution_count": 11,
   "outputs": [],
   "source": [
    "fileName='2 - List of sovereign states by Internet connection speeds.csv' \n",
    "df=pd.read_csv('../rawData/'+fileName)\n",
    "data=df.copy()\n",
    "data=data.iloc[:,[1,2]]\n",
    "data=data.rename(columns={\"Mediandownloadspeed(Mbit/s)(Ookla)[1]\":\"Ookla\",}) #Assumed median download speed ookla is what avarage speed is refering too as there is no average speed for Ookla\n",
    "data[[\"Ookla\"]]=data[[\"Ookla\"]].apply(pd.to_numeric,errors='coerce') \n",
    "data.to_csv(\"../cleanedData/\"+'2-Internet-speed.csv', sep=',', index=False) #2"
   ],
   "metadata": {
    "collapsed": false,
    "ExecuteTime": {
     "end_time": "2023-12-03T18:02:05.638905710Z",
     "start_time": "2023-12-03T18:02:05.571427579Z"
    }
   },
   "id": "c3c9968e1533d27f"
  },
  {
   "cell_type": "code",
   "execution_count": 17,
   "outputs": [],
   "source": [
    "fileName='3 - List of countries by alcohol consumption per capita.csv' \n",
    "df=pd.read_csv('../rawData/'+fileName)\n",
    "data=df.copy()\n",
    "data=data.iloc[:,[0,2]]\n",
    "data=data.rename(columns={\"2016[8]\":\"2016\"}) \n",
    "data['Country'] = data['Country'].str.replace(r'[][]', '', regex=True) \n",
    "data[[\"2016\"]]=data[[\"2016\"]].apply(pd.to_numeric,errors='coerce') \n",
    "data.to_csv(\"../cleanedData/\"+'3-Alcool-Consumption-per-capita.csv', sep=',', index=False) #3"
   ],
   "metadata": {
    "collapsed": false,
    "ExecuteTime": {
     "end_time": "2023-12-03T18:06:04.032743868Z",
     "start_time": "2023-12-03T18:06:04.022418187Z"
    }
   },
   "id": "ed0c53971c1ebac3"
  },
  {
   "cell_type": "code",
   "execution_count": 21,
   "outputs": [],
   "source": [
    "fileName='4 - List of countries by intentional homicide rate.csv' #4\n",
    "df=pd.read_csv('../rawData/'+fileName)\n",
    "data=df.copy()\n",
    "data[[\"Rate\"]]=data[[\"Rate\"]].apply(pd.to_numeric,errors='coerce') #4\n",
    "data['Location'] = data['Location'].str.replace('*', '', regex=True) #4\n",
    "data['Location']= data['Location'].str.strip()\n",
    "data=data.rename(columns={\"Count\":\"Victims-per-100000-habitants\"})\n",
    "data=data.iloc[:,[0,5]]\n",
    "data.to_csv(\"../cleanedData/\"+'4-Intentional-homicide-rate.csv', sep=',', index=False) #4"
   ],
   "metadata": {
    "collapsed": false,
    "ExecuteTime": {
     "end_time": "2023-12-03T18:10:54.938604699Z",
     "start_time": "2023-12-03T18:10:54.895215940Z"
    }
   },
   "id": "e4b5fd86d4c3ff68"
  },
  {
   "cell_type": "code",
   "execution_count": 22,
   "outputs": [],
   "source": [
    "fileName='5 - List of countries with highest military expenditures.csv' \n",
    "df=pd.read_csv('../rawData/'+fileName)\n",
    "data=df.copy()\n",
    "data=data.drop(data.index[0:1]) # Dropped the world statistic as it's not necessary nor a country\n",
    "data=data.rename(columns={\"% of GDP\":\"percentage-GDP\"}) \n",
    "data[[\"percentage-GDP\"]]=data[[\"percentage-GDP\"]].apply(pd.to_numeric,errors='coerce') \n",
    "data['Country'] = data['Country'].str.replace(r'[][]', '', regex=True)\n",
    "data=data.iloc[:,[1,3]] \n",
    "data.to_csv(\"../cleanedData/\"+'5-Military-spending.csv', sep=',', index=False)"
   ],
   "metadata": {
    "collapsed": false,
    "ExecuteTime": {
     "end_time": "2023-12-03T18:12:46.719475365Z",
     "start_time": "2023-12-03T18:12:46.676666921Z"
    }
   },
   "id": "65aab336ef1f5751"
  },
  {
   "cell_type": "code",
   "execution_count": 27,
   "outputs": [],
   "source": [
    "fileName='6 - List of countries by Human Development Index.csv' #6\n",
    "df=pd.read_csv('../rawData/'+fileName)\n",
    "df.head()\n",
    "data=df.copy()\n",
    "data=data.drop(data.index[0:1])\n",
    "data=data.iloc[:,[2,3]]  # Assumed 2019 in the instructions is a mistake, took 2021 columns\n",
    "data[[\"HDI\"]]=data[[\"HDI\"]].apply(pd.to_numeric,errors='coerce') #6\n",
    "data.to_csv(\"../cleanedData/\"+'6-Human-development-index.csv', sep=',', index=False) #6"
   ],
   "metadata": {
    "collapsed": false,
    "ExecuteTime": {
     "end_time": "2023-12-03T18:15:35.319640107Z",
     "start_time": "2023-12-03T18:15:35.298175579Z"
    }
   },
   "id": "9ade1501d71fc438"
  },
  {
   "cell_type": "code",
   "execution_count": 30,
   "outputs": [],
   "source": [
    "fileName='7 - The Economist Democracy Index.csv' #7\n",
    "df=pd.read_csv('../rawData/'+fileName)\n",
    "data=df.copy()\n",
    "data=data.iloc[:,[2,6]]\n",
    "data[\"2020\"]=data[\"2020\"].apply(pd.to_numeric,errors='coerce')\n",
    "data.to_csv(\"../cleanedData/\"+'7-Democracy-Index.csv', sep=',', index=False) "
   ],
   "metadata": {
    "collapsed": false,
    "ExecuteTime": {
     "end_time": "2023-12-03T18:17:45.347319993Z",
     "start_time": "2023-12-03T18:17:45.288029284Z"
    }
   },
   "id": "553deccb4381aeda"
  },
  {
   "cell_type": "code",
   "execution_count": 34,
   "outputs": [],
   "source": [
    "fileName='8 - List of countries by tertiary education attainment.csv' #8\n",
    "df=pd.read_csv('../rawData/'+fileName)\n",
    "data=df.copy()\n",
    "data=data.iloc[:,[0,1]]\n",
    "data=data.drop(data.index[0:1])\n",
    "data=data.rename(columns={\"Ages 25–34:\\xa0% equivalent to a degree course lasting at least:\":\"percentage-of-population-with-education-of-2-year-tertiary-degree-or-equivalent\"})\n",
    "data.head()\n",
    "data.to_csv(\"../cleanedData/\"+'8-Tertiary-education.csv', sep=',', index=False)"
   ],
   "metadata": {
    "collapsed": false,
    "ExecuteTime": {
     "end_time": "2023-12-03T18:22:34.778518907Z",
     "start_time": "2023-12-03T18:22:34.716838176Z"
    }
   },
   "id": "71608b513428df68"
  },
  {
   "cell_type": "code",
   "execution_count": 36,
   "outputs": [],
   "source": [
    "fileName='9 - Importance of religion by country.csv' #9\n",
    "df=pd.read_csv('../rawData/'+fileName)\n",
    "data=df.copy()\n",
    "data=data.iloc[:,[0,1]]\n",
    "data=data.rename(columns={\"Yes, important[1]\":\"Yes/Important(%)\"}) \n",
    "data[\"Yes/Important(%)\"] = data[\"Yes/Important(%)\"].str.replace('%', '') \n",
    "data.to_csv(\"../cleanedData/\"+'9-Religion-Importance.csv', sep=',', index=False) "
   ],
   "metadata": {
    "collapsed": false,
    "ExecuteTime": {
     "end_time": "2023-12-03T18:24:26.847244233Z",
     "start_time": "2023-12-03T18:24:26.820135353Z"
    }
   },
   "id": "ba6e25c167cea116"
  },
  {
   "cell_type": "code",
   "execution_count": 59,
   "outputs": [],
   "source": [
    "fileName='10 - Christianity by country.csv' #10\n",
    "df=pd.read_csv('../rawData/'+fileName)\n",
    "data=df.copy()\n",
    "data=data.iloc[:,[0,2]]\n",
    "data=data.rename(columns={\"Country or entity\":\"Country/entity\",\"% Christian\":\"temp\"})\n",
    "data[[\"temp\"]]=data[[\"temp\"]].astype(str)\n",
    "data[\"Country/entity\"] = data[\"Country/entity\"].str.replace('\\(details\\)', '', regex=True)\n",
    "data[\"temp\"] = data[\"temp\"].str.replace('\\[.*\\]', '', regex=True)\n",
    "data[\"temp\"] = data[\"temp\"].str.replace('\\(.*\\)', '', regex=True)\n",
    "data[\"temp\"] = data[\"temp\"].str.replace('%', '', regex=True)\n",
    "data['Christian(%)'] = [ ((float(x.split('-')[0]) + float(x.split('-')[1]))/2)  if '-' in x else x for x in data['temp']]\n",
    "data[[\"Christian(%)\"]]=data[[\"Christian(%)\"]].apply(pd.to_numeric,errors='coerce') #6\n",
    "data=data.iloc[:,[0,2]]\n",
    "data.to_csv(\"../cleanedData/\"+'10-Christianity-by-country.csv', sep=',', index=False)"
   ],
   "metadata": {
    "collapsed": false,
    "ExecuteTime": {
     "end_time": "2023-12-03T19:04:39.979622001Z",
     "start_time": "2023-12-03T19:04:39.929244903Z"
    }
   },
   "id": "ca8643b103d3a612"
  },
  {
   "cell_type": "code",
   "execution_count": 369,
   "outputs": [],
   "source": [],
   "metadata": {
    "collapsed": false,
    "ExecuteTime": {
     "end_time": "2023-12-03T16:59:52.866257991Z",
     "start_time": "2023-12-03T16:59:52.795908922Z"
    }
   },
   "id": "6c4df1d30b9dafa1"
  }
 ],
 "metadata": {
  "kernelspec": {
   "display_name": "Python 3",
   "language": "python",
   "name": "python3"
  },
  "language_info": {
   "codemirror_mode": {
    "name": "ipython",
    "version": 2
   },
   "file_extension": ".py",
   "mimetype": "text/x-python",
   "name": "python",
   "nbconvert_exporter": "python",
   "pygments_lexer": "ipython2",
   "version": "2.7.6"
  }
 },
 "nbformat": 4,
 "nbformat_minor": 5
}
