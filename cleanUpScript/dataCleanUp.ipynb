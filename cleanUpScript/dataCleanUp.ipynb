{
 "cells": [
  {
   "cell_type": "code",
   "execution_count": 211,
   "id": "initial_id",
   "metadata": {
    "ExecuteTime": {
     "end_time": "2023-12-03T17:47:18.196703071Z",
     "start_time": "2023-12-03T17:47:17.647510380Z"
    },
    "collapsed": true
   },
   "outputs": [],
   "source": [
    "import pandas as pd\n",
    "import numpy as np\n",
    "import os"
   ]
  },
  {
   "cell_type": "code",
   "execution_count": 212,
   "id": "59d0dc054afc152b",
   "metadata": {
    "ExecuteTime": {
     "end_time": "2023-12-03T17:58:05.747798554Z",
     "start_time": "2023-12-03T17:58:05.697164343Z"
    },
    "collapsed": false
   },
   "outputs": [],
   "source": [
    "fileName='1 - List of countries by GDP (nominal) per capita.csv' #1\n",
    "df=pd.read_csv('../rawData/'+fileName)\n",
    "data=df.copy()\n",
    "data=data.drop(df.index[0:2]) #1\n",
    "data=data.iloc[:,[0,6]] #1\n",
    "data=data.rename(columns={\"United Nations[7]\":\"UN\"}) #1\n",
    "data[\"Country/Territory\"] = data[\"Country/Territory\"].str.replace(' \\(.*\\)', '', regex=True)\n",
    "data[\"Country/Territory\"] = data[\"Country/Territory\"].drop_duplicates()\n",
    "data[[\"UN\"]]=data[[\"UN\"]].apply(pd.to_numeric,errors='coerce') #1\n",
    "data.to_csv(\"../cleanedData/\"+'1-GDP-per-capita.csv', sep=',', index=False) #1"
   ]
  },
  {
   "cell_type": "code",
   "execution_count": 213,
   "id": "c3c9968e1533d27f",
   "metadata": {
    "ExecuteTime": {
     "end_time": "2023-12-03T18:02:05.638905710Z",
     "start_time": "2023-12-03T18:02:05.571427579Z"
    },
    "collapsed": false
   },
   "outputs": [],
   "source": [
    "fileName='2 - List of sovereign states by Internet connection speeds.csv' \n",
    "df=pd.read_csv('../rawData/'+fileName)\n",
    "data=df.copy()\n",
    "data=data.iloc[:,[1,2]]\n",
    "data=data.rename(columns={\"Mediandownloadspeed(Mbit/s)(Ookla)[1]\":\"Ookla\",}) #Assumed median download speed ookla is what avarage speed is refering too as there is no average speed for Ookla\n",
    "data[[\"Ookla\"]]=data[[\"Ookla\"]].apply(pd.to_numeric,errors='coerce') \n",
    "data.to_csv(\"../cleanedData/\"+'2-Internet-speed.csv', sep=',', index=False) #2"
   ]
  },
  {
   "cell_type": "code",
   "execution_count": 214,
   "id": "ed0c53971c1ebac3",
   "metadata": {
    "ExecuteTime": {
     "end_time": "2023-12-03T18:06:04.032743868Z",
     "start_time": "2023-12-03T18:06:04.022418187Z"
    },
    "collapsed": false
   },
   "outputs": [
    {
     "name": "stderr",
     "output_type": "stream",
     "text": [
      "C:\\Users\\Edouard\\AppData\\Local\\Temp\\ipykernel_14784\\2418163614.py:9: SettingWithCopyWarning: \n",
      "A value is trying to be set on a copy of a slice from a DataFrame\n",
      "\n",
      "See the caveats in the documentation: https://pandas.pydata.org/pandas-docs/stable/user_guide/indexing.html#returning-a-view-versus-a-copy\n",
      "  data['Country'][56] = \"Estonia\"\n",
      "C:\\Users\\Edouard\\AppData\\Local\\Temp\\ipykernel_14784\\2418163614.py:10: SettingWithCopyWarning: \n",
      "A value is trying to be set on a copy of a slice from a DataFrame\n",
      "\n",
      "See the caveats in the documentation: https://pandas.pydata.org/pandas-docs/stable/user_guide/indexing.html#returning-a-view-versus-a-copy\n",
      "  data['Country'][57] = \"Eswatini\"\n",
      "C:\\Users\\Edouard\\AppData\\Local\\Temp\\ipykernel_14784\\2418163614.py:11: SettingWithCopyWarning: \n",
      "A value is trying to be set on a copy of a slice from a DataFrame\n",
      "\n",
      "See the caveats in the documentation: https://pandas.pydata.org/pandas-docs/stable/user_guide/indexing.html#returning-a-view-versus-a-copy\n",
      "  data['Country'][100] = \"North Macedonia\"\n"
     ]
    }
   ],
   "source": [
    "fileName='3 - List of countries by alcohol consumption per capita.csv' \n",
    "df=pd.read_csv('../rawData/'+fileName)\n",
    "data=df.copy()\n",
    "data=data.iloc[:,[0,2]]\n",
    "data=data.rename(columns={\"2016[8]\":\"2016\"}) \n",
    "data['Country'] = data['Country'].str.replace(r'[][]', '', regex=True) \n",
    "data[[\"2016\"]]=data[[\"2016\"]].apply(pd.to_numeric,errors='coerce')\n",
    "# Corriger des fautes de frappes\n",
    "data['Country'][56] = \"Estonia\"\n",
    "data['Country'][57] = \"Eswatini\"\n",
    "data['Country'][100] = \"North Macedonia\"\n",
    "data.to_csv(\"../cleanedData/\"+'3-Alcool-Consumption-per-capita.csv', sep=',', index=False) #3"
   ]
  },
  {
   "cell_type": "code",
   "execution_count": 215,
   "id": "e4b5fd86d4c3ff68",
   "metadata": {
    "ExecuteTime": {
     "end_time": "2023-12-03T18:10:54.938604699Z",
     "start_time": "2023-12-03T18:10:54.895215940Z"
    },
    "collapsed": false
   },
   "outputs": [
    {
     "name": "stderr",
     "output_type": "stream",
     "text": [
      "C:\\Users\\Edouard\\AppData\\Local\\Temp\\ipykernel_14784\\2628119194.py:11: SettingWithCopyWarning: \n",
      "A value is trying to be set on a copy of a slice from a DataFrame\n",
      "\n",
      "See the caveats in the documentation: https://pandas.pydata.org/pandas-docs/stable/user_guide/indexing.html#returning-a-view-versus-a-copy\n",
      "  data[\"Location\"][197] = \"US Virgin Islands\"\n"
     ]
    }
   ],
   "source": [
    "fileName='4 - List of countries by intentional homicide rate.csv' #4\n",
    "df=pd.read_csv('../rawData/'+fileName)\n",
    "data=df.copy()\n",
    "data[[\"Rate\"]]=data[[\"Rate\"]].apply(pd.to_numeric,errors='coerce') #4\n",
    "data['Location'] = data['Location'].str.replace('*', '', regex=True) #4\n",
    "data['Location']= data['Location'].str.strip()\n",
    "data=data.rename(columns={\"Count\":\"Victims-per-100000-habitants\"})\n",
    "data=data.iloc[:,[0,5]]\n",
    "data[\"Location\"] = data[\"Location\"].str.replace(' \\(.*\\)', '', regex=True)\n",
    "data[\"Location\"] = data[\"Location\"].drop_duplicates()\n",
    "data[\"Location\"][197] = \"US Virgin Islands\"\n",
    "data.to_csv(\"../cleanedData/\"+'4-Intentional-homicide-rate.csv', sep=',', index=False) #4"
   ]
  },
  {
   "cell_type": "code",
   "execution_count": 254,
   "id": "65aab336ef1f5751",
   "metadata": {
    "ExecuteTime": {
     "end_time": "2023-12-03T18:12:46.719475365Z",
     "start_time": "2023-12-03T18:12:46.676666921Z"
    },
    "collapsed": false
   },
   "outputs": [
    {
     "name": "stderr",
     "output_type": "stream",
     "text": [
      "C:\\Users\\Edouard\\AppData\\Local\\Temp\\ipykernel_14784\\2563520200.py:10: SettingWithCopyWarning: \n",
      "A value is trying to be set on a copy of a slice from a DataFrame\n",
      "\n",
      "See the caveats in the documentation: https://pandas.pydata.org/pandas-docs/stable/user_guide/indexing.html#returning-a-view-versus-a-copy\n",
      "  data[\"Country\"][5]= \"Saudi Arabia\"\n",
      "C:\\Users\\Edouard\\AppData\\Local\\Temp\\ipykernel_14784\\2563520200.py:11: SettingWithCopyWarning: \n",
      "A value is trying to be set on a copy of a slice from a DataFrame\n",
      "\n",
      "See the caveats in the documentation: https://pandas.pydata.org/pandas-docs/stable/user_guide/indexing.html#returning-a-view-versus-a-copy\n",
      "  data[\"Country\"][8]= \"France\"\n",
      "C:\\Users\\Edouard\\AppData\\Local\\Temp\\ipykernel_14784\\2563520200.py:12: SettingWithCopyWarning: \n",
      "A value is trying to be set on a copy of a slice from a DataFrame\n",
      "\n",
      "See the caveats in the documentation: https://pandas.pydata.org/pandas-docs/stable/user_guide/indexing.html#returning-a-view-versus-a-copy\n",
      "  data[\"Country\"][18]= \"Poland\"\n"
     ]
    }
   ],
   "source": [
    "fileName='5 - List of countries with highest military expenditures.csv' \n",
    "df=pd.read_csv('../rawData/'+fileName)\n",
    "data=df.copy()\n",
    "data=data.drop(data.index[0:1]) # Dropped the world statistic as it's not necessary nor a country\n",
    "data=data.rename(columns={\"% of GDP\":\"percentage-GDP\"}) \n",
    "data[[\"percentage-GDP\"]]=data[[\"percentage-GDP\"]].apply(pd.to_numeric,errors='coerce') \n",
    "data['Country'] = data['Country'].str.replace(r'[][]', '', regex=True)\n",
    "data=data.iloc[:,[1,3]] \n",
    "data[\"Country\"][2]= \"China\"\n",
    "data[\"Country\"][5]= \"Saudi Arabia\"\n",
    "data[\"Country\"][8]= \"France\"\n",
    "data[\"Country\"][18]= \"Poland\"\n",
    "\n",
    "data.to_csv(\"../cleanedData/\"+'5-Military-spending.csv', sep=',', index=False)"
   ]
  },
  {
   "cell_type": "code",
   "execution_count": 255,
   "id": "9ade1501d71fc438",
   "metadata": {
    "ExecuteTime": {
     "end_time": "2023-12-03T18:15:35.319640107Z",
     "start_time": "2023-12-03T18:15:35.298175579Z"
    },
    "collapsed": false
   },
   "outputs": [],
   "source": [
    "fileName='6 - List of countries by Human Development Index.csv' #6\n",
    "df=pd.read_csv('../rawData/'+fileName)\n",
    "df.head()\n",
    "data=df.copy()\n",
    "data=data.drop(data.index[0:1])\n",
    "data=data.iloc[:,[2,3]]  # Assumed 2019 in the instructions is a mistake, took 2021 columns\n",
    "data[[\"HDI\"]]=data[[\"HDI\"]].apply(pd.to_numeric,errors='coerce') #6\n",
    "data.to_csv(\"../cleanedData/\"+'6-Human-development-index.csv', sep=',', index=False) #6"
   ]
  },
  {
   "cell_type": "code",
   "execution_count": 218,
   "id": "553deccb4381aeda",
   "metadata": {
    "ExecuteTime": {
     "end_time": "2023-12-03T18:17:45.347319993Z",
     "start_time": "2023-12-03T18:17:45.288029284Z"
    },
    "collapsed": false
   },
   "outputs": [],
   "source": [
    "fileName='7 - The Economist Democracy Index.csv' #7\n",
    "df=pd.read_csv('../rawData/'+fileName)\n",
    "data=df.copy()\n",
    "data=data.iloc[:,[2,6]]\n",
    "data[\"2020\"]=data[\"2020\"].apply(pd.to_numeric,errors='coerce')\n",
    "data.to_csv(\"../cleanedData/\"+'7-Democracy-Index.csv', sep=',', index=False) "
   ]
  },
  {
   "cell_type": "code",
   "execution_count": 219,
   "id": "71608b513428df68",
   "metadata": {
    "ExecuteTime": {
     "end_time": "2023-12-03T18:22:34.778518907Z",
     "start_time": "2023-12-03T18:22:34.716838176Z"
    },
    "collapsed": false
   },
   "outputs": [],
   "source": [
    "fileName='8 - List of countries by tertiary education attainment.csv' #8\n",
    "df=pd.read_csv('../rawData/'+fileName)\n",
    "data=df.copy()\n",
    "data=data.iloc[:,[0,1]]\n",
    "data=data.drop(data.index[0:1])\n",
    "data=data.rename(columns={\"Ages 25–34:\\xa0% equivalent to a degree course lasting at least:\":\"percentage-of-population-with-education-of-2-year-tertiary-degree-or-equivalent\"})\n",
    "data.head()\n",
    "data.to_csv(\"../cleanedData/\"+'8-Tertiary-education.csv', sep=',', index=False)"
   ]
  },
  {
   "cell_type": "code",
   "execution_count": 220,
   "id": "ba6e25c167cea116",
   "metadata": {
    "ExecuteTime": {
     "end_time": "2023-12-03T18:24:26.847244233Z",
     "start_time": "2023-12-03T18:24:26.820135353Z"
    },
    "collapsed": false
   },
   "outputs": [],
   "source": [
    "fileName='9 - Importance of religion by country.csv' #9\n",
    "df=pd.read_csv('../rawData/'+fileName)\n",
    "data=df.copy()\n",
    "data=data.iloc[:,[0,1]]\n",
    "data=data.rename(columns={\"Yes, important[1]\":\"Yes/Important(%)\"}) \n",
    "data[\"Yes/Important(%)\"] = data[\"Yes/Important(%)\"].str.replace('%', '') \n",
    "data.to_csv(\"../cleanedData/\"+'9-Religion-Importance.csv', sep=',', index=False) "
   ]
  },
  {
   "cell_type": "code",
   "execution_count": 259,
   "id": "ca8643b103d3a612",
   "metadata": {
    "ExecuteTime": {
     "end_time": "2023-12-03T19:04:39.979622001Z",
     "start_time": "2023-12-03T19:04:39.929244903Z"
    },
    "collapsed": false
   },
   "outputs": [
    {
     "name": "stderr",
     "output_type": "stream",
     "text": [
      "C:\\Users\\Edouard\\AppData\\Local\\Temp\\ipykernel_14784\\1644645271.py:15: SettingWithCopyWarning: \n",
      "A value is trying to be set on a copy of a slice from a DataFrame\n",
      "\n",
      "See the caveats in the documentation: https://pandas.pydata.org/pandas-docs/stable/user_guide/indexing.html#returning-a-view-versus-a-copy\n",
      "  data[\"Country/entity\"][99] = \"North Korea\"\n",
      "C:\\Users\\Edouard\\AppData\\Local\\Temp\\ipykernel_14784\\1644645271.py:16: SettingWithCopyWarning: \n",
      "A value is trying to be set on a copy of a slice from a DataFrame\n",
      "\n",
      "See the caveats in the documentation: https://pandas.pydata.org/pandas-docs/stable/user_guide/indexing.html#returning-a-view-versus-a-copy\n",
      "  data[\"Country/entity\"][100] = \"South Korea\"\n"
     ]
    }
   ],
   "source": [
    "fileName='10 - Christianity by country.csv' #10\n",
    "df=pd.read_csv('../rawData/'+fileName)\n",
    "data=df.copy()\n",
    "data=data.iloc[:,[0,2]]\n",
    "data=data.rename(columns={\"Country or entity\":\"Country/entity\",\"% Christian\":\"temp\"})\n",
    "data[[\"temp\"]]=data[[\"temp\"]].astype(str)\n",
    "data[\"Country/entity\"] = data[\"Country/entity\"].str.replace(' \\(details\\)', '', regex=True)\n",
    "data[\"temp\"] = data[\"temp\"].str.replace('\\[.*\\]', '', regex=True)\n",
    "data[\"temp\"] = data[\"temp\"].str.replace('\\(.*\\)', '', regex=True)\n",
    "data[\"temp\"] = data[\"temp\"].str.replace('%', '', regex=True)\n",
    "data['Christian(%)'] = [ ((float(x.split('-')[0]) + float(x.split('-')[1]))/2)  if '-' in x else x for x in data['temp']]\n",
    "data[[\"Christian(%)\"]]=data[[\"Christian(%)\"]].apply(pd.to_numeric,errors='coerce') #6\n",
    "data=data.iloc[:,[0,2]]\n",
    "data[\"Country/entity\"][41] = \"China\"\n",
    "data[\"Country/entity\"][99] = \"North Korea\"\n",
    "data[\"Country/entity\"][100] = \"South Korea\"\n",
    "data.to_csv(\"../cleanedData/\"+'10-Christianity-by-country.csv', sep=',', index=False)"
   ]
  },
  {
   "cell_type": "code",
   "execution_count": 222,
   "id": "6c4df1d30b9dafa1",
   "metadata": {
    "ExecuteTime": {
     "end_time": "2023-12-03T16:59:52.866257991Z",
     "start_time": "2023-12-03T16:59:52.795908922Z"
    },
    "collapsed": false
   },
   "outputs": [],
   "source": [
    "fileName=\"11 - Islam by country.csv\"\n",
    "df=pd.read_csv(\"../rawData/\"+fileName)\n",
    "data=df.copy()\n",
    "data=data.iloc[:,[0,3]]\n",
    "data[\"Muslim percentage of total population\"] = data[\"Muslim percentage of total population\"].str.replace('<', '') \n",
    "data.to_csv(\"../cleanedData/\" + \"11 - Islam by country.csv\", sep=\",\",index=False)"
   ]
  },
  {
   "cell_type": "code",
   "execution_count": 223,
   "metadata": {},
   "outputs": [],
   "source": [
    "fileName=\"12 - Buddhism by country.csv\"\n",
    "df=pd.read_csv(\"../rawData/\"+fileName, skiprows=1)\n",
    "data = df.copy()\n",
    "data=data.iloc[:,[0,6]]\n",
    "data = data.rename(columns={\"% Buddhist.1\":\"Buddhist (%)\"})\n",
    "data[\"Buddhist (%)\"] = data[\"Buddhist (%)\"].str.replace(\"<\", \"\").str.replace(\"%\",\"\")\n",
    "data[\"Country/Territory\"] = data[\"Country/Territory\"].str.replace(' \\(.*\\)', '', regex=True)\n",
    "data[\"Country/Territory\"] = data[\"Country/Territory\"].drop_duplicates()\n",
    "data.to_csv(\"../cleanedData/\" + \"12 - Buddhism by country.csv\", sep=\",\", index=False)\n"
   ]
  },
  {
   "cell_type": "code",
   "execution_count": 224,
   "metadata": {},
   "outputs": [],
   "source": [
    "df=pd.read_csv(\"../rawData/13 - Jewish population by country.csv\", skiprows=1)\n",
    "data=df.copy()\n",
    "data=data.iloc[1:,[0,2]]\n",
    "data=data.rename(columns={\"pct\": \"Jewish (%)\"})\n",
    "data[\"Countries\"]=data[\"Countries\"].str.replace(\"\\[[a-zA-Z]+\\]\",\"\",regex=True)\n",
    "data.to_csv(\"../cleanedData/\" + \"13 - Jewish population by country.csv\",sep=\",\",index=False)"
   ]
  },
  {
   "cell_type": "code",
   "execution_count": 225,
   "metadata": {},
   "outputs": [
    {
     "name": "stderr",
     "output_type": "stream",
     "text": [
      "C:\\Users\\Edouard\\AppData\\Local\\Temp\\ipykernel_14784\\1986783659.py:3: FutureWarning: The default value of regex will change from True to False in a future version. In addition, single character regular expressions will *not* be treated as literal strings when regex=True.\n",
      "  data[\"Location\"]=data[\"Location\"].str.replace(\" \",\"\").str.replace(\"*\",\"\")\n"
     ]
    }
   ],
   "source": [
    "df=pd.read_csv(\"../rawData/14 - List of countries by infant and under-five mortality rates.csv\")\n",
    "data=df.copy()\n",
    "data[\"Location\"]=data[\"Location\"].str.replace(\" \",\"\").str.replace(\"*\",\"\")\n",
    "data[\"Location\"] = data[\"Location\"].str.replace(' \\(.*\\)', '', regex=True)\n",
    "data[\"Location\"] = data[\"Location\"].drop_duplicates()\n",
    "data.to_csv(\"../cleanedData/\" + \"14 - List of countries by infant and under-five mortality rates.csv\",sep=\",\",index=False)"
   ]
  },
  {
   "cell_type": "code",
   "execution_count": 226,
   "metadata": {},
   "outputs": [],
   "source": [
    "df=pd.read_csv(\"../rawData/15 - Age of criminal responsibility.csv\")\n",
    "data=df.copy()\n",
    "data=data.iloc[:,[0,1]]\n",
    "data = data.rename(columns={\"Age (reduced)[a]\":\"Age of criminal responsibility\"})\n",
    "\n"
   ]
  },
  {
   "cell_type": "markdown",
   "metadata": {},
   "source": [
    "Quand il y a plusieurs ages je prend le plancher du milieu."
   ]
  },
  {
   "cell_type": "code",
   "execution_count": 227,
   "metadata": {},
   "outputs": [],
   "source": [
    "data[\"Age of criminal responsibility\"] = data[\"Age of criminal responsibility\"].replace([\"10/14\", \"13/14-15\",\"9 (girls), 15 (boys)\", \"12/16-21\", \"14/15\", \"12/14\", \"10/12\"],[\"12\", \"14\", \"12\", \"16\", \"14\", \"13\", \"11\"])\n",
    "data.to_csv(\"../cleanedData/\" + \"15 - Age of criminal responsibility.csv\",sep=\",\",index=False)"
   ]
  },
  {
   "cell_type": "code",
   "execution_count": 228,
   "metadata": {},
   "outputs": [],
   "source": [
    "df=pd.read_csv(\"../rawData/16 - List of countries by minimum wage.csv\", skiprows=1)\n",
    "data=df.copy()\n",
    "data=data.iloc[1:,[0,2]]\n",
    "data=data.rename(columns={\"Nominal (US$)[6]\":\"Annual minimum wage (US$)\"})\n",
    "data.to_csv(\"../cleanedData/\" + \"16 - List of countries by minimum wage.csv\",sep=\",\",index=False)"
   ]
  },
  {
   "cell_type": "code",
   "execution_count": 265,
   "metadata": {},
   "outputs": [
    {
     "name": "stderr",
     "output_type": "stream",
     "text": [
      "C:\\Users\\Edouard\\AppData\\Local\\Temp\\ipykernel_14784\\2922700206.py:5: SettingWithCopyWarning: \n",
      "A value is trying to be set on a copy of a slice from a DataFrame\n",
      "\n",
      "See the caveats in the documentation: https://pandas.pydata.org/pandas-docs/stable/user_guide/indexing.html#returning-a-view-versus-a-copy\n",
      "  data[\"Country/Region\"][95] = \"Trinidad and Tobago\"\n"
     ]
    }
   ],
   "source": [
    "df=pd.read_csv(\"../rawData/17 - List of countries by external debt.csv\")\n",
    "data=df.copy()\n",
    "data=data.iloc[:,[0,3]]\n",
    "data=data.rename(columns={\"% of GDP\":\"External debt (% of GDP)\"})\n",
    "data[\"Country/Region\"][95] = \"Trinidad and Tobago\"\n",
    "data.to_csv(\"../cleanedData/\" + \"17 - List of countries by external debt.csv\",sep=\",\",index=False)"
   ]
  },
  {
   "cell_type": "code",
   "execution_count": 230,
   "metadata": {},
   "outputs": [],
   "source": [
    "df=pd.read_csv(\"../rawData/18 - List of countries by income equality.csv\", skiprows=1)\n",
    "data=df.copy()\n",
    "data=data.iloc[1:,[0,7]]\n",
    "data=data.rename(columns={\"%\":\"Gini Ratio\"})\n",
    "data.to_csv(\"../cleanedData/\" + \"18 - List of countries by income equality.csv\",sep=\",\",index=False)"
   ]
  },
  {
   "cell_type": "code",
   "execution_count": 231,
   "metadata": {},
   "outputs": [
    {
     "name": "stderr",
     "output_type": "stream",
     "text": [
      "C:\\Users\\Edouard\\AppData\\Local\\Temp\\ipykernel_14784\\3459292664.py:4: FutureWarning: The default value of regex will change from True to False in a future version. In addition, single character regular expressions will *not* be treated as literal strings when regex=True.\n",
      "  data[\"Location\"]=data[\"Location\"].str.replace(\" \",\"\").str.replace(\"*\",\"\")\n"
     ]
    }
   ],
   "source": [
    "df=pd.read_csv(\"../rawData/19 - List of countries by total health expenditure per capita.csv\")\n",
    "data=df.copy()\n",
    "data=data.iloc[:,[0,1]]\n",
    "data[\"Location\"]=data[\"Location\"].str.replace(\" \",\"\").str.replace(\"*\",\"\")\n",
    "data=data.rename(columns={\"2018\":\"Health spending per capita (International dollars)\"})\n",
    "data.to_csv(\"../cleanedData/\" + \"19 - List of countries by total health expenditure per capita.csv\",sep=\",\",index=False)"
   ]
  },
  {
   "cell_type": "code",
   "execution_count": 232,
   "metadata": {},
   "outputs": [
    {
     "name": "stderr",
     "output_type": "stream",
     "text": [
      "C:\\Users\\Edouard\\AppData\\Local\\Temp\\ipykernel_14784\\2115403198.py:6: FutureWarning: The default value of regex will change from True to False in a future version. In addition, single character regular expressions will *not* be treated as literal strings when regex=True.\n",
      "  data[\"Country\"]=data[\"Country\"].str.replace(\" \",\"\").str.replace(\"*\",\"\")\n"
     ]
    }
   ],
   "source": [
    "df=pd.read_csv(\"../rawData/20 - List of countries by suicide rate.csv\")\n",
    "data=df.copy()\n",
    "data=data.iloc[:,[0,1]]\n",
    "# on ne veux pas les continents\n",
    "data=data.drop(labels=range(181,188),axis=0)\n",
    "data[\"Country\"]=data[\"Country\"].str.replace(\" \",\"\").str.replace(\"*\",\"\")\n",
    "#si le pays se répète on met la moyenne.\n",
    "data=data.groupby(data[\"Country\"]).aggregate({\"All\": \"mean\"})\n",
    "data=data.rename(columns={\"All\":\"Suicide Rate\"})\n",
    "data.to_csv(\"../cleanedData/\" + \"20 - List of countries by suicide rate.csv\",sep=\",\")"
   ]
  },
  {
   "cell_type": "code",
   "execution_count": 268,
   "id": "7ededee4",
   "metadata": {},
   "outputs": [],
   "source": [
    "df=pd.read_csv(\"../rawData/21 - List of countries by total fertility rate.csv\")\n",
    "data=df.copy()\n",
    "# Apres la ligne 212 ce n'est plus des pays\n",
    "data=data.iloc[0:211,[1,2]]\n",
    "data[\"Country\"] = data[\"Country\"].str.replace(' \\(.*\\)', '', regex=True)\n",
    "data[\"Country\"][179] = \"Channel Islands\"\n",
    "data.to_csv(\"../cleanedData/\" + \"21 - List of countries by total fertility rate.csv\",sep=\",\",index=False)"
   ]
  },
  {
   "cell_type": "code",
   "execution_count": 234,
   "id": "c94bf6b0",
   "metadata": {},
   "outputs": [
    {
     "name": "stderr",
     "output_type": "stream",
     "text": [
      "C:\\Users\\Edouard\\AppData\\Local\\Temp\\ipykernel_14784\\1150345486.py:5: FutureWarning: The default value of regex will change from True to False in a future version. In addition, single character regular expressions will *not* be treated as literal strings when regex=True.\n",
      "  data[\"Country\"]=data[\"Country\"].str.replace(\" \",\"\").str.replace(\"*\",\"\")\n"
     ]
    }
   ],
   "source": [
    "df=pd.read_csv(\"../rawData/22 - Tobacco consumption by country.csv\")\n",
    "data=df.copy()\n",
    "data=data.iloc[:,[0,1]]\n",
    "# On voit qu'il y a une * après chaque nom de pays\n",
    "data[\"Country\"]=data[\"Country\"].str.replace(\" \",\"\").str.replace(\"*\",\"\")\n",
    "data.to_csv(\"../cleanedData/\" + \"22 - Tobacco consumption by country.csv\",sep=\",\",index=False)"
   ]
  },
  {
   "cell_type": "code",
   "execution_count": 235,
   "id": "c037df97",
   "metadata": {},
   "outputs": [],
   "source": [
    "df=pd.read_csv(\"../rawData/23 - List of countries by obesity rate.csv\")\n",
    "data=df.copy()\n",
    "data.to_csv(\"../cleanedData/\" + \"23 - List of countries by obesity rate.csv\",sep=\",\",index=False)"
   ]
  },
  {
   "cell_type": "code",
   "execution_count": 273,
   "id": "83bc6c5b",
   "metadata": {},
   "outputs": [
    {
     "name": "stderr",
     "output_type": "stream",
     "text": [
      "C:\\Users\\Edouard\\AppData\\Local\\Temp\\ipykernel_14784\\392368693.py:6: SettingWithCopyWarning: \n",
      "A value is trying to be set on a copy of a slice from a DataFrame\n",
      "\n",
      "See the caveats in the documentation: https://pandas.pydata.org/pandas-docs/stable/user_guide/indexing.html#returning-a-view-versus-a-copy\n",
      "  data[\"Country or area\"][70] =\"Hong Kong\"\n",
      "C:\\Users\\Edouard\\AppData\\Local\\Temp\\ipykernel_14784\\392368693.py:7: SettingWithCopyWarning: \n",
      "A value is trying to be set on a copy of a slice from a DataFrame\n",
      "\n",
      "See the caveats in the documentation: https://pandas.pydata.org/pandas-docs/stable/user_guide/indexing.html#returning-a-view-versus-a-copy\n",
      "  data[\"Country or area\"][150] =\"Macau\"\n"
     ]
    }
   ],
   "source": [
    "df=pd.read_csv(\"../rawData/24 - List of countries by number of Internet users.csv\")\n",
    "data=df.copy()\n",
    "data=data.iloc[:,[0,3]]\n",
    "data[\"Country or area\"] = data[\"Country or area\"].str.replace(' \\(.*\\)', '', regex=True)\n",
    "data[\"Country or area\"] = data[\"Country or area\"].drop_duplicates()\n",
    "data[\"Country or area\"][70] =\"Hong Kong\"\n",
    "data[\"Country or area\"][150] =\"Macau\"\n",
    "data.to_csv(\"../cleanedData/\" + \"24 - List of countries by number of Internet users.csv\",sep=\",\",index=False)"
   ]
  },
  {
   "cell_type": "code",
   "execution_count": 275,
   "id": "16314eb7",
   "metadata": {},
   "outputs": [],
   "source": [
    "df=pd.read_csv(\"../rawData/25 - List of countries by median age.csv\")\n",
    "data=df.copy()\n",
    "# Prendre l'année 2020\n",
    "data=data.iloc[2:,[0,3]]\n",
    "data[\"Country/Territory\"] = data[\"Country/Territory\"].str.replace(' \\(.*\\)', '', regex=True)\n",
    "data[\"Country/Territory\"] = data[\"Country/Territory\"].drop_duplicates()\n",
    "data[\"Country/Territory\"][53] = \"Curaçao\"\n",
    "data.to_csv(\"../cleanedData/\" + \"25 - List of countries by median age.csv\",sep=\",\",index=False)"
   ]
  },
  {
   "cell_type": "code",
   "execution_count": 278,
   "id": "cb757734",
   "metadata": {},
   "outputs": [],
   "source": [
    "df=pd.read_csv(\"../rawData/26 - List of sovereign states by economic freedom.csv\")\n",
    "data=df.copy()\n",
    "data=data.iloc[:,[1,2]]\n",
    "data[\"Country\"][78] = \"Kyrgyzstan\"\n",
    "data.to_csv(\"../cleanedData/\" + \"26 - List of sovereign states by economic freedom.csv\",sep=\",\",index=False)"
   ]
  },
  {
   "cell_type": "code",
   "execution_count": 239,
   "id": "432a6bcb",
   "metadata": {},
   "outputs": [
    {
     "name": "stderr",
     "output_type": "stream",
     "text": [
      "C:\\Users\\Edouard\\AppData\\Local\\Temp\\ipykernel_14784\\605824824.py:6: FutureWarning: The default value of regex will change from True to False in a future version.\n",
      "  data[\"Country\"]=data[\"Country\"].str.replace(\" \",\"\").str.replace(\" \\(OPEC\\)\",\"\")\n"
     ]
    }
   ],
   "source": [
    "df=pd.read_csv(\"../rawData/27 - List of countries by oil production.csv\")\n",
    "data=df.copy()\n",
    "# Dernière ligne est \"world\"\n",
    "data=data.iloc[:-1,[0,1]]\n",
    "# Remove \"(OPEC)\"\n",
    "data[\"Country\"]=data[\"Country\"].str.replace(\" \",\"\").str.replace(\" \\(OPEC\\)\",\"\")\n",
    "data.to_csv(\"../cleanedData/\" + \"27 - List of countries by oil production.csv\",sep=\",\",index=False)"
   ]
  },
  {
   "cell_type": "code",
   "execution_count": 240,
   "id": "c02d4c6a",
   "metadata": {},
   "outputs": [
    {
     "name": "stderr",
     "output_type": "stream",
     "text": [
      "C:\\Users\\Edouard\\AppData\\Local\\Temp\\ipykernel_14784\\1375308467.py:7: FutureWarning: The default value of regex will change from True to False in a future version. In addition, single character regular expressions will *not* be treated as literal strings when regex=True.\n",
      "  data[\"Country (or territory)\"]=data[\"Country (or territory)\"].str.replace(\" \",\"\").str.replace(\"*\",\"\")\n"
     ]
    }
   ],
   "source": [
    "df=pd.read_csv(\"../rawData/28 - List of countries by population growth rate.csv\")\n",
    "data=df.copy()\n",
    "# Les données commencent à la ligne 3 et on ignore les deux premières lignes\n",
    "data=data.iloc[4:,[0,1]]\n",
    "data[\"Country (or territory)\"] = data[\"Country (or territory)\"].str.replace(' \\(.*\\)', '', regex=True)\n",
    "# Remove *\n",
    "data[\"Country (or territory)\"]=data[\"Country (or territory)\"].str.replace(\" \",\"\").str.replace(\"*\",\"\")\n",
    "data.to_csv(\"../cleanedData/\" + \"28 - List of countries by population growth rate.csv\",sep=\",\",index=False)"
   ]
  },
  {
   "cell_type": "code",
   "execution_count": 280,
   "id": "58124d19",
   "metadata": {},
   "outputs": [],
   "source": [
    "df=pd.read_csv(\"../rawData/29 - List of countries by life expectancy.csv\")\n",
    "data=df.copy()\n",
    "# Les données commencent à la ligne 4\n",
    "data=data.iloc[2:,[0,1]]\n",
    "data[\"Countries\"][93]=\"Vietnam\"\n",
    "data.to_csv(\"../cleanedData/\" + \"29 - List of countries by life expectancy.csv\",sep=\",\",index=False)"
   ]
  },
  {
   "cell_type": "code",
   "execution_count": 242,
   "id": "8d6d8640",
   "metadata": {},
   "outputs": [],
   "source": [
    "df=pd.read_csv(\"../rawData/30 - List of countries by meat consumption.csv\")\n",
    "data=df.copy()\n",
    "# Prendre l'an 2020\n",
    "data=data.iloc[:,[0,-1]]\n",
    "data.to_csv(\"../cleanedData/\" + \"30 - List of countries by meat consumption.csv\",sep=\",\",index=False)"
   ]
  },
  {
   "cell_type": "code",
   "execution_count": 243,
   "id": "0f0aa1ad",
   "metadata": {},
   "outputs": [
    {
     "name": "stderr",
     "output_type": "stream",
     "text": [
      "C:\\Users\\Edouard\\AppData\\Local\\Temp\\ipykernel_14784\\2102510274.py:6: FutureWarning: The default value of regex will change from True to False in a future version. In addition, single character regular expressions will *not* be treated as literal strings when regex=True.\n",
      "  data[\"Location\"]=data[\"Location\"].str.replace(\" \",\"\").str.replace(\"*\",\"\")\n"
     ]
    }
   ],
   "source": [
    "df=pd.read_csv(\"../rawData/31 - List of countries by incarceration rate.csv\")\n",
    "data=df.copy()\n",
    "data=data.iloc[:,[0,-2]]\n",
    "data[\"Location\"] = data[\"Location\"].str.replace(' \\(.*\\)', '', regex=True)\n",
    "data[\"Location\"] = data[\"Location\"].str.replace(' \\[.*\\]', '', regex=True)\n",
    "data[\"Location\"]=data[\"Location\"].str.replace(\" \",\"\").str.replace(\"*\",\"\")\n",
    "data[\"Location\"][222] = \"British Virgin Islands\"\n",
    "data[\"Location\"][223] = \"US Virgin Islands\"\n",
    "data.to_csv(\"../cleanedData/\" + \"31 - List of countries by incarceration rate.csv\",sep=\",\",index=False)"
   ]
  },
  {
   "cell_type": "code",
   "execution_count": 244,
   "metadata": {},
   "outputs": [],
   "source": [
    "df=pd.read_csv(\"../cleanedData/32 - List of countries by literacy rate.csv\")\n",
    "data=df.copy()\n",
    "data[\"Country\"] = data[\"Country\"].str.replace(' \\(.*\\)', '', regex=True)\n",
    "data[\"Country\"] = data[\"Country\"].drop_duplicates()"
   ]
  },
  {
   "cell_type": "code",
   "execution_count": 245,
   "metadata": {},
   "outputs": [],
   "source": [
    "df=pd.read_csv(\"../cleanedData/35 - List of sovereign states by homeless population.csv\")\n",
    "data=df.copy()\n",
    "data[\"Country\"] = data[\"Country\"].str.replace(' \\(.*\\)', '', regex=True)\n",
    "data[\"Country\"] = data[\"Country\"].drop_duplicates()"
   ]
  },
  {
   "cell_type": "code",
   "execution_count": 246,
   "metadata": {},
   "outputs": [],
   "source": [
    "df=pd.read_csv(\"../cleanedData/37 - List of countries by number of scientific and technical journal articles.csv\")\n",
    "data=df.copy()\n",
    "data[\"Country\"] = data[\"Country\"].str.replace(' \\(.*\\)', '', regex=True)\n",
    "data[\"Country\"] = data[\"Country\"].drop_duplicates()"
   ]
  },
  {
   "cell_type": "code",
   "execution_count": 247,
   "metadata": {},
   "outputs": [],
   "source": [
    "df=pd.read_csv(\"../cleanedData/38 - Books published per country per year.csv\")\n",
    "data=df.copy()\n",
    "data[\"Country\"] = data[\"Country\"].str.replace(' \\(.*\\)', '', regex=True)\n",
    "data[\"Country\"] = data[\"Country\"].drop_duplicates()"
   ]
  },
  {
   "cell_type": "code",
   "execution_count": 248,
   "metadata": {},
   "outputs": [],
   "source": [
    "filePaths = [\n",
    "    \"../cleanedData/1-GDP-per-capita.csv\",\n",
    "    \"../cleanedData/2-Internet-speed.csv\",\n",
    "    \"../cleanedData/3-Alcool-Consumption-per-capita.csv\",\n",
    "    \"../cleanedData/4-Intentional-homicide-rate.csv\",\n",
    "    \"../cleanedData/5-Military-spending.csv\",\n",
    "    \"../cleanedData/6-Human-development-index.csv\",\n",
    "    \"../cleanedData/7-Democracy-Index.csv\",\n",
    "    \"../cleanedData/8-Tertiary-education.csv\",\n",
    "    \"../cleanedData/9-Religion-Importance.csv\",\n",
    "    \"../cleanedData/10-Christianity-by-country.csv\",\n",
    "    \"../cleanedData/11 - Islam by country.csv\",\n",
    "    \"../cleanedData/12 - Buddhism by country.csv\",\n",
    "    \"../cleanedData/13 - Jewish population by country.csv\",\n",
    "    \"../cleanedData/14 - List of countries by infant and under-five mortality rates.csv\",\n",
    "    \"../cleanedData/15 - Age of criminal responsibility.csv\",\n",
    "    \"../cleanedData/16 - List of countries by minimum wage.csv\",\n",
    "    \"../cleanedData/17 - List of countries by external debt.csv\",\n",
    "    \"../cleanedData/18 - List of countries by income equality.csv\",\n",
    "    \"../cleanedData/19 - List of countries by total health expenditure per capita.csv\",\n",
    "    \"../cleanedData/20 - List of countries by suicide rate.csv\",\n",
    "    \"../cleanedData/21 - List of countries by total fertility rate.csv\",\n",
    "    \"../cleanedData/22 - Tobacco consumption by country.csv\",\n",
    "    \"../cleanedData/23 - List of countries by obesity rate.csv\",\n",
    "    \"../cleanedData/24 - List of countries by number of Internet users.csv\",\n",
    "    \"../cleanedData/25 - List of countries by median age.csv\",\n",
    "    \"../cleanedData/26 - List of sovereign states by economic freedom.csv\",\n",
    "    \"../cleanedData/27 - List of countries by oil production.csv\",\n",
    "    \"../cleanedData/28 - List of countries by population growth rate.csv\",\n",
    "    \"../cleanedData/29 - List of countries by life expectancy.csv\",\n",
    "    \"../cleanedData/30 - List of countries by meat consumption.csv\",\n",
    "    \"../cleanedData/31 - List of countries by incarceration rate.csv\",\n",
    "    \"../cleanedData/32 - List of countries by literacy rate.csv\",\n",
    "    \"../cleanedData/33 - List of countries by age at first marriage.csv\",\n",
    "    \"../cleanedData/34 - List of countries by spending on education as percentage of GDP.csv\",\n",
    "    \"../cleanedData/35 - List of sovereign states by homeless population.csv\",\n",
    "    \"../cleanedData/36 - List of countries by milk consumption per capita.csv\",\n",
    "    \"../cleanedData/37 - List of countries by number of scientific and technical journal articles.csv\",\n",
    "    \"../cleanedData/38 - Books published per country per year.csv\",\n",
    "    \"../cleanedData/39 - List of countries by food energy intake.csv\",\n",
    "    \"../cleanedData/40 - List of countries by average yearly temperature.csv\"\n",
    "]\n",
    "\n",
    "dfs = []\n",
    "for filePath in filePaths:\n",
    "    dfs.append(pd.read_csv(filePath))\n",
    "\n",
    "for i in range(len(dfs)):\n",
    "    if (dfs[i].columns[0] != \"Country\"):\n",
    "        dfs[i] = dfs[i].rename(columns={dfs[i].columns[0]:\"Country\"})\n",
    "        dfs[i].to_csv(filePaths[i], sep=\",\",index=False)\n",
    "    dfs[i][\"Country\"] = dfs[i][\"Country\"].str.replace(' \\(.*\\)|\\[.*\\]|\\**', '', regex=True)\n",
    "    dfs[i][\"Country\"] = dfs[i][\"Country\"].drop_duplicates()\n",
    "    \n",
    "    \n",
    "        \n",
    "data = pd.concat([dfs[0].set_index('Country'), dfs[1].set_index('Country')], axis=1, join='outer').reset_index()\n",
    "for i in range(2,len(dfs)):\n",
    "    data = pd.concat([data.set_index('Country'), dfs[i].set_index('Country')], axis=1, join='outer').reset_index()\n",
    "\n",
    "data.to_csv(\"../cleanedData/FinalData.csv\", sep=\",\",index=False)\n",
    "\n",
    "\n"
   ]
  }
 ],
 "metadata": {
  "kernelspec": {
   "display_name": "Python 3",
   "language": "python",
   "name": "python3"
  },
  "language_info": {
   "codemirror_mode": {
    "name": "ipython",
    "version": 3
   },
   "file_extension": ".py",
   "mimetype": "text/x-python",
   "name": "python",
   "nbconvert_exporter": "python",
   "pygments_lexer": "ipython3",
   "version": "3.9.13"
  }
 },
 "nbformat": 4,
 "nbformat_minor": 5
}
