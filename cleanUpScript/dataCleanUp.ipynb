{
 "cells": [
  {
   "cell_type": "code",
   "execution_count": 1,
   "id": "initial_id",
   "metadata": {
    "ExecuteTime": {
     "end_time": "2023-12-03T17:47:18.196703071Z",
     "start_time": "2023-12-03T17:47:17.647510380Z"
    },
    "collapsed": true
   },
   "outputs": [],
   "source": [
    "import pandas as pd\n",
    "import numpy as np\n",
    "import os"
   ]
  },
  {
   "cell_type": "code",
   "execution_count": 2,
   "id": "59d0dc054afc152b",
   "metadata": {
    "ExecuteTime": {
     "end_time": "2023-12-03T17:58:05.747798554Z",
     "start_time": "2023-12-03T17:58:05.697164343Z"
    },
    "collapsed": false
   },
   "outputs": [],
   "source": [
    "fileName='1 - List of countries by GDP (nominal) per capita.csv' #1\n",
    "df=pd.read_csv('../rawData/'+fileName)\n",
    "data=df.copy()\n",
    "data=data.drop(df.index[0:2]) #1\n",
    "data=data.iloc[:,[0,6]] #1\n",
    "data=data.rename(columns={\"United Nations[7]\":\"UN\"}) #1\n",
    "data[[\"UN\"]]=data[[\"UN\"]].apply(pd.to_numeric,errors='coerce') #1\n",
    "data.to_csv(\"../cleanedData/\"+'1-GDP-per-capita.csv', sep=',', index=False) #1"
   ]
  },
  {
   "cell_type": "code",
   "execution_count": 3,
   "id": "c3c9968e1533d27f",
   "metadata": {
    "ExecuteTime": {
     "end_time": "2023-12-03T18:02:05.638905710Z",
     "start_time": "2023-12-03T18:02:05.571427579Z"
    },
    "collapsed": false
   },
   "outputs": [],
   "source": [
    "fileName='2 - List of sovereign states by Internet connection speeds.csv' \n",
    "df=pd.read_csv('../rawData/'+fileName)\n",
    "data=df.copy()\n",
    "data=data.iloc[:,[1,2]]\n",
    "data=data.rename(columns={\"Mediandownloadspeed(Mbit/s)(Ookla)[1]\":\"Ookla\",}) #Assumed median download speed ookla is what avarage speed is refering too as there is no average speed for Ookla\n",
    "data[[\"Ookla\"]]=data[[\"Ookla\"]].apply(pd.to_numeric,errors='coerce') \n",
    "data.to_csv(\"../cleanedData/\"+'2-Internet-speed.csv', sep=',', index=False) #2"
   ]
  },
  {
   "cell_type": "code",
   "execution_count": 4,
   "id": "ed0c53971c1ebac3",
   "metadata": {
    "ExecuteTime": {
     "end_time": "2023-12-03T18:06:04.032743868Z",
     "start_time": "2023-12-03T18:06:04.022418187Z"
    },
    "collapsed": false
   },
   "outputs": [],
   "source": [
    "fileName='3 - List of countries by alcohol consumption per capita.csv' \n",
    "df=pd.read_csv('../rawData/'+fileName)\n",
    "data=df.copy()\n",
    "data=data.iloc[:,[0,2]]\n",
    "data=data.rename(columns={\"2016[8]\":\"2016\"}) \n",
    "data['Country'] = data['Country'].str.replace(r'[][]', '', regex=True) \n",
    "data[[\"2016\"]]=data[[\"2016\"]].apply(pd.to_numeric,errors='coerce') \n",
    "data.to_csv(\"../cleanedData/\"+'3-Alcool-Consumption-per-capita.csv', sep=',', index=False) #3"
   ]
  },
  {
   "cell_type": "code",
   "execution_count": 5,
   "id": "e4b5fd86d4c3ff68",
   "metadata": {
    "ExecuteTime": {
     "end_time": "2023-12-03T18:10:54.938604699Z",
     "start_time": "2023-12-03T18:10:54.895215940Z"
    },
    "collapsed": false
   },
   "outputs": [],
   "source": [
    "fileName='4 - List of countries by intentional homicide rate.csv' #4\n",
    "df=pd.read_csv('../rawData/'+fileName)\n",
    "data=df.copy()\n",
    "data[[\"Rate\"]]=data[[\"Rate\"]].apply(pd.to_numeric,errors='coerce') #4\n",
    "data['Location'] = data['Location'].str.replace('*', '', regex=True) #4\n",
    "data['Location']= data['Location'].str.strip()\n",
    "data=data.rename(columns={\"Count\":\"Victims-per-100000-habitants\"})\n",
    "data=data.iloc[:,[0,5]]\n",
    "data.to_csv(\"../cleanedData/\"+'4-Intentional-homicide-rate.csv', sep=',', index=False) #4"
   ]
  },
  {
   "cell_type": "code",
   "execution_count": 6,
   "id": "65aab336ef1f5751",
   "metadata": {
    "ExecuteTime": {
     "end_time": "2023-12-03T18:12:46.719475365Z",
     "start_time": "2023-12-03T18:12:46.676666921Z"
    },
    "collapsed": false
   },
   "outputs": [],
   "source": [
    "fileName='5 - List of countries with highest military expenditures.csv' \n",
    "df=pd.read_csv('../rawData/'+fileName)\n",
    "data=df.copy()\n",
    "data=data.drop(data.index[0:1]) # Dropped the world statistic as it's not necessary nor a country\n",
    "data=data.rename(columns={\"% of GDP\":\"percentage-GDP\"}) \n",
    "data[[\"percentage-GDP\"]]=data[[\"percentage-GDP\"]].apply(pd.to_numeric,errors='coerce') \n",
    "data['Country'] = data['Country'].str.replace(r'[][]', '', regex=True)\n",
    "data=data.iloc[:,[1,3]] \n",
    "data.to_csv(\"../cleanedData/\"+'5-Military-spending.csv', sep=',', index=False)"
   ]
  },
  {
   "cell_type": "code",
   "execution_count": 7,
   "id": "9ade1501d71fc438",
   "metadata": {
    "ExecuteTime": {
     "end_time": "2023-12-03T18:15:35.319640107Z",
     "start_time": "2023-12-03T18:15:35.298175579Z"
    },
    "collapsed": false
   },
   "outputs": [],
   "source": [
    "fileName='6 - List of countries by Human Development Index.csv' #6\n",
    "df=pd.read_csv('../rawData/'+fileName)\n",
    "df.head()\n",
    "data=df.copy()\n",
    "data=data.drop(data.index[0:1])\n",
    "data=data.iloc[:,[2,3]]  # Assumed 2019 in the instructions is a mistake, took 2021 columns\n",
    "data[[\"HDI\"]]=data[[\"HDI\"]].apply(pd.to_numeric,errors='coerce') #6\n",
    "data.to_csv(\"../cleanedData/\"+'6-Human-development-index.csv', sep=',', index=False) #6"
   ]
  },
  {
   "cell_type": "code",
   "execution_count": 8,
   "id": "553deccb4381aeda",
   "metadata": {
    "ExecuteTime": {
     "end_time": "2023-12-03T18:17:45.347319993Z",
     "start_time": "2023-12-03T18:17:45.288029284Z"
    },
    "collapsed": false
   },
   "outputs": [],
   "source": [
    "fileName='7 - The Economist Democracy Index.csv' #7\n",
    "df=pd.read_csv('../rawData/'+fileName)\n",
    "data=df.copy()\n",
    "data=data.iloc[:,[2,6]]\n",
    "data[\"2020\"]=data[\"2020\"].apply(pd.to_numeric,errors='coerce')\n",
    "data.to_csv(\"../cleanedData/\"+'7-Democracy-Index.csv', sep=',', index=False) "
   ]
  },
  {
   "cell_type": "code",
   "execution_count": 9,
   "id": "71608b513428df68",
   "metadata": {
    "ExecuteTime": {
     "end_time": "2023-12-03T18:22:34.778518907Z",
     "start_time": "2023-12-03T18:22:34.716838176Z"
    },
    "collapsed": false
   },
   "outputs": [],
   "source": [
    "fileName='8 - List of countries by tertiary education attainment.csv' #8\n",
    "df=pd.read_csv('../rawData/'+fileName)\n",
    "data=df.copy()\n",
    "data=data.iloc[:,[0,1]]\n",
    "data=data.drop(data.index[0:1])\n",
    "data=data.rename(columns={\"Ages 25–34:\\xa0% equivalent to a degree course lasting at least:\":\"percentage-of-population-with-education-of-2-year-tertiary-degree-or-equivalent\"})\n",
    "data.head()\n",
    "data.to_csv(\"../cleanedData/\"+'8-Tertiary-education.csv', sep=',', index=False)"
   ]
  },
  {
   "cell_type": "code",
   "execution_count": 10,
   "id": "ba6e25c167cea116",
   "metadata": {
    "ExecuteTime": {
     "end_time": "2023-12-03T18:24:26.847244233Z",
     "start_time": "2023-12-03T18:24:26.820135353Z"
    },
    "collapsed": false
   },
   "outputs": [],
   "source": [
    "fileName='9 - Importance of religion by country.csv' #9\n",
    "df=pd.read_csv('../rawData/'+fileName)\n",
    "data=df.copy()\n",
    "data=data.iloc[:,[0,1]]\n",
    "data=data.rename(columns={\"Yes, important[1]\":\"Yes/Important(%)\"}) \n",
    "data[\"Yes/Important(%)\"] = data[\"Yes/Important(%)\"].str.replace('%', '') \n",
    "data.to_csv(\"../cleanedData/\"+'9-Religion-Importance.csv', sep=',', index=False) "
   ]
  },
  {
   "cell_type": "code",
   "execution_count": 11,
   "id": "ca8643b103d3a612",
   "metadata": {
    "ExecuteTime": {
     "end_time": "2023-12-03T19:04:39.979622001Z",
     "start_time": "2023-12-03T19:04:39.929244903Z"
    },
    "collapsed": false
   },
   "outputs": [],
   "source": [
    "fileName='10 - Christianity by country.csv' #10\n",
    "df=pd.read_csv('../rawData/'+fileName)\n",
    "data=df.copy()\n",
    "data=data.iloc[:,[0,2]]\n",
    "data=data.rename(columns={\"Country or entity\":\"Country/entity\",\"% Christian\":\"temp\"})\n",
    "data[[\"temp\"]]=data[[\"temp\"]].astype(str)\n",
    "data[\"Country/entity\"] = data[\"Country/entity\"].str.replace('\\(details\\)', '', regex=True)\n",
    "data[\"temp\"] = data[\"temp\"].str.replace('\\[.*\\]', '', regex=True)\n",
    "data[\"temp\"] = data[\"temp\"].str.replace('\\(.*\\)', '', regex=True)\n",
    "data[\"temp\"] = data[\"temp\"].str.replace('%', '', regex=True)\n",
    "data['Christian(%)'] = [ ((float(x.split('-')[0]) + float(x.split('-')[1]))/2)  if '-' in x else x for x in data['temp']]\n",
    "data[[\"Christian(%)\"]]=data[[\"Christian(%)\"]].apply(pd.to_numeric,errors='coerce') #6\n",
    "data=data.iloc[:,[0,2]]\n",
    "data.to_csv(\"../cleanedData/\"+'10-Christianity-by-country.csv', sep=',', index=False)"
   ]
  },
  {
   "cell_type": "code",
   "execution_count": 12,
   "id": "6c4df1d30b9dafa1",
   "metadata": {
    "ExecuteTime": {
     "end_time": "2023-12-03T16:59:52.866257991Z",
     "start_time": "2023-12-03T16:59:52.795908922Z"
    },
    "collapsed": false
   },
   "outputs": [],
   "source": [
    "fileName=\"11 - Islam by country.csv\"\n",
    "df=pd.read_csv(\"../rawData/\"+fileName)\n",
    "data=df.copy()\n",
    "data=data.iloc[:,[0,3]]\n",
    "data[\"Muslim percentage of total population\"] = data[\"Muslim percentage of total population\"].str.replace('<', '') \n",
    "data.to_csv(\"../cleanedData/\" + \"11 - Islam by country.csv\", sep=\",\",index=False)"
   ]
  },
  {
   "cell_type": "code",
   "execution_count": 13,
   "metadata": {},
   "outputs": [],
   "source": [
    "fileName=\"12 - Buddhism by country.csv\"\n",
    "df=pd.read_csv(\"../rawData/\"+fileName, skiprows=1)\n",
    "data = df.copy()\n",
    "data=data.iloc[:,[0,6]]\n",
    "data = data.rename(columns={\"% Buddhist.1\":\"Buddhist (%)\"})\n",
    "data[\"Buddhist (%)\"] = data[\"Buddhist (%)\"].str.replace(\"<\", \"\").str.replace(\"%\",\"\")\n",
    "data.to_csv(\"../cleanedData/\" + \"12 - Buddhism by country.csv\", sep=\",\", index=False)\n"
   ]
  },
  {
   "cell_type": "code",
   "execution_count": 14,
   "metadata": {},
   "outputs": [],
   "source": [
    "df=pd.read_csv(\"../rawData/13 - Jewish population by country.csv\", skiprows=1)\n",
    "data=df.copy()\n",
    "data=data.iloc[1:,[0,2]]\n",
    "data=data.rename(columns={\"pct\": \"Jewish (%)\"})\n",
    "data[\"Countries\"]=data[\"Countries\"].str.replace(\"\\[[a-zA-Z]+\\]\",\"\",regex=True)\n",
    "data.to_csv(\"../cleanedData/\" + \"13 - Jewish population by country.csv\",sep=\",\",index=False)"
   ]
  },
  {
   "cell_type": "code",
   "execution_count": 15,
   "metadata": {},
   "outputs": [
    {
     "name": "stderr",
     "output_type": "stream",
     "text": [
      "/tmp/ipykernel_141395/1406941249.py:3: FutureWarning: The default value of regex will change from True to False in a future version. In addition, single character regular expressions will *not* be treated as literal strings when regex=True.\n",
      "  data[\"Location\"]=data[\"Location\"].str.replace(\" \",\"\").str.replace(\"*\",\"\")\n"
     ]
    }
   ],
   "source": [
    "df=pd.read_csv(\"../rawData/14 - List of countries by infant and under-five mortality rates.csv\")\n",
    "data=df.copy()\n",
    "data[\"Location\"]=data[\"Location\"].str.replace(\" \",\"\").str.replace(\"*\",\"\")\n",
    "data.to_csv(\"../cleanedData/\" + \"14 - List of countries by infant and under-five mortality rates.csv\",sep=\",\",index=False)"
   ]
  },
  {
   "cell_type": "code",
   "execution_count": 16,
   "metadata": {},
   "outputs": [],
   "source": [
    "df=pd.read_csv(\"../rawData/15 - Age of criminal responsibility.csv\")\n",
    "data=df.copy()\n",
    "data=data.iloc[:,[0,1]]\n",
    "data = data.rename(columns={\"Age (reduced)[a]\":\"Age\"})\n",
    "\n"
   ]
  },
  {
   "cell_type": "markdown",
   "metadata": {},
   "source": [
    "Quand il y a plusieurs ages je prend le plancher du milieu."
   ]
  },
  {
   "cell_type": "code",
   "execution_count": 17,
   "metadata": {},
   "outputs": [],
   "source": [
    "data[\"Age\"] = data[\"Age\"].replace([\"10/14\", \"13/14-15\",\"9 (girls), 15 (boys)\", \"12/16-21\", \"14/15\", \"12/14\", \"10/12\"],[\"12\", \"14\", \"12\", \"16\", \"14\", \"13\", \"11\"])\n",
    "data.to_csv(\"../cleanedData/\" + \"15 - Age of criminal responsibility.csv\",sep=\",\",index=False)"
   ]
  },
  {
   "cell_type": "code",
   "execution_count": 24,
   "metadata": {},
   "outputs": [],
   "source": [
    "df=pd.read_csv(\"../rawData/16 - List of countries by minimum wage.csv\", skiprows=1)\n",
    "data=df.copy()\n",
    "data=data.iloc[1:,[0,2]]\n",
    "data=data.rename(columns={\"Nominal (US$)[6]\":\"Annual (US$)\"})\n",
    "data.to_csv(\"../cleanedData/\" + \"16 - List of countries by minimum wage.csv\",sep=\",\",index=False)"
   ]
  },
  {
   "cell_type": "code",
   "execution_count": 26,
   "metadata": {},
   "outputs": [
    {
     "data": {
      "text/html": [
       "<div>\n",
       "<style scoped>\n",
       "    .dataframe tbody tr th:only-of-type {\n",
       "        vertical-align: middle;\n",
       "    }\n",
       "\n",
       "    .dataframe tbody tr th {\n",
       "        vertical-align: top;\n",
       "    }\n",
       "\n",
       "    .dataframe thead th {\n",
       "        text-align: right;\n",
       "    }\n",
       "</style>\n",
       "<table border=\"1\" class=\"dataframe\">\n",
       "  <thead>\n",
       "    <tr style=\"text-align: right;\">\n",
       "      <th></th>\n",
       "      <th>Country/Region</th>\n",
       "      <th>% of GDP</th>\n",
       "    </tr>\n",
       "  </thead>\n",
       "  <tbody>\n",
       "    <tr>\n",
       "      <th>0</th>\n",
       "      <td>United States</td>\n",
       "      <td>122.56</td>\n",
       "    </tr>\n",
       "    <tr>\n",
       "      <th>1</th>\n",
       "      <td>United Kingdom</td>\n",
       "      <td>287.08</td>\n",
       "    </tr>\n",
       "    <tr>\n",
       "      <th>2</th>\n",
       "      <td>Japan</td>\n",
       "      <td>98.44</td>\n",
       "    </tr>\n",
       "    <tr>\n",
       "      <th>3</th>\n",
       "      <td>Netherlands</td>\n",
       "      <td>381.62</td>\n",
       "    </tr>\n",
       "    <tr>\n",
       "      <th>4</th>\n",
       "      <td>France</td>\n",
       "      <td>112.06</td>\n",
       "    </tr>\n",
       "  </tbody>\n",
       "</table>\n",
       "</div>"
      ],
      "text/plain": [
       "   Country/Region  % of GDP\n",
       "0   United States    122.56\n",
       "1  United Kingdom    287.08\n",
       "2           Japan     98.44\n",
       "3     Netherlands    381.62\n",
       "4          France    112.06"
      ]
     },
     "execution_count": 26,
     "metadata": {},
     "output_type": "execute_result"
    }
   ],
   "source": [
    "df=pd.read_csv(\"../rawData/17 - List of countries by external debt.csv\")\n",
    "data=df.copy()\n",
    "data=data.iloc[:,[0,3]]\n",
    "data.to_csv(\"../cleanedData/\" + \"17 - List of countries by external debt.csv\",sep=\",\",index=False)"
   ]
  }
 ],
 "metadata": {
  "kernelspec": {
   "display_name": "Python 3",
   "language": "python",
   "name": "python3"
  },
  "language_info": {
   "codemirror_mode": {
    "name": "ipython",
    "version": 3
   },
   "file_extension": ".py",
   "mimetype": "text/x-python",
   "name": "python",
   "nbconvert_exporter": "python",
   "pygments_lexer": "ipython3",
   "version": "3.8.10"
  }
 },
 "nbformat": 4,
 "nbformat_minor": 5
}
