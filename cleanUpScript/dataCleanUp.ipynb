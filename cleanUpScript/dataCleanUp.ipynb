{
 "cells": [
  {
   "cell_type": "code",
   "execution_count": 666,
   "id": "initial_id",
   "metadata": {
    "ExecuteTime": {
     "end_time": "2023-12-03T17:47:18.196703071Z",
     "start_time": "2023-12-03T17:47:17.647510380Z"
    },
    "collapsed": true
   },
   "outputs": [],
   "source": [
    "import pandas as pd\n",
    "import numpy as np\n",
    "import os"
   ]
  },
  {
   "cell_type": "code",
   "execution_count": 667,
   "id": "59d0dc054afc152b",
   "metadata": {
    "ExecuteTime": {
     "end_time": "2023-12-03T17:58:05.747798554Z",
     "start_time": "2023-12-03T17:58:05.697164343Z"
    },
    "collapsed": false
   },
   "outputs": [],
   "source": [
    "fileName='1 - List of countries by GDP (nominal) per capita.csv' #1\n",
    "df=pd.read_csv('../rawData/'+fileName)\n",
    "data=df.copy()\n",
    "data=data.drop(df.index[0:2]) #1\n",
    "data=data.iloc[:,[0,6]] #1\n",
    "data=data.rename(columns={\"United Nations[7]\":\"UN\"}) #1\n",
    "data[\"Country/Territory\"] = data[\"Country/Territory\"].str.replace(' \\(.*\\)', '', regex=True)\n",
    "data[\"Country/Territory\"] = data[\"Country/Territory\"].drop_duplicates()\n",
    "data[[\"UN\"]]=data[[\"UN\"]].apply(pd.to_numeric,errors='coerce') #1\n",
    "data.to_csv(\"../cleanedData/\"+'1-GDP-per-capita.csv', sep=',', index=False) #1"
   ]
  },
  {
   "cell_type": "code",
   "execution_count": 668,
   "id": "c3c9968e1533d27f",
   "metadata": {
    "ExecuteTime": {
     "end_time": "2023-12-03T18:02:05.638905710Z",
     "start_time": "2023-12-03T18:02:05.571427579Z"
    },
    "collapsed": false
   },
   "outputs": [],
   "source": [
    "fileName='2 - List of sovereign states by Internet connection speeds.csv' \n",
    "df=pd.read_csv('../rawData/'+fileName)\n",
    "data=df.copy()\n",
    "data=data.iloc[:,[1,2]]\n",
    "data=data.rename(columns={\"Mediandownloadspeed(Mbit/s)(Ookla)[1]\":\"Ookla\",}) #Assumed median download speed ookla is what avarage speed is refering too as there is no average speed for Ookla\n",
    "data[[\"Ookla\"]]=data[[\"Ookla\"]].apply(pd.to_numeric,errors='coerce') \n",
    "data.to_csv(\"../cleanedData/\"+'2-Internet-speed.csv', sep=',', index=False) #2"
   ]
  },
  {
   "cell_type": "code",
   "execution_count": 669,
   "id": "ed0c53971c1ebac3",
   "metadata": {
    "ExecuteTime": {
     "end_time": "2023-12-03T18:06:04.032743868Z",
     "start_time": "2023-12-03T18:06:04.022418187Z"
    },
    "collapsed": false
   },
   "outputs": [
    {
     "name": "stderr",
     "output_type": "stream",
     "text": [
      "C:\\Users\\Edouard\\AppData\\Local\\Temp\\ipykernel_14784\\2418163614.py:9: SettingWithCopyWarning: \n",
      "A value is trying to be set on a copy of a slice from a DataFrame\n",
      "\n",
      "See the caveats in the documentation: https://pandas.pydata.org/pandas-docs/stable/user_guide/indexing.html#returning-a-view-versus-a-copy\n",
      "  data['Country'][56] = \"Estonia\"\n",
      "C:\\Users\\Edouard\\AppData\\Local\\Temp\\ipykernel_14784\\2418163614.py:10: SettingWithCopyWarning: \n",
      "A value is trying to be set on a copy of a slice from a DataFrame\n",
      "\n",
      "See the caveats in the documentation: https://pandas.pydata.org/pandas-docs/stable/user_guide/indexing.html#returning-a-view-versus-a-copy\n",
      "  data['Country'][57] = \"Eswatini\"\n",
      "C:\\Users\\Edouard\\AppData\\Local\\Temp\\ipykernel_14784\\2418163614.py:11: SettingWithCopyWarning: \n",
      "A value is trying to be set on a copy of a slice from a DataFrame\n",
      "\n",
      "See the caveats in the documentation: https://pandas.pydata.org/pandas-docs/stable/user_guide/indexing.html#returning-a-view-versus-a-copy\n",
      "  data['Country'][100] = \"North Macedonia\"\n"
     ]
    }
   ],
   "source": [
    "fileName='3 - List of countries by alcohol consumption per capita.csv' \n",
    "df=pd.read_csv('../rawData/'+fileName)\n",
    "data=df.copy()\n",
    "data=data.iloc[:,[0,2]]\n",
    "data=data.rename(columns={\"2016[8]\":\"2016\"}) \n",
    "data['Country'] = data['Country'].str.replace(r'[][]', '', regex=True) \n",
    "data[[\"2016\"]]=data[[\"2016\"]].apply(pd.to_numeric,errors='coerce')\n",
    "# Corriger des fautes de frappes\n",
    "data['Country'][56] = \"Estonia\"\n",
    "data['Country'][57] = \"Eswatini\"\n",
    "data['Country'][100] = \"North Macedonia\"\n",
    "data.to_csv(\"../cleanedData/\"+'3-Alcool-Consumption-per-capita.csv', sep=',', index=False) #3"
   ]
  },
  {
   "cell_type": "code",
   "execution_count": 670,
   "id": "e4b5fd86d4c3ff68",
   "metadata": {
    "ExecuteTime": {
     "end_time": "2023-12-03T18:10:54.938604699Z",
     "start_time": "2023-12-03T18:10:54.895215940Z"
    },
    "collapsed": false
   },
   "outputs": [
    {
     "name": "stderr",
     "output_type": "stream",
     "text": [
      "C:\\Users\\Edouard\\AppData\\Local\\Temp\\ipykernel_14784\\2628119194.py:11: SettingWithCopyWarning: \n",
      "A value is trying to be set on a copy of a slice from a DataFrame\n",
      "\n",
      "See the caveats in the documentation: https://pandas.pydata.org/pandas-docs/stable/user_guide/indexing.html#returning-a-view-versus-a-copy\n",
      "  data[\"Location\"][197] = \"US Virgin Islands\"\n"
     ]
    }
   ],
   "source": [
    "fileName='4 - List of countries by intentional homicide rate.csv' #4\n",
    "df=pd.read_csv('../rawData/'+fileName)\n",
    "data=df.copy()\n",
    "data[[\"Rate\"]]=data[[\"Rate\"]].apply(pd.to_numeric,errors='coerce') #4\n",
    "data['Location'] = data['Location'].str.replace('*', '', regex=True) #4\n",
    "data['Location']= data['Location'].str.strip()\n",
    "data=data.rename(columns={\"Count\":\"Victims-per-100000-habitants\"})\n",
    "data=data.iloc[:,[0,5]]\n",
    "data[\"Location\"] = data[\"Location\"].str.replace(' \\(.*\\)', '', regex=True)\n",
    "data[\"Location\"] = data[\"Location\"].drop_duplicates()\n",
    "data[\"Location\"][197] = \"US Virgin Islands\"\n",
    "data.to_csv(\"../cleanedData/\"+'4-Intentional-homicide-rate.csv', sep=',', index=False) #4"
   ]
  },
  {
   "cell_type": "code",
   "execution_count": 671,
   "id": "65aab336ef1f5751",
   "metadata": {
    "ExecuteTime": {
     "end_time": "2023-12-03T18:12:46.719475365Z",
     "start_time": "2023-12-03T18:12:46.676666921Z"
    },
    "collapsed": false
   },
   "outputs": [
    {
     "name": "stderr",
     "output_type": "stream",
     "text": [
      "C:\\Users\\Edouard\\AppData\\Local\\Temp\\ipykernel_14784\\2563520200.py:10: SettingWithCopyWarning: \n",
      "A value is trying to be set on a copy of a slice from a DataFrame\n",
      "\n",
      "See the caveats in the documentation: https://pandas.pydata.org/pandas-docs/stable/user_guide/indexing.html#returning-a-view-versus-a-copy\n",
      "  data[\"Country\"][5]= \"Saudi Arabia\"\n",
      "C:\\Users\\Edouard\\AppData\\Local\\Temp\\ipykernel_14784\\2563520200.py:11: SettingWithCopyWarning: \n",
      "A value is trying to be set on a copy of a slice from a DataFrame\n",
      "\n",
      "See the caveats in the documentation: https://pandas.pydata.org/pandas-docs/stable/user_guide/indexing.html#returning-a-view-versus-a-copy\n",
      "  data[\"Country\"][8]= \"France\"\n",
      "C:\\Users\\Edouard\\AppData\\Local\\Temp\\ipykernel_14784\\2563520200.py:12: SettingWithCopyWarning: \n",
      "A value is trying to be set on a copy of a slice from a DataFrame\n",
      "\n",
      "See the caveats in the documentation: https://pandas.pydata.org/pandas-docs/stable/user_guide/indexing.html#returning-a-view-versus-a-copy\n",
      "  data[\"Country\"][18]= \"Poland\"\n"
     ]
    }
   ],
   "source": [
    "fileName='5 - List of countries with highest military expenditures.csv' \n",
    "df=pd.read_csv('../rawData/'+fileName)\n",
    "data=df.copy()\n",
    "data=data.drop(data.index[0:1]) # Dropped the world statistic as it's not necessary nor a country\n",
    "data=data.rename(columns={\"% of GDP\":\"percentage-GDP\"}) \n",
    "data[[\"percentage-GDP\"]]=data[[\"percentage-GDP\"]].apply(pd.to_numeric,errors='coerce') \n",
    "data['Country'] = data['Country'].str.replace(r'[][]', '', regex=True)\n",
    "data=data.iloc[:,[1,3]] \n",
    "data[\"Country\"][2]= \"China\"\n",
    "data[\"Country\"][5]= \"Saudi Arabia\"\n",
    "data[\"Country\"][8]= \"France\"\n",
    "data[\"Country\"][18]= \"Poland\"\n",
    "\n",
    "data.to_csv(\"../cleanedData/\"+'5-Military-spending.csv', sep=',', index=False)"
   ]
  },
  {
   "cell_type": "code",
   "execution_count": 672,
   "id": "9ade1501d71fc438",
   "metadata": {
    "ExecuteTime": {
     "end_time": "2023-12-03T18:15:35.319640107Z",
     "start_time": "2023-12-03T18:15:35.298175579Z"
    },
    "collapsed": false
   },
   "outputs": [],
   "source": [
    "fileName='6 - List of countries by Human Development Index.csv' #6\n",
    "df=pd.read_csv('../rawData/'+fileName)\n",
    "df.head()\n",
    "data=df.copy()\n",
    "data=data.drop(data.index[0:1])\n",
    "data=data.iloc[:,[2,3]]  # Assumed 2019 in the instructions is a mistake, took 2021 columns\n",
    "data[[\"HDI\"]]=data[[\"HDI\"]].apply(pd.to_numeric,errors='coerce') #6\n",
    "data.to_csv(\"../cleanedData/\"+'6-Human-development-index.csv', sep=',', index=False) #6"
   ]
  },
  {
   "cell_type": "code",
   "execution_count": 673,
   "id": "553deccb4381aeda",
   "metadata": {
    "ExecuteTime": {
     "end_time": "2023-12-03T18:17:45.347319993Z",
     "start_time": "2023-12-03T18:17:45.288029284Z"
    },
    "collapsed": false
   },
   "outputs": [],
   "source": [
    "fileName='7 - The Economist Democracy Index.csv' #7\n",
    "df=pd.read_csv('../rawData/'+fileName)\n",
    "data=df.copy()\n",
    "data=data.iloc[:,[2,6]]\n",
    "data[\"2020\"]=data[\"2020\"].apply(pd.to_numeric,errors='coerce')\n",
    "data.to_csv(\"../cleanedData/\"+'7-Democracy-Index.csv', sep=',', index=False) "
   ]
  },
  {
   "cell_type": "code",
   "execution_count": 674,
   "id": "71608b513428df68",
   "metadata": {
    "ExecuteTime": {
     "end_time": "2023-12-03T18:22:34.778518907Z",
     "start_time": "2023-12-03T18:22:34.716838176Z"
    },
    "collapsed": false
   },
   "outputs": [],
   "source": [
    "fileName='8 - List of countries by tertiary education attainment.csv' #8\n",
    "df=pd.read_csv('../rawData/'+fileName)\n",
    "data=df.copy()\n",
    "data=data.iloc[:,[0,1]]\n",
    "data=data.drop(data.index[0:1])\n",
    "data=data.rename(columns={\"Ages 25–34:\\xa0% equivalent to a degree course lasting at least:\":\"percentage-of-population-with-education-of-2-year-tertiary-degree-or-equivalent\"})\n",
    "data.head()\n",
    "data.to_csv(\"../cleanedData/\"+'8-Tertiary-education.csv', sep=',', index=False)"
   ]
  },
  {
   "cell_type": "code",
   "execution_count": 675,
   "id": "ba6e25c167cea116",
   "metadata": {
    "ExecuteTime": {
     "end_time": "2023-12-03T18:24:26.847244233Z",
     "start_time": "2023-12-03T18:24:26.820135353Z"
    },
    "collapsed": false
   },
   "outputs": [],
   "source": [
    "fileName='9 - Importance of religion by country.csv' #9\n",
    "df=pd.read_csv('../rawData/'+fileName)\n",
    "data=df.copy()\n",
    "data=data.iloc[:,[0,1]]\n",
    "data=data.rename(columns={\"Yes, important[1]\":\"Yes/Important(%)\"}) \n",
    "data[\"Yes/Important(%)\"] = data[\"Yes/Important(%)\"].str.replace('%', '') \n",
    "data.to_csv(\"../cleanedData/\"+'9-Religion-Importance.csv', sep=',', index=False) "
   ]
  },
  {
   "cell_type": "code",
   "execution_count": 676,
   "id": "ca8643b103d3a612",
   "metadata": {
    "ExecuteTime": {
     "end_time": "2023-12-03T19:04:39.979622001Z",
     "start_time": "2023-12-03T19:04:39.929244903Z"
    },
    "collapsed": false
   },
   "outputs": [
    {
     "name": "stderr",
     "output_type": "stream",
     "text": [
      "C:\\Users\\Edouard\\AppData\\Local\\Temp\\ipykernel_14784\\1644645271.py:15: SettingWithCopyWarning: \n",
      "A value is trying to be set on a copy of a slice from a DataFrame\n",
      "\n",
      "See the caveats in the documentation: https://pandas.pydata.org/pandas-docs/stable/user_guide/indexing.html#returning-a-view-versus-a-copy\n",
      "  data[\"Country/entity\"][99] = \"North Korea\"\n",
      "C:\\Users\\Edouard\\AppData\\Local\\Temp\\ipykernel_14784\\1644645271.py:16: SettingWithCopyWarning: \n",
      "A value is trying to be set on a copy of a slice from a DataFrame\n",
      "\n",
      "See the caveats in the documentation: https://pandas.pydata.org/pandas-docs/stable/user_guide/indexing.html#returning-a-view-versus-a-copy\n",
      "  data[\"Country/entity\"][100] = \"South Korea\"\n"
     ]
    }
   ],
   "source": [
    "fileName='10 - Christianity by country.csv' #10\n",
    "df=pd.read_csv('../rawData/'+fileName)\n",
    "data=df.copy()\n",
    "data=data.iloc[:,[0,2]]\n",
    "data=data.rename(columns={\"Country or entity\":\"Country/entity\",\"% Christian\":\"temp\"})\n",
    "data[[\"temp\"]]=data[[\"temp\"]].astype(str)\n",
    "data[\"Country/entity\"] = data[\"Country/entity\"].str.replace(' \\(details\\)', '', regex=True)\n",
    "data[\"temp\"] = data[\"temp\"].str.replace('\\[.*\\]', '', regex=True)\n",
    "data[\"temp\"] = data[\"temp\"].str.replace('\\(.*\\)', '', regex=True)\n",
    "data[\"temp\"] = data[\"temp\"].str.replace('%', '', regex=True)\n",
    "data['Christian(%)'] = [ ((float(x.split('-')[0]) + float(x.split('-')[1]))/2)  if '-' in x else x for x in data['temp']]\n",
    "data[[\"Christian(%)\"]]=data[[\"Christian(%)\"]].apply(pd.to_numeric,errors='coerce') #6\n",
    "data=data.iloc[:,[0,2]]\n",
    "data[\"Country/entity\"][41] = \"China\"\n",
    "data[\"Country/entity\"][99] = \"North Korea\"\n",
    "data[\"Country/entity\"][100] = \"South Korea\"\n",
    "data.to_csv(\"../cleanedData/\"+'10-Christianity-by-country.csv', sep=',', index=False)"
   ]
  },
  {
   "cell_type": "code",
   "execution_count": 677,
   "id": "6c4df1d30b9dafa1",
   "metadata": {
    "ExecuteTime": {
     "end_time": "2023-12-03T16:59:52.866257991Z",
     "start_time": "2023-12-03T16:59:52.795908922Z"
    },
    "collapsed": false
   },
   "outputs": [],
   "source": [
    "fileName=\"11 - Islam by country.csv\"\n",
    "df=pd.read_csv(\"../rawData/\"+fileName)\n",
    "data=df.copy()\n",
    "data=data.iloc[:,[0,3]]\n",
    "data[\"Muslim percentage of total population\"] = data[\"Muslim percentage of total population\"].str.replace('<', '') \n",
    "data.to_csv(\"../cleanedData/\" + \"11 - Islam by country.csv\", sep=\",\",index=False)"
   ]
  },
  {
   "cell_type": "code",
   "execution_count": 678,
   "metadata": {},
   "outputs": [],
   "source": [
    "fileName=\"12 - Buddhism by country.csv\"\n",
    "df=pd.read_csv(\"../rawData/\"+fileName, skiprows=1)\n",
    "data = df.copy()\n",
    "data=data.iloc[:,[0,6]]\n",
    "data = data.rename(columns={\"% Buddhist.1\":\"Buddhist (%)\"})\n",
    "data[\"Buddhist (%)\"] = data[\"Buddhist (%)\"].str.replace(\"<\", \"\").str.replace(\"%\",\"\")\n",
    "data[\"Country/Territory\"] = data[\"Country/Territory\"].str.replace(' \\(.*\\)', '', regex=True)\n",
    "data[\"Country/Territory\"] = data[\"Country/Territory\"].drop_duplicates()\n",
    "data.to_csv(\"../cleanedData/\" + \"12 - Buddhism by country.csv\", sep=\",\", index=False)\n"
   ]
  },
  {
   "cell_type": "code",
   "execution_count": 679,
   "metadata": {},
   "outputs": [],
   "source": [
    "df=pd.read_csv(\"../rawData/13 - Jewish population by country.csv\", skiprows=1)\n",
    "data=df.copy()\n",
    "data=data.iloc[1:,[0,2]]\n",
    "data=data.rename(columns={\"pct\": \"Jewish (%)\"})\n",
    "data[\"Countries\"]=data[\"Countries\"].str.replace(\"\\[[a-zA-Z]+\\]\",\"\",regex=True)\n",
    "data.to_csv(\"../cleanedData/\" + \"13 - Jewish population by country.csv\",sep=\",\",index=False)"
   ]
  },
  {
   "cell_type": "code",
   "execution_count": 680,
   "metadata": {},
   "outputs": [
    {
     "name": "stderr",
     "output_type": "stream",
     "text": [
      "C:\\Users\\Edouard\\AppData\\Local\\Temp\\ipykernel_14784\\1986783659.py:3: FutureWarning: The default value of regex will change from True to False in a future version. In addition, single character regular expressions will *not* be treated as literal strings when regex=True.\n",
      "  data[\"Location\"]=data[\"Location\"].str.replace(\" \",\"\").str.replace(\"*\",\"\")\n"
     ]
    }
   ],
   "source": [
    "df=pd.read_csv(\"../rawData/14 - List of countries by infant and under-five mortality rates.csv\")\n",
    "data=df.copy()\n",
    "data[\"Location\"]=data[\"Location\"].str.replace(\" \",\"\").str.replace(\"*\",\"\")\n",
    "data[\"Location\"] = data[\"Location\"].str.replace(' \\(.*\\)', '', regex=True)\n",
    "data[\"Location\"] = data[\"Location\"].drop_duplicates()\n",
    "data.to_csv(\"../cleanedData/\" + \"14 - List of countries by infant and under-five mortality rates.csv\",sep=\",\",index=False)"
   ]
  },
  {
   "cell_type": "code",
   "execution_count": 681,
   "metadata": {},
   "outputs": [],
   "source": [
    "df=pd.read_csv(\"../rawData/15 - Age of criminal responsibility.csv\")\n",
    "data=df.copy()\n",
    "data=data.iloc[:,[0,1]]\n",
    "data = data.rename(columns={\"Age (reduced)[a]\":\"Age of criminal responsibility\"})\n",
    "\n"
   ]
  },
  {
   "cell_type": "markdown",
   "metadata": {},
   "source": [
    "Quand il y a plusieurs ages je prend le plancher du milieu."
   ]
  },
  {
   "cell_type": "code",
   "execution_count": 682,
   "metadata": {},
   "outputs": [],
   "source": [
    "data[\"Age of criminal responsibility\"] = data[\"Age of criminal responsibility\"].replace([\"10/14\", \"13/14-15\",\"9 (girls), 15 (boys)\", \"12/16-21\", \"14/15\", \"12/14\", \"10/12\"],[\"12\", \"14\", \"12\", \"16\", \"14\", \"13\", \"11\"])\n",
    "data.to_csv(\"../cleanedData/\" + \"15 - Age of criminal responsibility.csv\",sep=\",\",index=False)"
   ]
  },
  {
   "cell_type": "code",
   "execution_count": 683,
   "metadata": {},
   "outputs": [],
   "source": [
    "df=pd.read_csv(\"../rawData/16 - List of countries by minimum wage.csv\", skiprows=1)\n",
    "data=df.copy()\n",
    "data=data.iloc[1:,[0,2]]\n",
    "data=data.rename(columns={\"Nominal (US$)[6]\":\"Annual minimum wage (US$)\"})\n",
    "data.to_csv(\"../cleanedData/\" + \"16 - List of countries by minimum wage.csv\",sep=\",\",index=False)"
   ]
  },
  {
   "cell_type": "code",
   "execution_count": 684,
   "metadata": {},
   "outputs": [
    {
     "name": "stderr",
     "output_type": "stream",
     "text": [
      "C:\\Users\\Edouard\\AppData\\Local\\Temp\\ipykernel_14784\\2922700206.py:5: SettingWithCopyWarning: \n",
      "A value is trying to be set on a copy of a slice from a DataFrame\n",
      "\n",
      "See the caveats in the documentation: https://pandas.pydata.org/pandas-docs/stable/user_guide/indexing.html#returning-a-view-versus-a-copy\n",
      "  data[\"Country/Region\"][95] = \"Trinidad and Tobago\"\n"
     ]
    }
   ],
   "source": [
    "df=pd.read_csv(\"../rawData/17 - List of countries by external debt.csv\")\n",
    "data=df.copy()\n",
    "data=data.iloc[:,[0,3]]\n",
    "data=data.rename(columns={\"% of GDP\":\"External debt (% of GDP)\"})\n",
    "data[\"Country/Region\"][95] = \"Trinidad and Tobago\"\n",
    "data.to_csv(\"../cleanedData/\" + \"17 - List of countries by external debt.csv\",sep=\",\",index=False)"
   ]
  },
  {
   "cell_type": "code",
   "execution_count": 685,
   "metadata": {},
   "outputs": [],
   "source": [
    "df=pd.read_csv(\"../rawData/18 - List of countries by income equality.csv\", skiprows=1)\n",
    "data=df.copy()\n",
    "data=data.iloc[1:,[0,7]]\n",
    "data=data.rename(columns={\"%\":\"Gini Ratio\"})\n",
    "data.to_csv(\"../cleanedData/\" + \"18 - List of countries by income equality.csv\",sep=\",\",index=False)"
   ]
  },
  {
   "cell_type": "code",
   "execution_count": 686,
   "metadata": {},
   "outputs": [
    {
     "name": "stderr",
     "output_type": "stream",
     "text": [
      "C:\\Users\\Edouard\\AppData\\Local\\Temp\\ipykernel_14784\\3459292664.py:4: FutureWarning: The default value of regex will change from True to False in a future version. In addition, single character regular expressions will *not* be treated as literal strings when regex=True.\n",
      "  data[\"Location\"]=data[\"Location\"].str.replace(\" \",\"\").str.replace(\"*\",\"\")\n"
     ]
    }
   ],
   "source": [
    "df=pd.read_csv(\"../rawData/19 - List of countries by total health expenditure per capita.csv\")\n",
    "data=df.copy()\n",
    "data=data.iloc[:,[0,1]]\n",
    "data[\"Location\"]=data[\"Location\"].str.replace(\" \",\"\").str.replace(\"*\",\"\")\n",
    "data=data.rename(columns={\"2018\":\"Health spending per capita (International dollars)\"})\n",
    "data.to_csv(\"../cleanedData/\" + \"19 - List of countries by total health expenditure per capita.csv\",sep=\",\",index=False)"
   ]
  },
  {
   "cell_type": "code",
   "execution_count": 687,
   "metadata": {},
   "outputs": [
    {
     "name": "stderr",
     "output_type": "stream",
     "text": [
      "C:\\Users\\Edouard\\AppData\\Local\\Temp\\ipykernel_14784\\2115403198.py:6: FutureWarning: The default value of regex will change from True to False in a future version. In addition, single character regular expressions will *not* be treated as literal strings when regex=True.\n",
      "  data[\"Country\"]=data[\"Country\"].str.replace(\" \",\"\").str.replace(\"*\",\"\")\n"
     ]
    }
   ],
   "source": [
    "df=pd.read_csv(\"../rawData/20 - List of countries by suicide rate.csv\")\n",
    "data=df.copy()\n",
    "data=data.iloc[:,[0,1]]\n",
    "# on ne veux pas les continents\n",
    "data=data.drop(labels=range(181,188),axis=0)\n",
    "data[\"Country\"]=data[\"Country\"].str.replace(\" \",\"\").str.replace(\"*\",\"\")\n",
    "#si le pays se répète on met la moyenne.\n",
    "data=data.groupby(data[\"Country\"]).aggregate({\"All\": \"mean\"})\n",
    "data=data.rename(columns={\"All\":\"Suicide Rate\"})\n",
    "data.to_csv(\"../cleanedData/\" + \"20 - List of countries by suicide rate.csv\",sep=\",\")"
   ]
  },
  {
   "cell_type": "code",
   "execution_count": 688,
   "id": "7ededee4",
   "metadata": {},
   "outputs": [],
   "source": [
    "df=pd.read_csv(\"../rawData/21 - List of countries by total fertility rate.csv\")\n",
    "data=df.copy()\n",
    "# Apres la ligne 212 ce n'est plus des pays\n",
    "data=data.iloc[0:211,[1,2]]\n",
    "data[\"Country\"] = data[\"Country\"].str.replace(' \\(.*\\)', '', regex=True)\n",
    "data[\"Country\"][179] = \"Channel Islands\"\n",
    "data.to_csv(\"../cleanedData/\" + \"21 - List of countries by total fertility rate.csv\",sep=\",\",index=False)"
   ]
  },
  {
   "cell_type": "code",
   "execution_count": 689,
   "id": "c94bf6b0",
   "metadata": {},
   "outputs": [
    {
     "name": "stderr",
     "output_type": "stream",
     "text": [
      "C:\\Users\\Edouard\\AppData\\Local\\Temp\\ipykernel_14784\\1150345486.py:5: FutureWarning: The default value of regex will change from True to False in a future version. In addition, single character regular expressions will *not* be treated as literal strings when regex=True.\n",
      "  data[\"Country\"]=data[\"Country\"].str.replace(\" \",\"\").str.replace(\"*\",\"\")\n"
     ]
    }
   ],
   "source": [
    "df=pd.read_csv(\"../rawData/22 - Tobacco consumption by country.csv\")\n",
    "data=df.copy()\n",
    "data=data.iloc[:,[0,1]]\n",
    "# On voit qu'il y a une * après chaque nom de pays\n",
    "data[\"Country\"]=data[\"Country\"].str.replace(\" \",\"\").str.replace(\"*\",\"\")\n",
    "data.to_csv(\"../cleanedData/\" + \"22 - Tobacco consumption by country.csv\",sep=\",\",index=False)"
   ]
  },
  {
   "cell_type": "code",
   "execution_count": 690,
   "id": "c037df97",
   "metadata": {},
   "outputs": [],
   "source": [
    "df=pd.read_csv(\"../rawData/23 - List of countries by obesity rate.csv\")\n",
    "data=df.copy()\n",
    "data.to_csv(\"../cleanedData/\" + \"23 - List of countries by obesity rate.csv\",sep=\",\",index=False)"
   ]
  },
  {
   "cell_type": "code",
   "execution_count": 691,
   "id": "83bc6c5b",
   "metadata": {},
   "outputs": [
    {
     "name": "stderr",
     "output_type": "stream",
     "text": [
      "C:\\Users\\Edouard\\AppData\\Local\\Temp\\ipykernel_14784\\392368693.py:6: SettingWithCopyWarning: \n",
      "A value is trying to be set on a copy of a slice from a DataFrame\n",
      "\n",
      "See the caveats in the documentation: https://pandas.pydata.org/pandas-docs/stable/user_guide/indexing.html#returning-a-view-versus-a-copy\n",
      "  data[\"Country or area\"][70] =\"Hong Kong\"\n",
      "C:\\Users\\Edouard\\AppData\\Local\\Temp\\ipykernel_14784\\392368693.py:7: SettingWithCopyWarning: \n",
      "A value is trying to be set on a copy of a slice from a DataFrame\n",
      "\n",
      "See the caveats in the documentation: https://pandas.pydata.org/pandas-docs/stable/user_guide/indexing.html#returning-a-view-versus-a-copy\n",
      "  data[\"Country or area\"][150] =\"Macau\"\n"
     ]
    }
   ],
   "source": [
    "df=pd.read_csv(\"../rawData/24 - List of countries by number of Internet users.csv\")\n",
    "data=df.copy()\n",
    "data=data.iloc[:,[0,3]]\n",
    "data[\"Country or area\"] = data[\"Country or area\"].str.replace(' \\(.*\\)', '', regex=True)\n",
    "data[\"Country or area\"] = data[\"Country or area\"].drop_duplicates()\n",
    "data[\"Country or area\"][70] =\"Hong Kong\"\n",
    "data[\"Country or area\"][150] =\"Macau\"\n",
    "data.to_csv(\"../cleanedData/\" + \"24 - List of countries by number of Internet users.csv\",sep=\",\",index=False)"
   ]
  },
  {
   "cell_type": "code",
   "execution_count": 692,
   "id": "16314eb7",
   "metadata": {},
   "outputs": [],
   "source": [
    "df=pd.read_csv(\"../rawData/25 - List of countries by median age.csv\")\n",
    "data=df.copy()\n",
    "# Prendre l'année 2020\n",
    "data=data.iloc[2:,[0,3]]\n",
    "data[\"Country/Territory\"] = data[\"Country/Territory\"].str.replace(' \\(.*\\)', '', regex=True)\n",
    "data[\"Country/Territory\"] = data[\"Country/Territory\"].drop_duplicates()\n",
    "data[\"Country/Territory\"][53] = \"Curaçao\"\n",
    "data.to_csv(\"../cleanedData/\" + \"25 - List of countries by median age.csv\",sep=\",\",index=False)"
   ]
  },
  {
   "cell_type": "code",
   "execution_count": 693,
   "id": "cb757734",
   "metadata": {},
   "outputs": [],
   "source": [
    "df=pd.read_csv(\"../rawData/26 - List of sovereign states by economic freedom.csv\")\n",
    "data=df.copy()\n",
    "data=data.iloc[:,[1,2]]\n",
    "data[\"Country\"][78] = \"Kyrgyzstan\"\n",
    "data.to_csv(\"../cleanedData/\" + \"26 - List of sovereign states by economic freedom.csv\",sep=\",\",index=False)"
   ]
  },
  {
   "cell_type": "code",
   "execution_count": 694,
   "id": "432a6bcb",
   "metadata": {},
   "outputs": [
    {
     "name": "stderr",
     "output_type": "stream",
     "text": [
      "C:\\Users\\Edouard\\AppData\\Local\\Temp\\ipykernel_14784\\605824824.py:6: FutureWarning: The default value of regex will change from True to False in a future version.\n",
      "  data[\"Country\"]=data[\"Country\"].str.replace(\" \",\"\").str.replace(\" \\(OPEC\\)\",\"\")\n"
     ]
    }
   ],
   "source": [
    "df=pd.read_csv(\"../rawData/27 - List of countries by oil production.csv\")\n",
    "data=df.copy()\n",
    "# Dernière ligne est \"world\"\n",
    "data=data.iloc[:-1,[0,1]]\n",
    "# Remove \"(OPEC)\"\n",
    "data[\"Country\"]=data[\"Country\"].str.replace(\" \",\"\").str.replace(\" \\(OPEC\\)\",\"\")\n",
    "data.to_csv(\"../cleanedData/\" + \"27 - List of countries by oil production.csv\",sep=\",\",index=False)"
   ]
  },
  {
   "cell_type": "code",
   "execution_count": 695,
   "id": "c02d4c6a",
   "metadata": {},
   "outputs": [
    {
     "name": "stderr",
     "output_type": "stream",
     "text": [
      "C:\\Users\\Edouard\\AppData\\Local\\Temp\\ipykernel_14784\\1375308467.py:7: FutureWarning: The default value of regex will change from True to False in a future version. In addition, single character regular expressions will *not* be treated as literal strings when regex=True.\n",
      "  data[\"Country (or territory)\"]=data[\"Country (or territory)\"].str.replace(\" \",\"\").str.replace(\"*\",\"\")\n"
     ]
    }
   ],
   "source": [
    "df=pd.read_csv(\"../rawData/28 - List of countries by population growth rate.csv\")\n",
    "data=df.copy()\n",
    "# Les données commencent à la ligne 3 et on ignore les deux premières lignes\n",
    "data=data.iloc[4:,[0,1]]\n",
    "data[\"Country (or territory)\"] = data[\"Country (or territory)\"].str.replace(' \\(.*\\)', '', regex=True)\n",
    "# Remove *\n",
    "data[\"Country (or territory)\"]=data[\"Country (or territory)\"].str.replace(\" \",\"\").str.replace(\"*\",\"\")\n",
    "data.to_csv(\"../cleanedData/\" + \"28 - List of countries by population growth rate.csv\",sep=\",\",index=False)"
   ]
  },
  {
   "cell_type": "code",
   "execution_count": 696,
   "id": "58124d19",
   "metadata": {},
   "outputs": [],
   "source": [
    "df=pd.read_csv(\"../rawData/29 - List of countries by life expectancy.csv\")\n",
    "data=df.copy()\n",
    "# Les données commencent à la ligne 4\n",
    "data=data.iloc[2:,[0,1]]\n",
    "data[\"Countries\"][93]=\"Vietnam\"\n",
    "data.to_csv(\"../cleanedData/\" + \"29 - List of countries by life expectancy.csv\",sep=\",\",index=False)"
   ]
  },
  {
   "cell_type": "code",
   "execution_count": 697,
   "id": "8d6d8640",
   "metadata": {},
   "outputs": [],
   "source": [
    "df=pd.read_csv(\"../rawData/30 - List of countries by meat consumption.csv\")\n",
    "data=df.copy()\n",
    "# Prendre l'an 2020\n",
    "data=data.iloc[:,[0,-1]]\n",
    "data.to_csv(\"../cleanedData/\" + \"30 - List of countries by meat consumption.csv\",sep=\",\",index=False)"
   ]
  },
  {
   "cell_type": "code",
   "execution_count": 698,
   "id": "0f0aa1ad",
   "metadata": {},
   "outputs": [
    {
     "name": "stderr",
     "output_type": "stream",
     "text": [
      "C:\\Users\\Edouard\\AppData\\Local\\Temp\\ipykernel_14784\\2102510274.py:6: FutureWarning: The default value of regex will change from True to False in a future version. In addition, single character regular expressions will *not* be treated as literal strings when regex=True.\n",
      "  data[\"Location\"]=data[\"Location\"].str.replace(\" \",\"\").str.replace(\"*\",\"\")\n"
     ]
    }
   ],
   "source": [
    "df=pd.read_csv(\"../rawData/31 - List of countries by incarceration rate.csv\")\n",
    "data=df.copy()\n",
    "data=data.iloc[:,[0,-2]]\n",
    "data[\"Location\"] = data[\"Location\"].str.replace(' \\(.*\\)', '', regex=True)\n",
    "data[\"Location\"] = data[\"Location\"].str.replace(' \\[.*\\]', '', regex=True)\n",
    "data[\"Location\"]=data[\"Location\"].str.replace(\" \",\"\").str.replace(\"*\",\"\")\n",
    "data[\"Location\"][222] = \"British Virgin Islands\"\n",
    "data[\"Location\"][223] = \"US Virgin Islands\"\n",
    "data.to_csv(\"../cleanedData/\" + \"31 - List of countries by incarceration rate.csv\",sep=\",\",index=False)"
   ]
  },
  {
   "cell_type": "code",
   "execution_count": 699,
   "metadata": {},
   "outputs": [],
   "source": [
    "df=pd.read_csv(\"../cleanedData/32 - List of countries by literacy rate.csv\")\n",
    "data=df.copy()\n",
    "data[\"Country\"] = data[\"Country\"].str.replace(' \\(.*\\)', '', regex=True)\n",
    "data[\"Country\"] = data[\"Country\"].drop_duplicates()"
   ]
  },
  {
   "cell_type": "code",
   "execution_count": 700,
   "metadata": {},
   "outputs": [],
   "source": [
    "df=pd.read_csv(\"../cleanedData/35 - List of sovereign states by homeless population.csv\")\n",
    "data=df.copy()\n",
    "data[\"Country\"] = data[\"Country\"].str.replace(' \\(.*\\)', '', regex=True)\n",
    "data[\"Country\"] = data[\"Country\"].drop_duplicates()"
   ]
  },
  {
   "cell_type": "code",
   "execution_count": 701,
   "metadata": {},
   "outputs": [],
   "source": [
    "df=pd.read_csv(\"../cleanedData/37 - List of countries by number of scientific and technical journal articles.csv\")\n",
    "data=df.copy()\n",
    "data[\"Country\"] = data[\"Country\"].str.replace(' \\(.*\\)', '', regex=True)\n",
    "data[\"Country\"] = data[\"Country\"].drop_duplicates()"
   ]
  },
  {
   "cell_type": "code",
   "execution_count": 702,
   "metadata": {},
   "outputs": [],
   "source": [
    "df=pd.read_csv(\"../cleanedData/38 - Books published per country per year.csv\")\n",
    "data=df.copy()\n",
    "data[\"Country\"] = data[\"Country\"].str.replace(' \\(.*\\)', '', regex=True)\n",
    "data[\"Country\"] = data[\"Country\"].drop_duplicates()"
   ]
  },
  {
   "cell_type": "code",
   "execution_count": 703,
   "metadata": {},
   "outputs": [],
   "source": [
    "filePaths = [\n",
    "    \"../cleanedData/1-GDP-per-capita.csv\",\n",
    "    \"../cleanedData/2-Internet-speed.csv\",\n",
    "    \"../cleanedData/3-Alcool-Consumption-per-capita.csv\",\n",
    "    \"../cleanedData/4-Intentional-homicide-rate.csv\",\n",
    "    \"../cleanedData/5-Military-spending.csv\",\n",
    "    \"../cleanedData/6-Human-development-index.csv\",\n",
    "    \"../cleanedData/7-Democracy-Index.csv\",\n",
    "    \"../cleanedData/8-Tertiary-education.csv\",\n",
    "    \"../cleanedData/9-Religion-Importance.csv\",\n",
    "    \"../cleanedData/10-Christianity-by-country.csv\",\n",
    "    \"../cleanedData/11 - Islam by country.csv\",\n",
    "    \"../cleanedData/12 - Buddhism by country.csv\",\n",
    "    \"../cleanedData/13 - Jewish population by country.csv\",\n",
    "    \"../cleanedData/14 - List of countries by infant and under-five mortality rates.csv\",\n",
    "    \"../cleanedData/15 - Age of criminal responsibility.csv\",\n",
    "    \"../cleanedData/16 - List of countries by minimum wage.csv\",\n",
    "    \"../cleanedData/17 - List of countries by external debt.csv\",\n",
    "    \"../cleanedData/18 - List of countries by income equality.csv\",\n",
    "    \"../cleanedData/19 - List of countries by total health expenditure per capita.csv\",\n",
    "    \"../cleanedData/20 - List of countries by suicide rate.csv\",\n",
    "    \"../cleanedData/21 - List of countries by total fertility rate.csv\",\n",
    "    \"../cleanedData/22 - Tobacco consumption by country.csv\",\n",
    "    \"../cleanedData/23 - List of countries by obesity rate.csv\",\n",
    "    \"../cleanedData/24 - List of countries by number of Internet users.csv\",\n",
    "    \"../cleanedData/25 - List of countries by median age.csv\",\n",
    "    \"../cleanedData/26 - List of sovereign states by economic freedom.csv\",\n",
    "    \"../cleanedData/27 - List of countries by oil production.csv\",\n",
    "    \"../cleanedData/28 - List of countries by population growth rate.csv\",\n",
    "    \"../cleanedData/29 - List of countries by life expectancy.csv\",\n",
    "    \"../cleanedData/30 - List of countries by meat consumption.csv\",\n",
    "    \"../cleanedData/31 - List of countries by incarceration rate.csv\",\n",
    "    \"../cleanedData/32 - List of countries by literacy rate.csv\",\n",
    "    \"../cleanedData/33 - List of countries by age at first marriage.csv\",\n",
    "    \"../cleanedData/34 - List of countries by spending on education as percentage of GDP.csv\",\n",
    "    \"../cleanedData/35 - List of sovereign states by homeless population.csv\",\n",
    "    \"../cleanedData/36 - List of countries by milk consumption per capita.csv\",\n",
    "    \"../cleanedData/37 - List of countries by number of scientific and technical journal articles.csv\",\n",
    "    \"../cleanedData/38 - Books published per country per year.csv\",\n",
    "    \"../cleanedData/39 - List of countries by food energy intake.csv\",\n",
    "    \"../cleanedData/40 - List of countries by average yearly temperature.csv\"\n",
    "]\n",
    "\n",
    "dfs = []\n",
    "for filePath in filePaths:\n",
    "    dfs.append(pd.read_csv(filePath))\n",
    "\n",
    "for i in range(len(dfs)):\n",
    "    if (dfs[i].columns[0] != \"Country\"):\n",
    "        dfs[i] = dfs[i].rename(columns={dfs[i].columns[0]:\"Country\"})\n",
    "        dfs[i].to_csv(filePaths[i], sep=\",\",index=False)\n",
    "    dfs[i][\"Country\"] = dfs[i][\"Country\"].str.replace(' \\(.*\\)|\\[.*\\]|\\**', '', regex=True)\n",
    "    dfs[i][\"Country\"] = dfs[i][\"Country\"].drop_duplicates()\n",
    "    \n",
    "    \n",
    "        \n",
    "data = pd.concat([dfs[0].set_index('Country'), dfs[1].set_index('Country')], axis=1, join='outer').reset_index()\n",
    "for i in range(2,len(dfs)):\n",
    "    data = pd.concat([data.set_index('Country'), dfs[i].set_index('Country')], axis=1, join='outer').reset_index()\n",
    "\n",
    "data.to_csv(\"../cleanedData/FinalData.csv\", sep=\",\",index=False)\n",
    "data = data.set_index(\"Country\")"
   ]
  },
  {
   "cell_type": "markdown",
   "id": "f79e5a43",
   "metadata": {},
   "source": [
    "Rettirer les lignes suivantes, car elles ne contiennent pas assez d'information ou ne sont pas des pays."
   ]
  },
  {
   "cell_type": "code",
   "execution_count": 704,
   "id": "8afe76d8",
   "metadata": {},
   "outputs": [],
   "source": [
    "list = [\"Netherlands Antilles\",\n",
    "\"Niue\",\n",
    "\"French Guiana\",\n",
    "\"Gibraltar\",\n",
    "\"Guadeloupe\",\n",
    "\"Holy See\",\n",
    "\"Iraq. Central Iraq\",\n",
    "\"Martinique\",\n",
    "\"Mayotte\",\n",
    "\"Northern Ireland\",\n",
    "\"Réunion\",\n",
    "\"Saint Helena\",\n",
    "\"Saint Pierre and Miquelon\",\n",
    "\"Scotland\",\n",
    "\"Sao Tome and Principe\",\n",
    "\"Falkland Islands\",\n",
    "\"Pitcairn Islands\",\n",
    "\"Europe\",\n",
    "\"Latin America and the Caribbean\",\n",
    "\"Africa\",\n",
    "\"Asia\",\n",
    "\"North America\",\n",
    "\"Oceania\",\n",
    "\"Middle East-North Africa\",\n",
    "\"Total\",\n",
    "\"Cocos Islands\",\n",
    "\"Tokelau\",\n",
    "\"Vatican City\",\n",
    "\"Wallis and Futuna\",\n",
    "\"Western Sahara\",\n",
    "\"Swaziland\",\n",
    "\"West Bank\",\n",
    "\"Guernsey\",\n",
    "\"Jersey\",\n",
    "\"Northern Cyprus\",\n",
    "\"Population replacement\",\n",
    "\"Saint Helena, Ascension and Tristan da Cunha\",\n",
    "\"Saint Barthelemy\",\n",
    "\"Saint Helena, Ascension, and Tristan da Cunha\",\n",
    "\"Virgin Islands\",\n",
    "\"Caribbean Netherlands\",\n",
    "\"Christmas Island\",\n",
    "\"Norfolk Island\",\n",
    "\"Svalbard\",\n",
    "\"Gaza Strip\",\n",
    "\"Reunion\",\n",
    "\"Republika Srpska\",\n",
    "\"England and Wales\",\n",
    "\"Bonaire, Sint Eustatius and Saba\",\n",
    "\"Lao People\\'s Democratic Republic\",\n",
    "\"Pitcairn\",\n",
    "\"Svalbard and Jan Mayen\",\n",
    "\"British Indian Ocean Territory\",\n",
    "\"European Union\",\n",
    "\"Channel Islands\",\n",
    "\"Curaçao\",\n",
    "\"Faroe Islands\",\n",
    "\"Anguilla\",\n",
    "\"Aruba\",\n",
    "\"Cook Islands\",\n",
    "\"French Polynesia\",\n",
    "\"Greenland\",\n",
    "\"Guam\",\n",
    "\"Isle of Man\",\n",
    "\"Montserrat\",\n",
    "\"Northern Mariana Islands\",\n",
    "\"Saint Martin\",\n",
    "\"Sint Maarten\",\n",
    "\"U.S. Virgin Islands\",\n",
    "\"US Virgin Islands\",\n",
    "\"World\",\n",
    "\"Zanzibar\",\n",
    "\"British Virgin Islands\"]\n",
    "data = data.drop(list)\n"
   ]
  },
  {
   "cell_type": "markdown",
   "id": "51207fdb",
   "metadata": {},
   "source": [
    "Certains pays apparraissent sous différents noms, alors combinons les"
   ]
  },
  {
   "cell_type": "code",
   "execution_count": 705,
   "id": "979813c6",
   "metadata": {},
   "outputs": [
    {
     "data": {
      "text/html": [
       "<div>\n",
       "<style scoped>\n",
       "    .dataframe tbody tr th:only-of-type {\n",
       "        vertical-align: middle;\n",
       "    }\n",
       "\n",
       "    .dataframe tbody tr th {\n",
       "        vertical-align: top;\n",
       "    }\n",
       "\n",
       "    .dataframe thead th {\n",
       "        text-align: right;\n",
       "    }\n",
       "</style>\n",
       "<table border=\"1\" class=\"dataframe\">\n",
       "  <thead>\n",
       "    <tr style=\"text-align: right;\">\n",
       "      <th></th>\n",
       "      <th>UN</th>\n",
       "      <th>Ookla</th>\n",
       "      <th>2016</th>\n",
       "      <th>Victims-per-100000-habitants</th>\n",
       "      <th>percentage-GDP</th>\n",
       "      <th>HDI</th>\n",
       "      <th>2020</th>\n",
       "      <th>percentage-of-population-with-education-of-2-year-tertiary-degree-or-equivalent</th>\n",
       "      <th>Yes/Important(%)</th>\n",
       "      <th>Christian(%)</th>\n",
       "      <th>...</th>\n",
       "      <th>Gender disparity, elderly (65+), rate</th>\n",
       "      <th>Age at first marriage (Women)</th>\n",
       "      <th>Expenditure on education (% of GDP)</th>\n",
       "      <th>Homeless per 10k</th>\n",
       "      <th>Calculated</th>\n",
       "      <th>Milk consumption 2013 (kg/capita/yr)</th>\n",
       "      <th>Scientific publications per capita (per million)</th>\n",
       "      <th>Titles</th>\n",
       "      <th>Average daily food energy intake per capita (kilocalories)</th>\n",
       "      <th>Average yearly temperature (Celsius)</th>\n",
       "    </tr>\n",
       "    <tr>\n",
       "      <th>Country</th>\n",
       "      <th></th>\n",
       "      <th></th>\n",
       "      <th></th>\n",
       "      <th></th>\n",
       "      <th></th>\n",
       "      <th></th>\n",
       "      <th></th>\n",
       "      <th></th>\n",
       "      <th></th>\n",
       "      <th></th>\n",
       "      <th></th>\n",
       "      <th></th>\n",
       "      <th></th>\n",
       "      <th></th>\n",
       "      <th></th>\n",
       "      <th></th>\n",
       "      <th></th>\n",
       "      <th></th>\n",
       "      <th></th>\n",
       "      <th></th>\n",
       "      <th></th>\n",
       "    </tr>\n",
       "  </thead>\n",
       "  <tbody>\n",
       "    <tr>\n",
       "      <th>Monaco</th>\n",
       "      <td>234317.0</td>\n",
       "      <td>220.35</td>\n",
       "      <td>NaN</td>\n",
       "      <td>0.0</td>\n",
       "      <td>NaN</td>\n",
       "      <td>NaN</td>\n",
       "      <td>NaN</td>\n",
       "      <td>NaN</td>\n",
       "      <td>NaN</td>\n",
       "      <td>82.6</td>\n",
       "      <td>...</td>\n",
       "      <td>NaN</td>\n",
       "      <td>30.4</td>\n",
       "      <td>1.5</td>\n",
       "      <td>NaN</td>\n",
       "      <td>NaN</td>\n",
       "      <td>NaN</td>\n",
       "      <td>6050.0</td>\n",
       "      <td>41.0</td>\n",
       "      <td>NaN</td>\n",
       "      <td>13.55</td>\n",
       "    </tr>\n",
       "    <tr>\n",
       "      <th>Liechtenstein</th>\n",
       "      <td>169260.0</td>\n",
       "      <td>193.79</td>\n",
       "      <td>NaN</td>\n",
       "      <td>2.0</td>\n",
       "      <td>NaN</td>\n",
       "      <td>0.935</td>\n",
       "      <td>NaN</td>\n",
       "      <td>NaN</td>\n",
       "      <td>NaN</td>\n",
       "      <td>84.4</td>\n",
       "      <td>...</td>\n",
       "      <td>NaN</td>\n",
       "      <td>31.2</td>\n",
       "      <td>2.1</td>\n",
       "      <td>0.0</td>\n",
       "      <td>NaN</td>\n",
       "      <td>NaN</td>\n",
       "      <td>3193.0</td>\n",
       "      <td>NaN</td>\n",
       "      <td>NaN</td>\n",
       "      <td>5.8</td>\n",
       "    </tr>\n",
       "    <tr>\n",
       "      <th>Luxembourg</th>\n",
       "      <td>133745.0</td>\n",
       "      <td>154.26</td>\n",
       "      <td>13.0</td>\n",
       "      <td>4.0</td>\n",
       "      <td>NaN</td>\n",
       "      <td>0.930</td>\n",
       "      <td>8.68</td>\n",
       "      <td>50.0</td>\n",
       "      <td>39.0</td>\n",
       "      <td>72.4</td>\n",
       "      <td>...</td>\n",
       "      <td>NaN</td>\n",
       "      <td>31.8</td>\n",
       "      <td>4.0</td>\n",
       "      <td>37.5</td>\n",
       "      <td>NaN</td>\n",
       "      <td>255.30</td>\n",
       "      <td>3554.0</td>\n",
       "      <td>2000.0</td>\n",
       "      <td>3465.0</td>\n",
       "      <td>8.65</td>\n",
       "    </tr>\n",
       "    <tr>\n",
       "      <th>Bermuda</th>\n",
       "      <td>112653.0</td>\n",
       "      <td>NaN</td>\n",
       "      <td>NaN</td>\n",
       "      <td>7.0</td>\n",
       "      <td>NaN</td>\n",
       "      <td>NaN</td>\n",
       "      <td>NaN</td>\n",
       "      <td>NaN</td>\n",
       "      <td>NaN</td>\n",
       "      <td>64.7</td>\n",
       "      <td>...</td>\n",
       "      <td>NaN</td>\n",
       "      <td>NaN</td>\n",
       "      <td>NaN</td>\n",
       "      <td>NaN</td>\n",
       "      <td>NaN</td>\n",
       "      <td>95.56</td>\n",
       "      <td>1218.0</td>\n",
       "      <td>NaN</td>\n",
       "      <td>NaN</td>\n",
       "      <td>NaN</td>\n",
       "    </tr>\n",
       "    <tr>\n",
       "      <th>Ireland</th>\n",
       "      <td>101109.0</td>\n",
       "      <td>112.81</td>\n",
       "      <td>13.0</td>\n",
       "      <td>22.0</td>\n",
       "      <td>NaN</td>\n",
       "      <td>0.945</td>\n",
       "      <td>9.05</td>\n",
       "      <td>52.0</td>\n",
       "      <td>54.0</td>\n",
       "      <td>83.8</td>\n",
       "      <td>...</td>\n",
       "      <td>NaN</td>\n",
       "      <td>34.8</td>\n",
       "      <td>3.7</td>\n",
       "      <td>16.0</td>\n",
       "      <td>NaN</td>\n",
       "      <td>291.86</td>\n",
       "      <td>3309.0</td>\n",
       "      <td>1773.0</td>\n",
       "      <td>3885.0</td>\n",
       "      <td>9.3</td>\n",
       "    </tr>\n",
       "    <tr>\n",
       "      <th>...</th>\n",
       "      <td>...</td>\n",
       "      <td>...</td>\n",
       "      <td>...</td>\n",
       "      <td>...</td>\n",
       "      <td>...</td>\n",
       "      <td>...</td>\n",
       "      <td>...</td>\n",
       "      <td>...</td>\n",
       "      <td>...</td>\n",
       "      <td>...</td>\n",
       "      <td>...</td>\n",
       "      <td>...</td>\n",
       "      <td>...</td>\n",
       "      <td>...</td>\n",
       "      <td>...</td>\n",
       "      <td>...</td>\n",
       "      <td>...</td>\n",
       "      <td>...</td>\n",
       "      <td>...</td>\n",
       "      <td>...</td>\n",
       "      <td>...</td>\n",
       "    </tr>\n",
       "    <tr>\n",
       "      <th>Russia</th>\n",
       "      <td>NaN</td>\n",
       "      <td>NaN</td>\n",
       "      <td>NaN</td>\n",
       "      <td>NaN</td>\n",
       "      <td>NaN</td>\n",
       "      <td>NaN</td>\n",
       "      <td>NaN</td>\n",
       "      <td>NaN</td>\n",
       "      <td>NaN</td>\n",
       "      <td>NaN</td>\n",
       "      <td>...</td>\n",
       "      <td>99.2</td>\n",
       "      <td>25.5</td>\n",
       "      <td>3.7</td>\n",
       "      <td>4.0</td>\n",
       "      <td>NaN</td>\n",
       "      <td>163.57</td>\n",
       "      <td>819.0</td>\n",
       "      <td>115171.0</td>\n",
       "      <td>3345.0</td>\n",
       "      <td>−5.35</td>\n",
       "    </tr>\n",
       "    <tr>\n",
       "      <th>Syria</th>\n",
       "      <td>NaN</td>\n",
       "      <td>NaN</td>\n",
       "      <td>NaN</td>\n",
       "      <td>NaN</td>\n",
       "      <td>NaN</td>\n",
       "      <td>NaN</td>\n",
       "      <td>NaN</td>\n",
       "      <td>NaN</td>\n",
       "      <td>NaN</td>\n",
       "      <td>NaN</td>\n",
       "      <td>...</td>\n",
       "      <td>39</td>\n",
       "      <td>26.3</td>\n",
       "      <td>5.1</td>\n",
       "      <td>3753.0</td>\n",
       "      <td>NaN</td>\n",
       "      <td>111.43</td>\n",
       "      <td>40.0</td>\n",
       "      <td>1138.0</td>\n",
       "      <td>NaN</td>\n",
       "      <td>17.75</td>\n",
       "    </tr>\n",
       "    <tr>\n",
       "      <th>British Virgin Islands</th>\n",
       "      <td>NaN</td>\n",
       "      <td>NaN</td>\n",
       "      <td>NaN</td>\n",
       "      <td>NaN</td>\n",
       "      <td>NaN</td>\n",
       "      <td>NaN</td>\n",
       "      <td>NaN</td>\n",
       "      <td>NaN</td>\n",
       "      <td>NaN</td>\n",
       "      <td>NaN</td>\n",
       "      <td>...</td>\n",
       "      <td>NaN</td>\n",
       "      <td>NaN</td>\n",
       "      <td>NaN</td>\n",
       "      <td>NaN</td>\n",
       "      <td>NaN</td>\n",
       "      <td>NaN</td>\n",
       "      <td>200.0</td>\n",
       "      <td>NaN</td>\n",
       "      <td>NaN</td>\n",
       "      <td>NaN</td>\n",
       "    </tr>\n",
       "    <tr>\n",
       "      <th>US Virgin Islands</th>\n",
       "      <td>NaN</td>\n",
       "      <td>NaN</td>\n",
       "      <td>NaN</td>\n",
       "      <td>NaN</td>\n",
       "      <td>NaN</td>\n",
       "      <td>NaN</td>\n",
       "      <td>NaN</td>\n",
       "      <td>NaN</td>\n",
       "      <td>NaN</td>\n",
       "      <td>NaN</td>\n",
       "      <td>...</td>\n",
       "      <td>NaN</td>\n",
       "      <td>NaN</td>\n",
       "      <td>NaN</td>\n",
       "      <td>NaN</td>\n",
       "      <td>NaN</td>\n",
       "      <td>NaN</td>\n",
       "      <td>149.0</td>\n",
       "      <td>NaN</td>\n",
       "      <td>NaN</td>\n",
       "      <td>NaN</td>\n",
       "    </tr>\n",
       "    <tr>\n",
       "      <th>Somalia</th>\n",
       "      <td>NaN</td>\n",
       "      <td>NaN</td>\n",
       "      <td>NaN</td>\n",
       "      <td>NaN</td>\n",
       "      <td>NaN</td>\n",
       "      <td>NaN</td>\n",
       "      <td>NaN</td>\n",
       "      <td>NaN</td>\n",
       "      <td>NaN</td>\n",
       "      <td>NaN</td>\n",
       "      <td>...</td>\n",
       "      <td>NaN</td>\n",
       "      <td>NaN</td>\n",
       "      <td>9.6</td>\n",
       "      <td>NaN</td>\n",
       "      <td>NaN</td>\n",
       "      <td>NaN</td>\n",
       "      <td>NaN</td>\n",
       "      <td>NaN</td>\n",
       "      <td>NaN</td>\n",
       "      <td>NaN</td>\n",
       "    </tr>\n",
       "  </tbody>\n",
       "</table>\n",
       "<p>236 rows × 41 columns</p>\n",
       "</div>"
      ],
      "text/plain": [
       "                              UN   Ookla  2016  Victims-per-100000-habitants  \\\n",
       "Country                                                                        \n",
       "Monaco                  234317.0  220.35   NaN                           0.0   \n",
       "Liechtenstein           169260.0  193.79   NaN                           2.0   \n",
       "Luxembourg              133745.0  154.26  13.0                           4.0   \n",
       "Bermuda                 112653.0     NaN   NaN                           7.0   \n",
       "Ireland                 101109.0  112.81  13.0                          22.0   \n",
       "...                          ...     ...   ...                           ...   \n",
       "Russia                       NaN     NaN   NaN                           NaN   \n",
       "Syria                        NaN     NaN   NaN                           NaN   \n",
       "British Virgin Islands       NaN     NaN   NaN                           NaN   \n",
       "US Virgin Islands            NaN     NaN   NaN                           NaN   \n",
       "Somalia                      NaN     NaN   NaN                           NaN   \n",
       "\n",
       "                        percentage-GDP    HDI  2020  \\\n",
       "Country                                               \n",
       "Monaco                             NaN    NaN   NaN   \n",
       "Liechtenstein                      NaN  0.935   NaN   \n",
       "Luxembourg                         NaN  0.930  8.68   \n",
       "Bermuda                            NaN    NaN   NaN   \n",
       "Ireland                            NaN  0.945  9.05   \n",
       "...                                ...    ...   ...   \n",
       "Russia                             NaN    NaN   NaN   \n",
       "Syria                              NaN    NaN   NaN   \n",
       "British Virgin Islands             NaN    NaN   NaN   \n",
       "US Virgin Islands                  NaN    NaN   NaN   \n",
       "Somalia                            NaN    NaN   NaN   \n",
       "\n",
       "                        percentage-of-population-with-education-of-2-year-tertiary-degree-or-equivalent  \\\n",
       "Country                                                                                                   \n",
       "Monaco                                                                NaN                                 \n",
       "Liechtenstein                                                         NaN                                 \n",
       "Luxembourg                                                           50.0                                 \n",
       "Bermuda                                                               NaN                                 \n",
       "Ireland                                                              52.0                                 \n",
       "...                                                                   ...                                 \n",
       "Russia                                                                NaN                                 \n",
       "Syria                                                                 NaN                                 \n",
       "British Virgin Islands                                                NaN                                 \n",
       "US Virgin Islands                                                     NaN                                 \n",
       "Somalia                                                               NaN                                 \n",
       "\n",
       "                        Yes/Important(%)  Christian(%)  ...  \\\n",
       "Country                                                 ...   \n",
       "Monaco                               NaN          82.6  ...   \n",
       "Liechtenstein                        NaN          84.4  ...   \n",
       "Luxembourg                          39.0          72.4  ...   \n",
       "Bermuda                              NaN          64.7  ...   \n",
       "Ireland                             54.0          83.8  ...   \n",
       "...                                  ...           ...  ...   \n",
       "Russia                               NaN           NaN  ...   \n",
       "Syria                                NaN           NaN  ...   \n",
       "British Virgin Islands               NaN           NaN  ...   \n",
       "US Virgin Islands                    NaN           NaN  ...   \n",
       "Somalia                              NaN           NaN  ...   \n",
       "\n",
       "                       Gender disparity, elderly (65+), rate  \\\n",
       "Country                                                        \n",
       "Monaco                                                   NaN   \n",
       "Liechtenstein                                            NaN   \n",
       "Luxembourg                                               NaN   \n",
       "Bermuda                                                  NaN   \n",
       "Ireland                                                  NaN   \n",
       "...                                                      ...   \n",
       "Russia                                                  99.2   \n",
       "Syria                                                     39   \n",
       "British Virgin Islands                                   NaN   \n",
       "US Virgin Islands                                        NaN   \n",
       "Somalia                                                  NaN   \n",
       "\n",
       "                        Age at first marriage (Women)  \\\n",
       "Country                                                 \n",
       "Monaco                                           30.4   \n",
       "Liechtenstein                                    31.2   \n",
       "Luxembourg                                       31.8   \n",
       "Bermuda                                           NaN   \n",
       "Ireland                                          34.8   \n",
       "...                                               ...   \n",
       "Russia                                           25.5   \n",
       "Syria                                            26.3   \n",
       "British Virgin Islands                            NaN   \n",
       "US Virgin Islands                                 NaN   \n",
       "Somalia                                           NaN   \n",
       "\n",
       "                       Expenditure on education (% of GDP)  Homeless per 10k  \\\n",
       "Country                                                                        \n",
       "Monaco                                                 1.5               NaN   \n",
       "Liechtenstein                                          2.1               0.0   \n",
       "Luxembourg                                             4.0              37.5   \n",
       "Bermuda                                                NaN               NaN   \n",
       "Ireland                                                3.7              16.0   \n",
       "...                                                    ...               ...   \n",
       "Russia                                                 3.7               4.0   \n",
       "Syria                                                  5.1            3753.0   \n",
       "British Virgin Islands                                 NaN               NaN   \n",
       "US Virgin Islands                                      NaN               NaN   \n",
       "Somalia                                                9.6               NaN   \n",
       "\n",
       "                       Calculated  Milk consumption 2013 (kg/capita/yr)  \\\n",
       "Country                                                                   \n",
       "Monaco                        NaN                                   NaN   \n",
       "Liechtenstein                 NaN                                   NaN   \n",
       "Luxembourg                    NaN                                255.30   \n",
       "Bermuda                       NaN                                 95.56   \n",
       "Ireland                       NaN                                291.86   \n",
       "...                           ...                                   ...   \n",
       "Russia                        NaN                                163.57   \n",
       "Syria                         NaN                                111.43   \n",
       "British Virgin Islands        NaN                                   NaN   \n",
       "US Virgin Islands             NaN                                   NaN   \n",
       "Somalia                       NaN                                   NaN   \n",
       "\n",
       "                        Scientific publications per capita (per million)  \\\n",
       "Country                                                                    \n",
       "Monaco                                                            6050.0   \n",
       "Liechtenstein                                                     3193.0   \n",
       "Luxembourg                                                        3554.0   \n",
       "Bermuda                                                           1218.0   \n",
       "Ireland                                                           3309.0   \n",
       "...                                                                  ...   \n",
       "Russia                                                             819.0   \n",
       "Syria                                                               40.0   \n",
       "British Virgin Islands                                             200.0   \n",
       "US Virgin Islands                                                  149.0   \n",
       "Somalia                                                              NaN   \n",
       "\n",
       "                          Titles  \\\n",
       "Country                            \n",
       "Monaco                      41.0   \n",
       "Liechtenstein                NaN   \n",
       "Luxembourg                2000.0   \n",
       "Bermuda                      NaN   \n",
       "Ireland                   1773.0   \n",
       "...                          ...   \n",
       "Russia                  115171.0   \n",
       "Syria                     1138.0   \n",
       "British Virgin Islands       NaN   \n",
       "US Virgin Islands            NaN   \n",
       "Somalia                      NaN   \n",
       "\n",
       "                        Average daily food energy intake per capita (kilocalories)  \\\n",
       "Country                                                                              \n",
       "Monaco                                                                NaN            \n",
       "Liechtenstein                                                         NaN            \n",
       "Luxembourg                                                         3465.0            \n",
       "Bermuda                                                               NaN            \n",
       "Ireland                                                            3885.0            \n",
       "...                                                                   ...            \n",
       "Russia                                                             3345.0            \n",
       "Syria                                                                 NaN            \n",
       "British Virgin Islands                                                NaN            \n",
       "US Virgin Islands                                                     NaN            \n",
       "Somalia                                                               NaN            \n",
       "\n",
       "                        Average yearly temperature (Celsius)  \n",
       "Country                                                       \n",
       "Monaco                                                 13.55  \n",
       "Liechtenstein                                            5.8  \n",
       "Luxembourg                                              8.65  \n",
       "Bermuda                                                  NaN  \n",
       "Ireland                                                  9.3  \n",
       "...                                                      ...  \n",
       "Russia                                                 −5.35  \n",
       "Syria                                                  17.75  \n",
       "British Virgin Islands                                   NaN  \n",
       "US Virgin Islands                                        NaN  \n",
       "Somalia                                                  NaN  \n",
       "\n",
       "[236 rows x 41 columns]"
      ]
     },
     "execution_count": 705,
     "metadata": {},
     "output_type": "execute_result"
    }
   ],
   "source": [
    "data = data.rename(index={\"DR Congo\":\"DRC\",\n",
    "                          \"Republic of the Congo\":\"Congo\",\n",
    "                          \"Democratic Republic of the Congo\":\"DRC\",\n",
    "                          \"Congo, Republic of \":\"Congo\",\n",
    "                          \"Congo, Democratic Republic of\":\"DRC\",\n",
    "                          \"Democratic Republic of Congo\":\"DRC\",\n",
    "                          \"Republic of Congo\":\"Congo\",\n",
    "                          \"Congo, Republic of\":\"Congo\",\n",
    "                          \"Congo, The Democratic Republic of the\":\"DRC\",\n",
    "                          \"East Timor\":\"Timor-Leste\",\n",
    "                          \"Côte d'Ivoire\":\"Cote d'Ivoire\",\n",
    "                          \"Ivory Coast\":\"Cote d'Ivoire\",\n",
    "                          \"Micronesia, Federated States of\":\"Micronesia\",\n",
    "                          \"Federated States of Micronesia\":\"Micronesia\",\n",
    "                          \"Guinea-Bissau\":\"Guinea Bissau\",\n",
    "                          \"The Bahamas\":\"Bahamas\",\n",
    "                          \"The Gambia\":\"Gambia\",\n",
    "                          \"Cabo Verde\":\"Cape Verde\",\n",
    "                          \"Brunei Darussalam\":\"Brunei\",\n",
    "                          \"United States of America\":\"United States\",\n",
    "                          \"Macao\":\"Macau\",\n",
    "                          \"Federation of Bosnia and Herzegovina\":\"Bosnia and Herzegovina\",\n",
    "                          \"Czechia\":\"Czech Republic\",\n",
    "                          \"Iran, Islamic Republic of\":\"Iran\",\n",
    "                          \"Palestine, State of\":\"Palestine\",\n",
    "                          \"State of Palestine\":\"Palestine\",\n",
    "                          \"Russian Federation\":\"Russia\",\n",
    "                          \"Syrian Arab Republic\":\"Syria\",\n",
    "                          \"Somaliland\":\"Somalia\",\n",
    "                          \"American Samoa\":\"Samoa\",\n",
    "                          \"United Kingdom . England and Wales\":\"United Kingdom\",\n",
    "                          \"United Kingdom . Great Britain and Northern Ireland\":\"United Kingdom\"})\n",
    "data"
   ]
  },
  {
   "cell_type": "markdown",
   "id": "11b33529",
   "metadata": {},
   "source": [
    "Utiliser le max, car des fois on avait de l'information en double pour le même pays"
   ]
  },
  {
   "cell_type": "code",
   "execution_count": 706,
   "id": "540c4a07",
   "metadata": {},
   "outputs": [
    {
     "name": "stderr",
     "output_type": "stream",
     "text": [
      "C:\\Users\\Edouard\\AppData\\Local\\Temp\\ipykernel_14784\\4072986971.py:1: FutureWarning: Dropping invalid columns in DataFrameGroupBy.max is deprecated. In a future version, a TypeError will be raised. Before calling .max, select only columns which should be valid for the function.\n",
      "  data = data.groupby(\"Country\").max().reset_index()\n"
     ]
    }
   ],
   "source": [
    "data = data.groupby(\"Country\").max().reset_index()\n",
    "data.to_csv(\"../cleanedData/FinalData2.csv\", sep=\",\",index=True)\n",
    "\n",
    "# data"
   ]
  }
 ],
 "metadata": {
  "kernelspec": {
   "display_name": "Python 3",
   "language": "python",
   "name": "python3"
  },
  "language_info": {
   "codemirror_mode": {
    "name": "ipython",
    "version": 3
   },
   "file_extension": ".py",
   "mimetype": "text/x-python",
   "name": "python",
   "nbconvert_exporter": "python",
   "pygments_lexer": "ipython3",
   "version": "3.9.13"
  }
 },
 "nbformat": 4,
 "nbformat_minor": 5
}
